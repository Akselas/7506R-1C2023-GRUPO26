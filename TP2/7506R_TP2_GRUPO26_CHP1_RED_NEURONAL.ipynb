{
  "cells": [
    {
      "cell_type": "code",
      "source": [
        "#Datos\n",
        "import pandas as pd\n",
        "\n",
        "#Plots\n",
        "import sklearn as sk\n",
        "import seaborn as sns\n",
        "import matplotlib.pyplot as plt\n",
        "\n",
        "#Modelado\n",
        "from sklearn.model_selection import train_test_split\n",
        "from sklearn.metrics import recall_score, accuracy_score,f1_score, confusion_matrix, classification_report"
      ],
      "metadata": {
        "id": "sfT0CZaV2D67"
      },
      "execution_count": null,
      "outputs": []
    },
    {
      "cell_type": "code",
      "source": [
        "from google.colab import drive\n",
        "drive.mount('/content/gdrive')\n",
        "# Cargo el data set\n",
        "direc = \"/content/gdrive/MyDrive/TP2/train.csv\"\n",
        "direc_test = \"https://raw.githubusercontent.com/Akselas/7506R-1C2023-GRUPO26/main/TP2/test.csv\""
      ],
      "metadata": {
        "colab": {
          "base_uri": "https://localhost:8080/"
        },
        "id": "nz9QaSg52IYm",
        "outputId": "46104635-9d9d-4963-8327-57cde157d865"
      },
      "execution_count": null,
      "outputs": [
        {
          "output_type": "stream",
          "name": "stdout",
          "text": [
            "Mounted at /content/gdrive\n"
          ]
        }
      ]
    },
    {
      "cell_type": "markdown",
      "source": [
        "#Preprocesamiento"
      ],
      "metadata": {
        "id": "d4UzxKDbaFqy"
      }
    },
    {
      "cell_type": "code",
      "source": [
        "import numpy as np\n",
        "import random\n",
        "from keras.preprocessing.text import Tokenizer\n",
        "from keras.models import Sequential\n",
        "from keras.layers import Embedding, LSTM, Dense, Flatten\n",
        "random.seed(1)\n",
        "np.random.seed(1)\n",
        "\n",
        "import nltk\n",
        "\n",
        "data_test = pd.read_csv(direc_test)\n",
        "data_train = pd.read_csv(direc)\n",
        "\n",
        "reviews_test = data_test['review_es']\n",
        "reviews_train = data_train['review_es']\n",
        "sentiments_train = data_train['sentimiento']\n",
        "\n",
        "#Aplico stemming al dataset\n",
        "\n",
        "from nltk.stem import PorterStemmer\n",
        "\n",
        "stemmer = PorterStemmer()\n",
        "# Definir una función para aplicar stemming a un texto\n",
        "def apply_stemming(text):\n",
        "    words = text.split()\n",
        "    stemmed_words = [stemmer.stem(word) for word in words]\n",
        "    return ' '.join(stemmed_words)\n",
        "\n",
        "\n",
        "\n",
        "reviews_train_stemmed = reviews_train.apply(apply_stemming)\n",
        "reviews_train_stemmed"
      ],
      "metadata": {
        "id": "wXlKYV8h2g1_",
        "colab": {
          "base_uri": "https://localhost:8080/"
        },
        "outputId": "cb7dfa92-dd65-43ba-e9eb-f63f04531d01"
      },
      "execution_count": null,
      "outputs": [
        {
          "output_type": "execute_result",
          "data": {
            "text/plain": [
              "0        uno de lo otro crítico ha mencionado que despu...\n",
              "1        una pequeña pequeña producción.la técnica de f...\n",
              "2        pensé que esta era una manera maravillosa de p...\n",
              "3        básicamente, hay una familia dond un niño pequ...\n",
              "4        el \"amor en el tiempo\" de petter mattei es una...\n",
              "                               ...                        \n",
              "49995    pensé que esta película hizo un buen trabajo a...\n",
              "49996    mala parcela, mal diálogo, mala actuación, dir...\n",
              "49997    soy católica enseñada en escuela primaria parr...\n",
              "49998    voy a tener que estar en desacuerdo con el com...\n",
              "49999    nadi espera que la película de star trek sean ...\n",
              "Name: review_es, Length: 50000, dtype: object"
            ]
          },
          "metadata": {},
          "execution_count": 3
        }
      ]
    },
    {
      "cell_type": "code",
      "source": [
        "reviews_test_stemmed = reviews_test.apply(apply_stemming)"
      ],
      "metadata": {
        "id": "44Ym9moY9u-T"
      },
      "execution_count": null,
      "outputs": []
    },
    {
      "cell_type": "code",
      "source": [
        "reviews_test_stemmed[0]"
      ],
      "metadata": {
        "colab": {
          "base_uri": "https://localhost:8080/",
          "height": 157
        },
        "id": "NgXnJzF3AG-y",
        "outputId": "85e0aeb2-3ff4-4a0d-aa3f-b8e8d2a39c92"
      },
      "execution_count": null,
      "outputs": [
        {
          "output_type": "execute_result",
          "data": {
            "text/plain": [
              "'la mayor virtud de esta película es su existencia.el hecho de que podamo jugar con lo tópico má extremo de la identidad patria (la andaluza y la vasca) sin que nadi se escandalic ni ponga el grito en el cielo, indica mucho de nuestra madurez como nación (pese a quien pese). bueno, corrijo: el hecho de que podamo jugar y hacer mofa y befa de lo tópico sobr lo vasco y el nacionalismo vasco, sin que nadi se escandalic ni ponga el grito en el cielo, indica mucho del grado de normalización de cierta cuestion que ant eran llaga abierta siempr dispuesta a sangrar. y hago esta corrección, porqu lo andaluc han sido motivo de guasa siempr y nunca ha pasado nada.por esto mismo, el planteamiento de \"ocho apellido vascos\" es valiente, es oportuno y es oportunista. segurament sea esa una de la principal razon por la que lo español hemo acudido en masa, en una masa casi sin precedentes, a lo cine a ver est producto patrocinado por tele 5. esa junto con la acertada fecha de estreno (entr lo oscar y lo blockbust del verano) y la brutal y ejemplar campaña de marketing, la cual aplaudo y celebro.eso es todo lo que puedo celebrar de est despropósito, muy a mi pesar.siempr digo y repito eso de \"el oscuro placer de ver película mala y disfrutarlas\", y siempr insisto en que \"no hay que olvidar que el princip propósito del cine es entretener\". lo digo y lo mantengo. el problema es que \"ocho apelido vascos\" no es lo suficientement mala, ni lo suficientement friki, ni lo suficientement disparatada para ser una \"peli mala\"(como sharknado, o xanadu o condemor). y desgraciadament no es lo suficientement entretenida para perdonarl su mediocridad (siempr desd mi punto de vista).esa es precisament la palabra que mejor la define: \"mediocridad\". es dolorosament mediocre. es simple, que no sencilla. es imperson y lo peor: está hecha sin ganas.funciona porqu el planteamiento interesa, y no por novedoso (sacar un elemento de su entorno e introducirlo en otro totalment ajeno y hostil es uno de lo argumento básico en la comedia desd que el cine es cine), sino por lo que explicaba al principio.pero todo lo demá elemento apena encajan, o no lo hacen en absoluto. toda la película es una caída en picado desd un comienzo prometedor a un final vergonzoso, pasando por toda la situacion \"cómicas\" de manual y todo lo tópico má manido de la comedia de enredo. que sí, césar, que ya te oigo replicarme: \"que toda la historia están ya contadas\". tien toda la razón, pero se pueden seguir contando con un poco de ganas, o al meno de formas, si no originales, sí convincentes. y volvemo al princip problema de gran part del cine patrio (y mucho foráneo): el guión. la mayoría de lo director confunden el argumento con el guión. el argumento es el planteamiento, el guión el desarrollo. una grandísima part de la película española que llevo año sufriendo se desinflan, con suerte, a la mitad de su recorrido. poco son lo cineasta que se molestan en desarrollar su historias, meno aún en rematarla y en hacer que la cosa encajen. parec que en la escuela de cine que surgen como champiñon en est paí nuestro, se olvidan de poner \"el guión\" como asignatura.la que no ocupa hoy es un ejemplo más: hay un planteamiento interesante, aunqu torpement presentado, y ant la incapacidad (o la falta de ganas) de su director de desarrollarlo de una manera convincent (o alocadament convincente) se refugia en un enredo de principiante, del cual no sabe cómo salir, aunqu todo intuímo (y tememos) desd el principio cómo lo va a hacer: a la fuerza y sin lubricante.lo que salva est producto del descalabro total es el monologuista dani rovira, con su inspirado monólogo y su desparpajo, y karra elejald dando vida la único personaj creíbl de toda la historia. carmen machi muy bien haciendo de carmen machi, y de clara lago...llamarla actriz sería insultar al resto de la profesión (elsa pataki incluída).aún con todo: - sí, hay una cuanta situacion capac de arrancar risas, e incluso carcajada y - sí, resulta entretenida (a ratos). pero me duel pensar que ésto es lo que el público está esperando del cine español para llenar la salas. me duel pensar que el cine también, como casi todo lo ámbito de poder, está en mano de lo mediocres. y me duel pensar que sean lo sub-producto como est lo que vayan a salvar al cine español de la agua en que él sólo se ha sumergido.robándol una cita a mi amigo regino mateo y parafraseándola: \"no es lo mismo hacer película que hacer cine\"'"
            ],
            "application/vnd.google.colaboratory.intrinsic+json": {
              "type": "string"
            }
          },
          "metadata": {},
          "execution_count": 13
        }
      ]
    },
    {
      "cell_type": "code",
      "source": [
        "reviews_train_stemmed[0]"
      ],
      "metadata": {
        "colab": {
          "base_uri": "https://localhost:8080/",
          "height": 157
        },
        "id": "_2kcdNYVQOmd",
        "outputId": "9d9ab234-f143-4b03-bf99-26c84d1eee56"
      },
      "execution_count": null,
      "outputs": [
        {
          "output_type": "execute_result",
          "data": {
            "text/plain": [
              "'uno de lo otro crítico ha mencionado que despué de ver solo 1 oz episodio, estará enganchado. tienen razón, ya que esto es exactament lo que sucedió conmigo. la primera cosa que me golpeó sobr oz fue su brutalidad y su escena de violencia inconfiadas, que se encuentran a la derecha de la palabra. confía en mí, est no es un espectáculo para lo débile de corazón o tímido. est espectáculo no extra punzon con respecto a la drogas, el sexo o la violencia. es hardcore, en el uso clásico de la palabra. se llama oz, ya que es el apodo dado al penitenciario del estado de seguridad máximo de oswald. se centra principalment en la ciudad de emeralda, una sección experiment de la prisión dond toda la célula tienen frent de vidrio y se enfrentan hacia adentro, por lo que la privacidad no es alta en la agenda. em citi es el hogar de mucho ... fariarios, musulmanes, gangstas, latinos, cristianos, italianos, irlandes y má ... así que la esposas, la mirada de muerte, la relacion peligrosa y lo acuerdo sombreado nunca están lejos. yo diría el princip atractivo de el espectáculo se debe al hecho de que va dond otro espectáculo no se atreverían. olvídat de la imágen bonita pintada para la audiencia convencionales, olvidan el encanto, olviden el romanc ... oz no se mete. el primer episodio que he visto me sorprendió tan desagrad que fue surrealista, no podía decir que estaba listo para ello, pero cuando observé más, desarrollé un gusto por oz, y me acostumbré a lo alto nivel de violencia gráfica. no solo la violencia, sino la injusticia (guardia torcida que se vendrán por un níquel, lo recluso que se matarán en orden y se alejarán con él, de manera educada, lo recluso de clase media se convirtieron en perra de la prisión debido a su falta de habilidad callejera o experiencia en la prisión) viendo oz, pued sentirs cómodo con lo que es incómodo visualización ... eso es si pued ponert en contacto con tu lado má oscuro.'"
            ],
            "application/vnd.google.colaboratory.intrinsic+json": {
              "type": "string"
            }
          },
          "metadata": {},
          "execution_count": 4
        }
      ]
    },
    {
      "cell_type": "code",
      "source": [
        "#Tokenizo el dataset, tomando como maximo una cierta cantidad de feautures\n",
        "from sklearn.feature_extraction.text import CountVectorizer,TfidfVectorizer\n",
        "\n",
        "vectorizer = CountVectorizer(min_df=0.001,max_features=10000)\n",
        "matriz_reviews = vectorizer.fit_transform(reviews_train_stemmed)"
      ],
      "metadata": {
        "id": "-1abBZejPoYV"
      },
      "execution_count": null,
      "outputs": []
    },
    {
      "cell_type": "code",
      "source": [
        "len(vectorizer.vocabulary_)"
      ],
      "metadata": {
        "colab": {
          "base_uri": "https://localhost:8080/"
        },
        "id": "SPV3CUMO3Bd5",
        "outputId": "a7304b8b-4d8f-4157-90ee-073211c615e3"
      },
      "execution_count": null,
      "outputs": [
        {
          "output_type": "execute_result",
          "data": {
            "text/plain": [
              "10000"
            ]
          },
          "metadata": {},
          "execution_count": 14
        }
      ]
    },
    {
      "cell_type": "code",
      "source": [
        "labels_train = sentiments_train.replace({'positivo': 1, 'negativo': 0})\n",
        "\n",
        "x_train, x_test, y_train, y_test = train_test_split(matriz_reviews,labels_train, test_size=0.30, random_state=0)\n",
        "\n"
      ],
      "metadata": {
        "id": "K_EdzYSRv73k"
      },
      "execution_count": null,
      "outputs": []
    },
    {
      "cell_type": "markdown",
      "source": [
        "#Preparacion y entrenamiento del modelo"
      ],
      "metadata": {
        "id": "9-ENm9NaaLHC"
      }
    },
    {
      "cell_type": "code",
      "source": [
        "#preparacion del modelo\n",
        "model = Sequential()\n",
        "model.add(Embedding(10000, 200, input_length=10000))\n",
        "model.add(Flatten())\n",
        "model.add(Dense(1, activation='sigmoid'))\n",
        "model.compile(loss='binary_crossentropy', optimizer='rmsprop', metrics=['acc'])\n",
        "\n",
        "\n"
      ],
      "metadata": {
        "id": "aIyCUdY3l_PG"
      },
      "execution_count": null,
      "outputs": []
    },
    {
      "cell_type": "code",
      "source": [
        "model.summary()"
      ],
      "metadata": {
        "colab": {
          "base_uri": "https://localhost:8080/"
        },
        "id": "_oyq3rZ82RwD",
        "outputId": "0c7e5c94-097e-4dd1-ae2d-5199e2443810"
      },
      "execution_count": null,
      "outputs": [
        {
          "output_type": "stream",
          "name": "stdout",
          "text": [
            "Model: \"sequential\"\n",
            "_________________________________________________________________\n",
            " Layer (type)                Output Shape              Param #   \n",
            "=================================================================\n",
            " embedding (Embedding)       (None, 10000, 200)        2000000   \n",
            "                                                                 \n",
            " flatten (Flatten)           (None, 2000000)           0         \n",
            "                                                                 \n",
            " dense (Dense)               (None, 1)                 2000001   \n",
            "                                                                 \n",
            "=================================================================\n",
            "Total params: 4,000,001\n",
            "Trainable params: 4,000,001\n",
            "Non-trainable params: 0\n",
            "_________________________________________________________________\n"
          ]
        }
      ]
    },
    {
      "cell_type": "code",
      "source": [
        "modelo = model.fit(x_train.toarray(), y_train, epochs=3, batch_size=500)"
      ],
      "metadata": {
        "colab": {
          "base_uri": "https://localhost:8080/"
        },
        "id": "YI17iifbmAvG",
        "outputId": "1ac54018-ddaa-4bd8-c6fe-ebdd26b6ef82"
      },
      "execution_count": null,
      "outputs": [
        {
          "output_type": "stream",
          "name": "stdout",
          "text": [
            "Epoch 1/3\n",
            "70/70 [==============================] - 488s 7s/step - loss: 4.1890 - acc: 0.5535\n",
            "Epoch 2/3\n",
            "70/70 [==============================] - 484s 7s/step - loss: 0.4308 - acc: 0.8083\n",
            "Epoch 3/3\n",
            "70/70 [==============================] - 473s 7s/step - loss: 0.2857 - acc: 0.8839\n"
          ]
        }
      ]
    },
    {
      "cell_type": "code",
      "source": [
        "# Predecir las probabilidades para los datos de entrenamiento\n",
        "y_prob_test = model.predict(x_test.toarray())\n"
      ],
      "metadata": {
        "colab": {
          "base_uri": "https://localhost:8080/"
        },
        "id": "E1TUyIUHnhmW",
        "outputId": "ccb19313-3560-4fb6-d50d-3a1fdc4a3abf"
      },
      "execution_count": null,
      "outputs": [
        {
          "output_type": "stream",
          "name": "stdout",
          "text": [
            "469/469 [==============================] - 79s 168ms/step\n"
          ]
        }
      ]
    },
    {
      "cell_type": "code",
      "source": [
        "y_prob_test[0:20]"
      ],
      "metadata": {
        "colab": {
          "base_uri": "https://localhost:8080/"
        },
        "id": "b1K11H8GxDqz",
        "outputId": "97287d5f-8e0d-45a8-edb1-e024707b1ed3"
      },
      "execution_count": null,
      "outputs": [
        {
          "output_type": "execute_result",
          "data": {
            "text/plain": [
              "array([[7.7640396e-01],\n",
              "       [5.3065794e-04],\n",
              "       [8.9191192e-01],\n",
              "       [6.5544659e-01],\n",
              "       [9.8195547e-01],\n",
              "       [6.4670587e-01],\n",
              "       [9.4698828e-01],\n",
              "       [3.4956667e-01],\n",
              "       [1.2003825e-01],\n",
              "       [2.2593360e-01],\n",
              "       [2.2220092e-01],\n",
              "       [4.2649573e-03],\n",
              "       [1.2580299e-02],\n",
              "       [2.6509743e-02],\n",
              "       [4.2711160e-01],\n",
              "       [6.1712915e-01],\n",
              "       [9.8994517e-01],\n",
              "       [6.8991178e-01],\n",
              "       [9.2478418e-01],\n",
              "       [7.9485495e-03]], dtype=float32)"
            ]
          },
          "metadata": {},
          "execution_count": 45
        }
      ]
    },
    {
      "cell_type": "code",
      "source": [
        "from sklearn.metrics import confusion_matrix\n",
        "import matplotlib.pyplot as plt\n",
        "import seaborn as sns\n",
        "\n",
        "\n",
        "y_pred_test = np.where(y_prob_test>0.6,1,0)\n",
        "\n",
        "ds_validacion=pd.DataFrame(y_pred_test,y_test).reset_index()\n",
        "ds_validacion.columns=['y_pred','y_real']\n",
        "\n",
        "## # Calcular la matriz de confusión\n",
        "cm_train = confusion_matrix(ds_validacion.y_pred, ds_validacion.y_real)\n",
        "\n",
        "\n",
        "sns.heatmap(cm_train, annot=True, fmt='d', cmap='Blues')\n",
        "\n",
        "# # Agregar etiquetas a los ejes\n",
        "# plt.xlabel('Predicted')\n",
        "# plt.ylabel('True')\n",
        "\n",
        "# # Mostrar el gráfico\n",
        "plt.show()\n",
        "\n",
        "\n",
        "f1 = f1_score(ds_validacion.y_real,ds_validacion.y_pred)\n",
        "\n",
        "# # Imprimir el F1-score\n",
        "print(\"F1-score:\", f1)"
      ],
      "metadata": {
        "colab": {
          "base_uri": "https://localhost:8080/",
          "height": 447
        },
        "id": "ELp-tyQwnih9",
        "outputId": "b621162f-984c-4e60-ce9d-d0b3f90ee881"
      },
      "execution_count": null,
      "outputs": [
        {
          "output_type": "display_data",
          "data": {
            "text/plain": [
              "<Figure size 640x480 with 2 Axes>"
            ],
            "image/png": "[encoded data removed]"
          },
          "metadata": {}
        },
        {
          "output_type": "stream",
          "name": "stdout",
          "text": [
            "F1-score: 0.8721479150275375\n"
          ]
        }
      ]
    },
    {
      "cell_type": "markdown",
      "source": [
        "#prediccion\n"
      ],
      "metadata": {
        "id": "RBgKeCFJMIxm"
      }
    },
    {
      "cell_type": "code",
      "source": [
        "test_id = data_test.ID.copy()"
      ],
      "metadata": {
        "id": "YJ0ha0w-MhWm"
      },
      "execution_count": null,
      "outputs": []
    },
    {
      "cell_type": "code",
      "source": [
        "matriz_prediccion =  vectorizer.transform(reviews_test_stemmed)"
      ],
      "metadata": {
        "id": "f_PjQuOPMpjV"
      },
      "execution_count": null,
      "outputs": []
    },
    {
      "cell_type": "code",
      "source": [
        "matriz_prediccion[12].toarray()"
      ],
      "metadata": {
        "id": "-6Xlypz1OOYd",
        "colab": {
          "base_uri": "https://localhost:8080/"
        },
        "outputId": "1a45ef9b-7aad-49a2-e650-0ac51639fea4"
      },
      "execution_count": null,
      "outputs": [
        {
          "output_type": "execute_result",
          "data": {
            "text/plain": [
              "array([[0, 0, 0, ..., 0, 0, 0]])"
            ]
          },
          "metadata": {},
          "execution_count": 17
        }
      ]
    },
    {
      "cell_type": "code",
      "source": [
        "y_predict_valid = model.predict(matriz_prediccion.toarray())\n",
        "y_pred_test_valid = np.where(y_predict_valid>0.6,1,0)\n",
        "\n",
        "submit =  pd.DataFrame(zip(test_id,y_pred_test_valid),columns=['ID','sentimiento'])\n"
      ],
      "metadata": {
        "colab": {
          "base_uri": "https://localhost:8080/"
        },
        "id": "kz8A0PeUMH2-",
        "outputId": "998fc08a-a598-4674-b6f5-8cb9fb5456f1"
      },
      "execution_count": null,
      "outputs": [
        {
          "output_type": "stream",
          "name": "stdout",
          "text": [
            "269/269 [==============================] - 58s 214ms/step\n"
          ]
        }
      ]
    },
    {
      "cell_type": "code",
      "source": [
        "submit['sentimiento'] = submit['sentimiento'].astype(int)\n",
        "submit"
      ],
      "metadata": {
        "colab": {
          "base_uri": "https://localhost:8080/",
          "height": 424
        },
        "id": "z42dK7ClPCSN",
        "outputId": "79b69b2e-d599-480d-dc0d-2951d3ac1a31"
      },
      "execution_count": null,
      "outputs": [
        {
          "output_type": "execute_result",
          "data": {
            "text/plain": [
              "         ID  sentimiento\n",
              "0     60000            0\n",
              "1     60001            0\n",
              "2     60002            0\n",
              "3     60003            1\n",
              "4     60004            0\n",
              "...     ...          ...\n",
              "8594  68594            1\n",
              "8595  68595            0\n",
              "8596  68596            1\n",
              "8597  68597            0\n",
              "8598  68598            0\n",
              "\n",
              "[8599 rows x 2 columns]"
            ],
            "text/html": [
              "\n",
              "  <div id=\"df-7851f7b8-5943-492b-8357-a99e9659078a\">\n",
              "    <div class=\"colab-df-container\">\n",
              "      <div>\n",
              "<style scoped>\n",
              "    .dataframe tbody tr th:only-of-type {\n",
              "        vertical-align: middle;\n",
              "    }\n",
              "\n",
              "    .dataframe tbody tr th {\n",
              "        vertical-align: top;\n",
              "    }\n",
              "\n",
              "    .dataframe thead th {\n",
              "        text-align: right;\n",
              "    }\n",
              "</style>\n",
              "<table border=\"1\" class=\"dataframe\">\n",
              "  <thead>\n",
              "    <tr style=\"text-align: right;\">\n",
              "      <th></th>\n",
              "      <th>ID</th>\n",
              "      <th>sentimiento</th>\n",
              "    </tr>\n",
              "  </thead>\n",
              "  <tbody>\n",
              "    <tr>\n",
              "      <th>0</th>\n",
              "      <td>60000</td>\n",
              "      <td>0</td>\n",
              "    </tr>\n",
              "    <tr>\n",
              "      <th>1</th>\n",
              "      <td>60001</td>\n",
              "      <td>0</td>\n",
              "    </tr>\n",
              "    <tr>\n",
              "      <th>2</th>\n",
              "      <td>60002</td>\n",
              "      <td>0</td>\n",
              "    </tr>\n",
              "    <tr>\n",
              "      <th>3</th>\n",
              "      <td>60003</td>\n",
              "      <td>1</td>\n",
              "    </tr>\n",
              "    <tr>\n",
              "      <th>4</th>\n",
              "      <td>60004</td>\n",
              "      <td>0</td>\n",
              "    </tr>\n",
              "    <tr>\n",
              "      <th>...</th>\n",
              "      <td>...</td>\n",
              "      <td>...</td>\n",
              "    </tr>\n",
              "    <tr>\n",
              "      <th>8594</th>\n",
              "      <td>68594</td>\n",
              "      <td>1</td>\n",
              "    </tr>\n",
              "    <tr>\n",
              "      <th>8595</th>\n",
              "      <td>68595</td>\n",
              "      <td>0</td>\n",
              "    </tr>\n",
              "    <tr>\n",
              "      <th>8596</th>\n",
              "      <td>68596</td>\n",
              "      <td>1</td>\n",
              "    </tr>\n",
              "    <tr>\n",
              "      <th>8597</th>\n",
              "      <td>68597</td>\n",
              "      <td>0</td>\n",
              "    </tr>\n",
              "    <tr>\n",
              "      <th>8598</th>\n",
              "      <td>68598</td>\n",
              "      <td>0</td>\n",
              "    </tr>\n",
              "  </tbody>\n",
              "</table>\n",
              "<p>8599 rows × 2 columns</p>\n",
              "</div>\n",
              "      <button class=\"colab-df-convert\" onclick=\"convertToInteractive('df-7851f7b8-5943-492b-8357-a99e9659078a')\"\n",
              "              title=\"Convert this dataframe to an interactive table.\"\n",
              "              style=\"display:none;\">\n",
              "        \n",
              "  <svg xmlns=\"http://www.w3.org/2000/svg\" height=\"24px\"viewBox=\"0 0 24 24\"\n",
              "       width=\"24px\">\n",
              "    <path d=\"M0 0h24v24H0V0z\" fill=\"none\"/>\n",
              "    <path d=\"M18.56 5.44l.94 2.06.94-2.06 2.06-.94-2.06-.94-.94-2.06-.94 2.06-2.06.94zm-11 1L8.5 8.5l.94-2.06 2.06-.94-2.06-.94L8.5 2.5l-.94 2.06-2.06.94zm10 10l.94 2.06.94-2.06 2.06-.94-2.06-.94-.94-2.06-.94 2.06-2.06.94z\"/><path d=\"M17.41 7.96l-1.37-1.37c-.4-.4-.92-.59-1.43-.59-.52 0-1.04.2-1.43.59L10.3 9.45l-7.72 7.72c-.78.78-.78 2.05 0 2.83L4 21.41c.39.39.9.59 1.41.59.51 0 1.02-.2 1.41-.59l7.78-7.78 2.81-2.81c.8-.78.8-2.07 0-2.86zM5.41 20L4 18.59l7.72-7.72 1.47 1.35L5.41 20z\"/>\n",
              "  </svg>\n",
              "      </button>\n",
              "      \n",
              "  <style>\n",
              "    .colab-df-container {\n",
              "      display:flex;\n",
              "      flex-wrap:wrap;\n",
              "      gap: 12px;\n",
              "    }\n",
              "\n",
              "    .colab-df-convert {\n",
              "      background-color: #E8F0FE;\n",
              "      border: none;\n",
              "      border-radius: 50%;\n",
              "      cursor: pointer;\n",
              "      display: none;\n",
              "      fill: #1967D2;\n",
              "      height: 32px;\n",
              "      padding: 0 0 0 0;\n",
              "      width: 32px;\n",
              "    }\n",
              "\n",
              "    .colab-df-convert:hover {\n",
              "      background-color: #E2EBFA;\n",
              "      box-shadow: 0px 1px 2px rgba(60, 64, 67, 0.3), 0px 1px 3px 1px rgba(60, 64, 67, 0.15);\n",
              "      fill: #174EA6;\n",
              "    }\n",
              "\n",
              "    [theme=dark] .colab-df-convert {\n",
              "      background-color: #3B4455;\n",
              "      fill: #D2E3FC;\n",
              "    }\n",
              "\n",
              "    [theme=dark] .colab-df-convert:hover {\n",
              "      background-color: #434B5C;\n",
              "      box-shadow: 0px 1px 3px 1px rgba(0, 0, 0, 0.15);\n",
              "      filter: drop-shadow(0px 1px 2px rgba(0, 0, 0, 0.3));\n",
              "      fill: #FFFFFF;\n",
              "    }\n",
              "  </style>\n",
              "\n",
              "      <script>\n",
              "        const buttonEl =\n",
              "          document.querySelector('#df-7851f7b8-5943-492b-8357-a99e9659078a button.colab-df-convert');\n",
              "        buttonEl.style.display =\n",
              "          google.colab.kernel.accessAllowed ? 'block' : 'none';\n",
              "\n",
              "        async function convertToInteractive(key) {\n",
              "          const element = document.querySelector('#df-7851f7b8-5943-492b-8357-a99e9659078a');\n",
              "          const dataTable =\n",
              "            await google.colab.kernel.invokeFunction('convertToInteractive',\n",
              "                                                     [key], {});\n",
              "          if (!dataTable) return;\n",
              "\n",
              "          const docLinkHtml = 'Like what you see? Visit the ' +\n",
              "            '<a target=\"_blank\" href=https://colab.research.google.com/notebooks/data_table.ipynb>data table notebook</a>'\n",
              "            + ' to learn more about interactive tables.';\n",
              "          element.innerHTML = '';\n",
              "          dataTable['output_type'] = 'display_data';\n",
              "          await google.colab.output.renderOutput(dataTable, element);\n",
              "          const docLink = document.createElement('div');\n",
              "          docLink.innerHTML = docLinkHtml;\n",
              "          element.appendChild(docLink);\n",
              "        }\n",
              "      </script>\n",
              "    </div>\n",
              "  </div>\n",
              "  "
            ]
          },
          "metadata": {},
          "execution_count": 19
        }
      ]
    },
    {
      "cell_type": "code",
      "source": [
        "submit[\"sentimiento\"] = submit[\"sentimiento\"].apply(lambda sentimiento: 'negativo' if sentimiento == 0 else 'positivo')\n",
        "submit.head(20)"
      ],
      "metadata": {
        "colab": {
          "base_uri": "https://localhost:8080/",
          "height": 677
        },
        "id": "PyFiDtZgQIhU",
        "outputId": "b89ca0c1-e959-4170-8a78-2f5adfd31414"
      },
      "execution_count": null,
      "outputs": [
        {
          "output_type": "execute_result",
          "data": {
            "text/plain": [
              "       ID sentimiento\n",
              "0   60000    negativo\n",
              "1   60001    negativo\n",
              "2   60002    negativo\n",
              "3   60003    positivo\n",
              "4   60004    negativo\n",
              "5   60005    positivo\n",
              "6   60006    negativo\n",
              "7   60007    negativo\n",
              "8   60008    negativo\n",
              "9   60009    negativo\n",
              "10  60010    negativo\n",
              "11  60011    positivo\n",
              "12  60012    positivo\n",
              "13  60013    negativo\n",
              "14  60014    negativo\n",
              "15  60015    negativo\n",
              "16  60016    positivo\n",
              "17  60017    positivo\n",
              "18  60018    positivo\n",
              "19  60019    negativo"
            ],
            "text/html": [
              "\n",
              "  <div id=\"df-2abfb4f3-c39e-4529-84e8-f92b5f1b7e07\">\n",
              "    <div class=\"colab-df-container\">\n",
              "      <div>\n",
              "<style scoped>\n",
              "    .dataframe tbody tr th:only-of-type {\n",
              "        vertical-align: middle;\n",
              "    }\n",
              "\n",
              "    .dataframe tbody tr th {\n",
              "        vertical-align: top;\n",
              "    }\n",
              "\n",
              "    .dataframe thead th {\n",
              "        text-align: right;\n",
              "    }\n",
              "</style>\n",
              "<table border=\"1\" class=\"dataframe\">\n",
              "  <thead>\n",
              "    <tr style=\"text-align: right;\">\n",
              "      <th></th>\n",
              "      <th>ID</th>\n",
              "      <th>sentimiento</th>\n",
              "    </tr>\n",
              "  </thead>\n",
              "  <tbody>\n",
              "    <tr>\n",
              "      <th>0</th>\n",
              "      <td>60000</td>\n",
              "      <td>negativo</td>\n",
              "    </tr>\n",
              "    <tr>\n",
              "      <th>1</th>\n",
              "      <td>60001</td>\n",
              "      <td>negativo</td>\n",
              "    </tr>\n",
              "    <tr>\n",
              "      <th>2</th>\n",
              "      <td>60002</td>\n",
              "      <td>negativo</td>\n",
              "    </tr>\n",
              "    <tr>\n",
              "      <th>3</th>\n",
              "      <td>60003</td>\n",
              "      <td>positivo</td>\n",
              "    </tr>\n",
              "    <tr>\n",
              "      <th>4</th>\n",
              "      <td>60004</td>\n",
              "      <td>negativo</td>\n",
              "    </tr>\n",
              "    <tr>\n",
              "      <th>5</th>\n",
              "      <td>60005</td>\n",
              "      <td>positivo</td>\n",
              "    </tr>\n",
              "    <tr>\n",
              "      <th>6</th>\n",
              "      <td>60006</td>\n",
              "      <td>negativo</td>\n",
              "    </tr>\n",
              "    <tr>\n",
              "      <th>7</th>\n",
              "      <td>60007</td>\n",
              "      <td>negativo</td>\n",
              "    </tr>\n",
              "    <tr>\n",
              "      <th>8</th>\n",
              "      <td>60008</td>\n",
              "      <td>negativo</td>\n",
              "    </tr>\n",
              "    <tr>\n",
              "      <th>9</th>\n",
              "      <td>60009</td>\n",
              "      <td>negativo</td>\n",
              "    </tr>\n",
              "    <tr>\n",
              "      <th>10</th>\n",
              "      <td>60010</td>\n",
              "      <td>negativo</td>\n",
              "    </tr>\n",
              "    <tr>\n",
              "      <th>11</th>\n",
              "      <td>60011</td>\n",
              "      <td>positivo</td>\n",
              "    </tr>\n",
              "    <tr>\n",
              "      <th>12</th>\n",
              "      <td>60012</td>\n",
              "      <td>positivo</td>\n",
              "    </tr>\n",
              "    <tr>\n",
              "      <th>13</th>\n",
              "      <td>60013</td>\n",
              "      <td>negativo</td>\n",
              "    </tr>\n",
              "    <tr>\n",
              "      <th>14</th>\n",
              "      <td>60014</td>\n",
              "      <td>negativo</td>\n",
              "    </tr>\n",
              "    <tr>\n",
              "      <th>15</th>\n",
              "      <td>60015</td>\n",
              "      <td>negativo</td>\n",
              "    </tr>\n",
              "    <tr>\n",
              "      <th>16</th>\n",
              "      <td>60016</td>\n",
              "      <td>positivo</td>\n",
              "    </tr>\n",
              "    <tr>\n",
              "      <th>17</th>\n",
              "      <td>60017</td>\n",
              "      <td>positivo</td>\n",
              "    </tr>\n",
              "    <tr>\n",
              "      <th>18</th>\n",
              "      <td>60018</td>\n",
              "      <td>positivo</td>\n",
              "    </tr>\n",
              "    <tr>\n",
              "      <th>19</th>\n",
              "      <td>60019</td>\n",
              "      <td>negativo</td>\n",
              "    </tr>\n",
              "  </tbody>\n",
              "</table>\n",
              "</div>\n",
              "      <button class=\"colab-df-convert\" onclick=\"convertToInteractive('df-2abfb4f3-c39e-4529-84e8-f92b5f1b7e07')\"\n",
              "              title=\"Convert this dataframe to an interactive table.\"\n",
              "              style=\"display:none;\">\n",
              "        \n",
              "  <svg xmlns=\"http://www.w3.org/2000/svg\" height=\"24px\"viewBox=\"0 0 24 24\"\n",
              "       width=\"24px\">\n",
              "    <path d=\"M0 0h24v24H0V0z\" fill=\"none\"/>\n",
              "    <path d=\"M18.56 5.44l.94 2.06.94-2.06 2.06-.94-2.06-.94-.94-2.06-.94 2.06-2.06.94zm-11 1L8.5 8.5l.94-2.06 2.06-.94-2.06-.94L8.5 2.5l-.94 2.06-2.06.94zm10 10l.94 2.06.94-2.06 2.06-.94-2.06-.94-.94-2.06-.94 2.06-2.06.94z\"/><path d=\"M17.41 7.96l-1.37-1.37c-.4-.4-.92-.59-1.43-.59-.52 0-1.04.2-1.43.59L10.3 9.45l-7.72 7.72c-.78.78-.78 2.05 0 2.83L4 21.41c.39.39.9.59 1.41.59.51 0 1.02-.2 1.41-.59l7.78-7.78 2.81-2.81c.8-.78.8-2.07 0-2.86zM5.41 20L4 18.59l7.72-7.72 1.47 1.35L5.41 20z\"/>\n",
              "  </svg>\n",
              "      </button>\n",
              "      \n",
              "  <style>\n",
              "    .colab-df-container {\n",
              "      display:flex;\n",
              "      flex-wrap:wrap;\n",
              "      gap: 12px;\n",
              "    }\n",
              "\n",
              "    .colab-df-convert {\n",
              "      background-color: #E8F0FE;\n",
              "      border: none;\n",
              "      border-radius: 50%;\n",
              "      cursor: pointer;\n",
              "      display: none;\n",
              "      fill: #1967D2;\n",
              "      height: 32px;\n",
              "      padding: 0 0 0 0;\n",
              "      width: 32px;\n",
              "    }\n",
              "\n",
              "    .colab-df-convert:hover {\n",
              "      background-color: #E2EBFA;\n",
              "      box-shadow: 0px 1px 2px rgba(60, 64, 67, 0.3), 0px 1px 3px 1px rgba(60, 64, 67, 0.15);\n",
              "      fill: #174EA6;\n",
              "    }\n",
              "\n",
              "    [theme=dark] .colab-df-convert {\n",
              "      background-color: #3B4455;\n",
              "      fill: #D2E3FC;\n",
              "    }\n",
              "\n",
              "    [theme=dark] .colab-df-convert:hover {\n",
              "      background-color: #434B5C;\n",
              "      box-shadow: 0px 1px 3px 1px rgba(0, 0, 0, 0.15);\n",
              "      filter: drop-shadow(0px 1px 2px rgba(0, 0, 0, 0.3));\n",
              "      fill: #FFFFFF;\n",
              "    }\n",
              "  </style>\n",
              "\n",
              "      <script>\n",
              "        const buttonEl =\n",
              "          document.querySelector('#df-2abfb4f3-c39e-4529-84e8-f92b5f1b7e07 button.colab-df-convert');\n",
              "        buttonEl.style.display =\n",
              "          google.colab.kernel.accessAllowed ? 'block' : 'none';\n",
              "\n",
              "        async function convertToInteractive(key) {\n",
              "          const element = document.querySelector('#df-2abfb4f3-c39e-4529-84e8-f92b5f1b7e07');\n",
              "          const dataTable =\n",
              "            await google.colab.kernel.invokeFunction('convertToInteractive',\n",
              "                                                     [key], {});\n",
              "          if (!dataTable) return;\n",
              "\n",
              "          const docLinkHtml = 'Like what you see? Visit the ' +\n",
              "            '<a target=\"_blank\" href=https://colab.research.google.com/notebooks/data_table.ipynb>data table notebook</a>'\n",
              "            + ' to learn more about interactive tables.';\n",
              "          element.innerHTML = '';\n",
              "          dataTable['output_type'] = 'display_data';\n",
              "          await google.colab.output.renderOutput(dataTable, element);\n",
              "          const docLink = document.createElement('div');\n",
              "          docLink.innerHTML = docLinkHtml;\n",
              "          element.appendChild(docLink);\n",
              "        }\n",
              "      </script>\n",
              "    </div>\n",
              "  </div>\n",
              "  "
            ]
          },
          "metadata": {},
          "execution_count": 20
        }
      ]
    },
    {
      "cell_type": "code",
      "source": [
        "submit.to_csv('./neural_network_submit12.csv',index=False)"
      ],
      "metadata": {
        "id": "wJyIKK5MPiV0"
      },
      "execution_count": null,
      "outputs": []
    },
    {
      "cell_type": "markdown",
      "source": [
        "#Generacion de modelo"
      ],
      "metadata": {
        "id": "yGMBHt_gXH3J"
      }
    },
    {
      "cell_type": "code",
      "source": [
        "import keras"
      ],
      "metadata": {
        "id": "zTi9aEH0Yl6i"
      },
      "execution_count": null,
      "outputs": []
    },
    {
      "cell_type": "code",
      "source": [
        "model.save(\"modelo_best_red_tp2.h5\")"
      ],
      "metadata": {
        "id": "Bm6TlJlwXHfS"
      },
      "execution_count": null,
      "outputs": []
    },
    {
      "cell_type": "code",
      "source": [
        "nuevo_modelo = keras.models.load_model(\"modelo_best_red_tp2.h5\")\n",
        "a = nuevo_modelo.predict(x_test.toarray())"
      ],
      "metadata": {
        "colab": {
          "base_uri": "https://localhost:8080/"
        },
        "id": "8_wRQ-b4YKIC",
        "outputId": "44c34b76-7b96-4984-9980-d3f2943f7c03"
      },
      "execution_count": null,
      "outputs": [
        {
          "output_type": "stream",
          "name": "stdout",
          "text": [
            "469/469 [==============================] - 91s 192ms/step\n"
          ]
        }
      ]
    },
    {
      "cell_type": "markdown",
      "source": [
        "##Metrica de presicion y recall"
      ],
      "metadata": {
        "id": "34yN24VNp50J"
      }
    },
    {
      "cell_type": "code",
      "source": [
        "y_pred_test = np.where(a>0.6,1,0)\n",
        "\n",
        "ds_validacion=pd.DataFrame(y_pred_test,y_test).reset_index()\n",
        "ds_validacion.columns=['y_pred','y_real']\n"
      ],
      "metadata": {
        "id": "bd_c8QSIn5xZ"
      },
      "execution_count": null,
      "outputs": []
    },
    {
      "cell_type": "code",
      "source": [
        "from sklearn.model_selection import train_test_split\n",
        "from sklearn.metrics import recall_score, accuracy_score,f1_score, confusion_matrix, classification_report\n",
        "print(classification_report(ds_validacion.y_real, ds_validacion.y_pred))"
      ],
      "metadata": {
        "colab": {
          "base_uri": "https://localhost:8080/"
        },
        "id": "SBxcGSqDlT-L",
        "outputId": "6ebb0d52-9615-41e2-cb51-6b0e9248e7a3"
      },
      "execution_count": null,
      "outputs": [
        {
          "output_type": "stream",
          "name": "stdout",
          "text": [
            "              precision    recall  f1-score   support\n",
            "\n",
            "           0       0.85      0.89      0.87      7208\n",
            "           1       0.89      0.85      0.87      7792\n",
            "\n",
            "    accuracy                           0.87     15000\n",
            "   macro avg       0.87      0.87      0.87     15000\n",
            "weighted avg       0.87      0.87      0.87     15000\n",
            "\n"
          ]
        }
      ]
    }
  ],
  "metadata": {
    "colab": {
      "provenance": []
    },
    "kernelspec": {
      "display_name": "Python 3",
      "name": "python3"
    }
  },
  "nbformat": 4,
  "nbformat_minor": 0
}