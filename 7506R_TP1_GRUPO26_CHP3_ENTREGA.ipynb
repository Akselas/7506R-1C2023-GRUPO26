{
  "cells": [
    {
      "cell_type": "markdown",
      "metadata": {
        "id": "W8i9f0u6XMG5"
      },
      "source": [
        "# **K nearest neighbours**"
      ]
    },
    {
      "cell_type": "markdown",
      "metadata": {
        "id": "r3KUWbzVjJa4"
      },
      "source": [
        "## Preprocesamiento"
      ]
    },
    {
      "cell_type": "code",
      "execution_count": null,
      "metadata": {
        "id": "J_xDlATvXI1r"
      },
      "outputs": [],
      "source": [
        "#Datos\n",
        "import numpy as np\n",
        "import pandas as pd\n",
        "\n",
        "#Plots\n",
        "import matplotlib.pyplot as plt\n",
        "import seaborn as sns\n",
        "\n",
        "# Outliers\n",
        "import scipy.stats as st\n",
        "\n",
        "#Modelado\n",
        "from sklearn.model_selection import train_test_split\n",
        "from sklearn.neighbors import KNeighborsClassifier\n",
        "from sklearn.metrics import accuracy_score\n",
        "\n",
        "# Cargo el data set\n",
        "direc = \"https://raw.githubusercontent.com/Akselas/7506R-1C2023-GRUPO26/main/hotels_train.csv\"\n",
        "direc_test = \"https://raw.githubusercontent.com/Akselas/7506R-1C2023-GRUPO26/main/hotels_test.csv\"\n",
        "df_test = pd.read_csv(direc_test)\n",
        "df = pd.read_csv(direc)\n",
        "df_filtrado  = df.copy()\n",
        "\n"
      ]
    },
    {
      "cell_type": "code",
      "execution_count": null,
      "metadata": {
        "colab": {
          "base_uri": "https://localhost:8080/"
        },
        "id": "fJnGEFzJYGoZ",
        "outputId": "f2943053-e86c-497c-d945-0a891c414a1d"
      },
      "outputs": [
        {
          "data": {
            "text/html": [
              "\n",
              "  <div id=\"df-4b7b979c-e59b-4bc0-a3e1-00cc3a95a67e\">\n",
              "    <div class=\"colab-df-container\">\n",
              "      <div>\n",
              "<style scoped>\n",
              "    .dataframe tbody tr th:only-of-type {\n",
              "        vertical-align: middle;\n",
              "    }\n",
              "\n",
              "    .dataframe tbody tr th {\n",
              "        vertical-align: top;\n",
              "    }\n",
              "\n",
              "    .dataframe thead th {\n",
              "        text-align: right;\n",
              "    }\n",
              "</style>\n",
              "<table border=\"1\" class=\"dataframe\">\n",
              "  <thead>\n",
              "    <tr style=\"text-align: right;\">\n",
              "      <th></th>\n",
              "      <th>index</th>\n",
              "      <th>hotel</th>\n",
              "      <th>lead_time</th>\n",
              "      <th>arrival_date_year</th>\n",
              "      <th>arrival_date_month</th>\n",
              "      <th>arrival_date_week_number</th>\n",
              "      <th>arrival_date_day_of_month</th>\n",
              "      <th>stays_in_weekend_nights</th>\n",
              "      <th>stays_in_week_nights</th>\n",
              "      <th>adults</th>\n",
              "      <th>...</th>\n",
              "      <th>assigned_room_type</th>\n",
              "      <th>booking_changes</th>\n",
              "      <th>deposit_type</th>\n",
              "      <th>agent</th>\n",
              "      <th>days_in_waiting_list</th>\n",
              "      <th>customer_type</th>\n",
              "      <th>adr</th>\n",
              "      <th>required_car_parking_spaces</th>\n",
              "      <th>total_of_special_requests</th>\n",
              "      <th>is_canceled</th>\n",
              "    </tr>\n",
              "  </thead>\n",
              "  <tbody>\n",
              "    <tr>\n",
              "      <th>0</th>\n",
              "      <td>0</td>\n",
              "      <td>City Hotel</td>\n",
              "      <td>49</td>\n",
              "      <td>2016</td>\n",
              "      <td>September</td>\n",
              "      <td>37</td>\n",
              "      <td>5</td>\n",
              "      <td>1</td>\n",
              "      <td>2</td>\n",
              "      <td>1</td>\n",
              "      <td>...</td>\n",
              "      <td>D</td>\n",
              "      <td>0</td>\n",
              "      <td>No Deposit</td>\n",
              "      <td>9.0</td>\n",
              "      <td>0</td>\n",
              "      <td>Transient</td>\n",
              "      <td>115.50</td>\n",
              "      <td>0</td>\n",
              "      <td>1</td>\n",
              "      <td>1</td>\n",
              "    </tr>\n",
              "    <tr>\n",
              "      <th>1</th>\n",
              "      <td>1</td>\n",
              "      <td>Resort Hotel</td>\n",
              "      <td>4</td>\n",
              "      <td>2015</td>\n",
              "      <td>October</td>\n",
              "      <td>44</td>\n",
              "      <td>31</td>\n",
              "      <td>0</td>\n",
              "      <td>1</td>\n",
              "      <td>2</td>\n",
              "      <td>...</td>\n",
              "      <td>A</td>\n",
              "      <td>0</td>\n",
              "      <td>No Deposit</td>\n",
              "      <td>0.0</td>\n",
              "      <td>0</td>\n",
              "      <td>Transient</td>\n",
              "      <td>42.00</td>\n",
              "      <td>1</td>\n",
              "      <td>0</td>\n",
              "      <td>0</td>\n",
              "    </tr>\n",
              "    <tr>\n",
              "      <th>2</th>\n",
              "      <td>2</td>\n",
              "      <td>City Hotel</td>\n",
              "      <td>25</td>\n",
              "      <td>2016</td>\n",
              "      <td>October</td>\n",
              "      <td>42</td>\n",
              "      <td>13</td>\n",
              "      <td>0</td>\n",
              "      <td>1</td>\n",
              "      <td>2</td>\n",
              "      <td>...</td>\n",
              "      <td>F</td>\n",
              "      <td>0</td>\n",
              "      <td>No Deposit</td>\n",
              "      <td>9.0</td>\n",
              "      <td>0</td>\n",
              "      <td>Transient</td>\n",
              "      <td>229.00</td>\n",
              "      <td>0</td>\n",
              "      <td>2</td>\n",
              "      <td>0</td>\n",
              "    </tr>\n",
              "    <tr>\n",
              "      <th>3</th>\n",
              "      <td>3</td>\n",
              "      <td>City Hotel</td>\n",
              "      <td>26</td>\n",
              "      <td>2016</td>\n",
              "      <td>December</td>\n",
              "      <td>51</td>\n",
              "      <td>12</td>\n",
              "      <td>2</td>\n",
              "      <td>5</td>\n",
              "      <td>2</td>\n",
              "      <td>...</td>\n",
              "      <td>A</td>\n",
              "      <td>0</td>\n",
              "      <td>Non Refund</td>\n",
              "      <td>otro</td>\n",
              "      <td>0</td>\n",
              "      <td>Transient</td>\n",
              "      <td>75.00</td>\n",
              "      <td>0</td>\n",
              "      <td>0</td>\n",
              "      <td>1</td>\n",
              "    </tr>\n",
              "    <tr>\n",
              "      <th>4</th>\n",
              "      <td>4</td>\n",
              "      <td>City Hotel</td>\n",
              "      <td>104</td>\n",
              "      <td>2017</td>\n",
              "      <td>March</td>\n",
              "      <td>12</td>\n",
              "      <td>19</td>\n",
              "      <td>2</td>\n",
              "      <td>5</td>\n",
              "      <td>2</td>\n",
              "      <td>...</td>\n",
              "      <td>A</td>\n",
              "      <td>0</td>\n",
              "      <td>No Deposit</td>\n",
              "      <td>otro</td>\n",
              "      <td>0</td>\n",
              "      <td>Transient-Party</td>\n",
              "      <td>75.00</td>\n",
              "      <td>0</td>\n",
              "      <td>1</td>\n",
              "      <td>0</td>\n",
              "    </tr>\n",
              "    <tr>\n",
              "      <th>...</th>\n",
              "      <td>...</td>\n",
              "      <td>...</td>\n",
              "      <td>...</td>\n",
              "      <td>...</td>\n",
              "      <td>...</td>\n",
              "      <td>...</td>\n",
              "      <td>...</td>\n",
              "      <td>...</td>\n",
              "      <td>...</td>\n",
              "      <td>...</td>\n",
              "      <td>...</td>\n",
              "      <td>...</td>\n",
              "      <td>...</td>\n",
              "      <td>...</td>\n",
              "      <td>...</td>\n",
              "      <td>...</td>\n",
              "      <td>...</td>\n",
              "      <td>...</td>\n",
              "      <td>...</td>\n",
              "      <td>...</td>\n",
              "      <td>...</td>\n",
              "    </tr>\n",
              "    <tr>\n",
              "      <th>61828</th>\n",
              "      <td>61908</td>\n",
              "      <td>Resort Hotel</td>\n",
              "      <td>24</td>\n",
              "      <td>2017</td>\n",
              "      <td>January</td>\n",
              "      <td>4</td>\n",
              "      <td>27</td>\n",
              "      <td>0</td>\n",
              "      <td>2</td>\n",
              "      <td>2</td>\n",
              "      <td>...</td>\n",
              "      <td>D</td>\n",
              "      <td>0</td>\n",
              "      <td>No Deposit</td>\n",
              "      <td>240.0</td>\n",
              "      <td>0</td>\n",
              "      <td>Transient</td>\n",
              "      <td>48.00</td>\n",
              "      <td>0</td>\n",
              "      <td>1</td>\n",
              "      <td>1</td>\n",
              "    </tr>\n",
              "    <tr>\n",
              "      <th>61829</th>\n",
              "      <td>61909</td>\n",
              "      <td>City Hotel</td>\n",
              "      <td>0</td>\n",
              "      <td>2016</td>\n",
              "      <td>September</td>\n",
              "      <td>36</td>\n",
              "      <td>2</td>\n",
              "      <td>0</td>\n",
              "      <td>1</td>\n",
              "      <td>1</td>\n",
              "      <td>...</td>\n",
              "      <td>A</td>\n",
              "      <td>0</td>\n",
              "      <td>No Deposit</td>\n",
              "      <td>0.0</td>\n",
              "      <td>0</td>\n",
              "      <td>Transient</td>\n",
              "      <td>149.00</td>\n",
              "      <td>0</td>\n",
              "      <td>0</td>\n",
              "      <td>0</td>\n",
              "    </tr>\n",
              "    <tr>\n",
              "      <th>61830</th>\n",
              "      <td>61910</td>\n",
              "      <td>City Hotel</td>\n",
              "      <td>10</td>\n",
              "      <td>2017</td>\n",
              "      <td>May</td>\n",
              "      <td>19</td>\n",
              "      <td>8</td>\n",
              "      <td>1</td>\n",
              "      <td>2</td>\n",
              "      <td>1</td>\n",
              "      <td>...</td>\n",
              "      <td>A</td>\n",
              "      <td>0</td>\n",
              "      <td>No Deposit</td>\n",
              "      <td>0.0</td>\n",
              "      <td>0</td>\n",
              "      <td>Transient</td>\n",
              "      <td>95.00</td>\n",
              "      <td>0</td>\n",
              "      <td>0</td>\n",
              "      <td>0</td>\n",
              "    </tr>\n",
              "    <tr>\n",
              "      <th>61831</th>\n",
              "      <td>61911</td>\n",
              "      <td>Resort Hotel</td>\n",
              "      <td>143</td>\n",
              "      <td>2015</td>\n",
              "      <td>October</td>\n",
              "      <td>41</td>\n",
              "      <td>10</td>\n",
              "      <td>2</td>\n",
              "      <td>5</td>\n",
              "      <td>2</td>\n",
              "      <td>...</td>\n",
              "      <td>A</td>\n",
              "      <td>0</td>\n",
              "      <td>Non Refund</td>\n",
              "      <td>otro</td>\n",
              "      <td>0</td>\n",
              "      <td>Transient</td>\n",
              "      <td>36.05</td>\n",
              "      <td>0</td>\n",
              "      <td>0</td>\n",
              "      <td>1</td>\n",
              "    </tr>\n",
              "    <tr>\n",
              "      <th>61832</th>\n",
              "      <td>61912</td>\n",
              "      <td>City Hotel</td>\n",
              "      <td>57</td>\n",
              "      <td>2016</td>\n",
              "      <td>April</td>\n",
              "      <td>17</td>\n",
              "      <td>17</td>\n",
              "      <td>2</td>\n",
              "      <td>5</td>\n",
              "      <td>2</td>\n",
              "      <td>...</td>\n",
              "      <td>D</td>\n",
              "      <td>1</td>\n",
              "      <td>No Deposit</td>\n",
              "      <td>9.0</td>\n",
              "      <td>0</td>\n",
              "      <td>Transient</td>\n",
              "      <td>143.29</td>\n",
              "      <td>0</td>\n",
              "      <td>0</td>\n",
              "      <td>1</td>\n",
              "    </tr>\n",
              "  </tbody>\n",
              "</table>\n",
              "<p>61833 rows × 30 columns</p>\n",
              "</div>\n",
              "      <button class=\"colab-df-convert\" onclick=\"convertToInteractive('df-4b7b979c-e59b-4bc0-a3e1-00cc3a95a67e')\"\n",
              "              title=\"Convert this dataframe to an interactive table.\"\n",
              "              style=\"display:none;\">\n",
              "        \n",
              "  <svg xmlns=\"http://www.w3.org/2000/svg\" height=\"24px\"viewBox=\"0 0 24 24\"\n",
              "       width=\"24px\">\n",
              "    <path d=\"M0 0h24v24H0V0z\" fill=\"none\"/>\n",
              "    <path d=\"M18.56 5.44l.94 2.06.94-2.06 2.06-.94-2.06-.94-.94-2.06-.94 2.06-2.06.94zm-11 1L8.5 8.5l.94-2.06 2.06-.94-2.06-.94L8.5 2.5l-.94 2.06-2.06.94zm10 10l.94 2.06.94-2.06 2.06-.94-2.06-.94-.94-2.06-.94 2.06-2.06.94z\"/><path d=\"M17.41 7.96l-1.37-1.37c-.4-.4-.92-.59-1.43-.59-.52 0-1.04.2-1.43.59L10.3 9.45l-7.72 7.72c-.78.78-.78 2.05 0 2.83L4 21.41c.39.39.9.59 1.41.59.51 0 1.02-.2 1.41-.59l7.78-7.78 2.81-2.81c.8-.78.8-2.07 0-2.86zM5.41 20L4 18.59l7.72-7.72 1.47 1.35L5.41 20z\"/>\n",
              "  </svg>\n",
              "      </button>\n",
              "      \n",
              "  <style>\n",
              "    .colab-df-container {\n",
              "      display:flex;\n",
              "      flex-wrap:wrap;\n",
              "      gap: 12px;\n",
              "    }\n",
              "\n",
              "    .colab-df-convert {\n",
              "      background-color: #E8F0FE;\n",
              "      border: none;\n",
              "      border-radius: 50%;\n",
              "      cursor: pointer;\n",
              "      display: none;\n",
              "      fill: #1967D2;\n",
              "      height: 32px;\n",
              "      padding: 0 0 0 0;\n",
              "      width: 32px;\n",
              "    }\n",
              "\n",
              "    .colab-df-convert:hover {\n",
              "      background-color: #E2EBFA;\n",
              "      box-shadow: 0px 1px 2px rgba(60, 64, 67, 0.3), 0px 1px 3px 1px rgba(60, 64, 67, 0.15);\n",
              "      fill: #174EA6;\n",
              "    }\n",
              "\n",
              "    [theme=dark] .colab-df-convert {\n",
              "      background-color: #3B4455;\n",
              "      fill: #D2E3FC;\n",
              "    }\n",
              "\n",
              "    [theme=dark] .colab-df-convert:hover {\n",
              "      background-color: #434B5C;\n",
              "      box-shadow: 0px 1px 3px 1px rgba(0, 0, 0, 0.15);\n",
              "      filter: drop-shadow(0px 1px 2px rgba(0, 0, 0, 0.3));\n",
              "      fill: #FFFFFF;\n",
              "    }\n",
              "  </style>\n",
              "\n",
              "      <script>\n",
              "        const buttonEl =\n",
              "          document.querySelector('#df-4b7b979c-e59b-4bc0-a3e1-00cc3a95a67e button.colab-df-convert');\n",
              "        buttonEl.style.display =\n",
              "          google.colab.kernel.accessAllowed ? 'block' : 'none';\n",
              "\n",
              "        async function convertToInteractive(key) {\n",
              "          const element = document.querySelector('#df-4b7b979c-e59b-4bc0-a3e1-00cc3a95a67e');\n",
              "          const dataTable =\n",
              "            await google.colab.kernel.invokeFunction('convertToInteractive',\n",
              "                                                     [key], {});\n",
              "          if (!dataTable) return;\n",
              "\n",
              "          const docLinkHtml = 'Like what you see? Visit the ' +\n",
              "            '<a target=\"_blank\" href=https://colab.research.google.com/notebooks/data_table.ipynb>data table notebook</a>'\n",
              "            + ' to learn more about interactive tables.';\n",
              "          element.innerHTML = '';\n",
              "          dataTable['output_type'] = 'display_data';\n",
              "          await google.colab.output.renderOutput(dataTable, element);\n",
              "          const docLink = document.createElement('div');\n",
              "          docLink.innerHTML = docLinkHtml;\n",
              "          element.appendChild(docLink);\n",
              "        }\n",
              "      </script>\n",
              "    </div>\n",
              "  </div>\n",
              "  "
            ],
            "text/plain": [
              "       index         hotel  lead_time  arrival_date_year arrival_date_month  \\\n",
              "0          0    City Hotel         49               2016          September   \n",
              "1          1  Resort Hotel          4               2015            October   \n",
              "2          2    City Hotel         25               2016            October   \n",
              "3          3    City Hotel         26               2016           December   \n",
              "4          4    City Hotel        104               2017              March   \n",
              "...      ...           ...        ...                ...                ...   \n",
              "61828  61908  Resort Hotel         24               2017            January   \n",
              "61829  61909    City Hotel          0               2016          September   \n",
              "61830  61910    City Hotel         10               2017                May   \n",
              "61831  61911  Resort Hotel        143               2015            October   \n",
              "61832  61912    City Hotel         57               2016              April   \n",
              "\n",
              "       arrival_date_week_number  arrival_date_day_of_month  \\\n",
              "0                            37                          5   \n",
              "1                            44                         31   \n",
              "2                            42                         13   \n",
              "3                            51                         12   \n",
              "4                            12                         19   \n",
              "...                         ...                        ...   \n",
              "61828                         4                         27   \n",
              "61829                        36                          2   \n",
              "61830                        19                          8   \n",
              "61831                        41                         10   \n",
              "61832                        17                         17   \n",
              "\n",
              "       stays_in_weekend_nights  stays_in_week_nights  adults  ...  \\\n",
              "0                            1                     2       1  ...   \n",
              "1                            0                     1       2  ...   \n",
              "2                            0                     1       2  ...   \n",
              "3                            2                     5       2  ...   \n",
              "4                            2                     5       2  ...   \n",
              "...                        ...                   ...     ...  ...   \n",
              "61828                        0                     2       2  ...   \n",
              "61829                        0                     1       1  ...   \n",
              "61830                        1                     2       1  ...   \n",
              "61831                        2                     5       2  ...   \n",
              "61832                        2                     5       2  ...   \n",
              "\n",
              "       assigned_room_type  booking_changes deposit_type  agent  \\\n",
              "0                       D                0   No Deposit    9.0   \n",
              "1                       A                0   No Deposit    0.0   \n",
              "2                       F                0   No Deposit    9.0   \n",
              "3                       A                0   Non Refund   otro   \n",
              "4                       A                0   No Deposit   otro   \n",
              "...                   ...              ...          ...    ...   \n",
              "61828                   D                0   No Deposit  240.0   \n",
              "61829                   A                0   No Deposit    0.0   \n",
              "61830                   A                0   No Deposit    0.0   \n",
              "61831                   A                0   Non Refund   otro   \n",
              "61832                   D                1   No Deposit    9.0   \n",
              "\n",
              "      days_in_waiting_list    customer_type     adr  \\\n",
              "0                        0        Transient  115.50   \n",
              "1                        0        Transient   42.00   \n",
              "2                        0        Transient  229.00   \n",
              "3                        0        Transient   75.00   \n",
              "4                        0  Transient-Party   75.00   \n",
              "...                    ...              ...     ...   \n",
              "61828                    0        Transient   48.00   \n",
              "61829                    0        Transient  149.00   \n",
              "61830                    0        Transient   95.00   \n",
              "61831                    0        Transient   36.05   \n",
              "61832                    0        Transient  143.29   \n",
              "\n",
              "       required_car_parking_spaces  total_of_special_requests is_canceled  \n",
              "0                                0                          1           1  \n",
              "1                                1                          0           0  \n",
              "2                                0                          2           0  \n",
              "3                                0                          0           1  \n",
              "4                                0                          1           0  \n",
              "...                            ...                        ...         ...  \n",
              "61828                            0                          1           1  \n",
              "61829                            0                          0           0  \n",
              "61830                            0                          0           0  \n",
              "61831                            0                          0           1  \n",
              "61832                            0                          0           1  \n",
              "\n",
              "[61833 rows x 30 columns]"
            ]
          },
          "execution_count": 94,
          "metadata": {},
          "output_type": "execute_result"
        }
      ],
      "source": [
        "# Limpieza del dataset\n",
        "\n",
        "# Eliminamos columnas para train\n",
        "df_filtrado = df_filtrado.drop('id', axis=1)\n",
        "df_filtrado = df_filtrado.drop(\"reservation_status\", axis=1)\n",
        "df_filtrado = df_filtrado.drop(\"reservation_status_date\", axis=1)\n",
        "df_filtrado = df_filtrado.drop(\"company\", axis=1)\n",
        "\n",
        "# Eliminamos columnas para test\n",
        "test_id = df_test.id.copy()\n",
        "df_test = df_test.drop('id', axis=1)\n",
        "df_test = df_test.drop(\"reservation_status\", axis=1)\n",
        "df_test = df_test.drop(\"reservation_status_date\", axis=1)\n",
        "df_test = df_test.drop(\"company\", axis=1)\n",
        "\n",
        "# Se reemplazan los valores nulos por 0 en agents\n",
        "df_filtrado['agent'] = df_filtrado['agent'].fillna(0)\n",
        "df_filtrado['agent'] = df_filtrado['agent'].astype(str)\n",
        "\n",
        "df_test['agent'] = df_test['agent'].fillna(0)\n",
        "df_test['agent'] = df_test['agent'].astype(str)\n",
        "\n",
        "\n",
        "#Categorizo los agentes menos populares(no incluyo los agentes 0)\n",
        "agentes_populares = df_filtrado['agent'].value_counts().index.to_list()[0:14]\n",
        "def es_agente_popular(agent):\n",
        "  if agent in agentes_populares:\n",
        "    return agent\n",
        "  elif agent == 0:\n",
        "    return agent\n",
        "  else:\n",
        "    return 'otro'\n",
        "\n",
        "df_filtrado['agent'] = df_filtrado['agent'].apply(es_agente_popular )\n",
        "\n",
        "# Aca la transformacion aplicada viene del dataset de train\n",
        "df_test['agent'] = df_test['agent'].apply(es_agente_popular )\n",
        "\n",
        "\n",
        "# Reemplazamos todas las aparaiciones de paises con pocas apariciones en un pais \"otro\"\n",
        "paises = df_filtrado['country'].value_counts()\n",
        "paises_atipicos = paises[ paises <=100].index.to_list()\n",
        "def es_pais_atipico(pais):\n",
        "  if pais in paises_atipicos or pd.isna(pais) :\n",
        "    return 'otro'\n",
        "  else:\n",
        "    return pais\n",
        "\n",
        "# Aca la transformacion aplicada viene del dataset de train\n",
        "df_filtrado['country'] = df_filtrado['country'].apply( es_pais_atipico)\n",
        "\n",
        "df_test['country'] = df_test['country'].apply(es_pais_atipico)\n",
        "\n",
        "\n",
        "# Esta funcion es solo para test, a todos los paises que no estan en train los categoriza como otro\n",
        "paises_tipicos = paises[ paises > 100].index.to_list()\n",
        "def pertenece_a_pais_de_train(pais):\n",
        "  if pais in paises_atipicos or pais not in paises_tipicos or pd.isna(pais) :\n",
        "    return 'otro'\n",
        "  else:\n",
        "    return pais\n",
        "df_test['country'] = df_test['country'].apply(pertenece_a_pais_de_train)\n",
        "\n",
        "\n",
        "\n",
        "\n",
        "#caso de datos nulos en children\n",
        "#le agrego el valor que mas predomina, que es 0\n",
        "df_filtrado['children'] = df_filtrado['children'].apply(lambda child: 0 if pd.isna(child) else child)\n",
        "df_test['children'] = df_test['children'].apply(lambda child: 0 if pd.isna(child) else child)\n",
        "\n",
        "\n",
        "#caso market segment y distribution channel\n",
        "a = df_filtrado[df_filtrado['market_segment'] == 'Undefined'].index\n",
        "df_filtrado.drop(a,  inplace=True, errors='ignore')\n",
        "\n",
        "b = df_filtrado[df_filtrado['distribution_channel'] == 'Undefined'].index\n",
        "df_filtrado.drop(b,  inplace=True, errors='ignore')\n",
        "\n",
        "# No se aplica esto sobre test xq no esta el valor Undefined presente\n",
        "\n",
        "\n",
        "##categorizo las columnas menos populares con el nombre de \"otro\"\n",
        "rooms_mas_populares = df_filtrado['assigned_room_type'].value_counts().index.to_list()[0:8]\n",
        "df_filtrado['assigned_room_type'] =df_filtrado['assigned_room_type'].apply( lambda room: 'otro' if room not in rooms_mas_populares else room)\n",
        "df_filtrado['reserved_room_type'] =df_filtrado['reserved_room_type'].apply( lambda room: 'otro' if room not in rooms_mas_populares else room)\n",
        "\n",
        "# Aca la transformacion aplicada viene del dataset de train\n",
        "df_test['assigned_room_type'] =df_test['assigned_room_type'].apply( lambda room: 'otro' if room not in rooms_mas_populares else room)\n",
        "df_test['reserved_room_type'] =df_test['reserved_room_type'].apply( lambda room: 'otro' if room not in rooms_mas_populares else room)\n",
        "\n",
        "\n",
        "# Elimino las reservas sin personas\n",
        "indices_filas_cero = df_filtrado.loc[(df['children'] == 0) & (df['adults'] == 0) & (df['babies'] == 0)].index\n",
        "df_filtrado = df_filtrado.drop(indices_filas_cero ,errors ='ignore', axis=0)\n",
        "df_filtrado.reset_index()"
      ]
    },
    {
      "cell_type": "code",
      "execution_count": null,
      "metadata": {
        "colab": {
          "base_uri": "https://localhost:8080/"
        },
        "id": "rF6d6tf9YMsv",
        "outputId": "85cd4a01-2ab1-411f-9661-ca0bbe879b22"
      },
      "outputs": [
        {
          "name": "stdout",
          "output_type": "stream",
          "text": [
            "1023\n",
            "Cantidad de outliers encontrados con z-score: 2968\n",
            "Cantidad de outliers encontrados con z-score: 392\n"
          ]
        }
      ],
      "source": [
        "\n",
        "\n",
        "# Outliers adr\n",
        "#Observamos valores negativos que son anomalos\n",
        "outlier_adr = df_filtrado[df_filtrado[\"adr\"]<=0]\n",
        "\n",
        "\n",
        "#ELIMINACION de outlier por indice de fila\n",
        "indice_outlier=df_filtrado[df_filtrado['adr']<=0].index\n",
        "\n",
        "df_filtrado.drop(indice_outlier, inplace=True)\n",
        "\n",
        "#Hago z-score modificado\n",
        "mediana_adr=np.median(df_filtrado.adr)\n",
        "MAD=np.median(np.absolute(df_filtrado.adr-mediana_adr))\n",
        "df_filtrado['zm_adr']=(df_filtrado.adr - mediana_adr )*0.6745/MAD\n",
        "#usando la regla de oro dropeo los que tengan un z-score modificado mayor a 3.5\n",
        "indice_outlier_z = df_filtrado[df_filtrado['zm_adr']>3.5].index\n",
        "print(len(indice_outlier_z))\n",
        "df_filtrado.drop(indice_outlier_z, inplace=True,axis=0)\n",
        "\n",
        "\n",
        "# Outliers para adluts\n",
        "df_copia_adults = df_filtrado.copy()\n",
        "\n",
        "#Hago z-score modificado\n",
        "mediana_adults = np.median(df.adults)\n",
        "MAD = np.median(np.absolute(df_copia_adults.adults - mediana_adults))\n",
        "df_copia_adults['zm_adults'] = (df_copia_adults.adults - mediana_adults ) * 0.6745/MAD\n",
        "indice_outlier_z = df_copia_adults[df_copia_adults['zm_adults'] > 3.5].index\n",
        "print(f\"Cantidad de outliers encontrados con z-score: {len(indice_outlier_z)}\")\n",
        "df_filtrado.drop(indice_outlier_z, inplace=True,axis=0)\n",
        "\n",
        "\n",
        "# Outliers para babys\n",
        "df_copia_babies = df_filtrado.copy()\n",
        "#Hago z-score modificado\n",
        "mediana_babies = np.median(df.babies)\n",
        "MAD = np.median(np.absolute(df_copia_babies.babies - mediana_babies))\n",
        "df_copia_babies['zm_babies'] = (df_copia_babies.babies - mediana_babies ) * 0.6745/MAD\n",
        "indice_outlier_z = df_copia_babies[df_copia_babies['zm_babies'] > 3.5].index\n",
        "print(f\"Cantidad de outliers encontrados con z-score: {len(indice_outlier_z)}\")\n",
        "\n",
        "df_filtrado.drop(indice_outlier_z, inplace=True,axis=0)\n",
        "\n",
        "\n",
        "# Outilers para days_in_waiting_list\n",
        "#Hago z-score\n",
        "df_diwl = df_filtrado.copy()\n",
        "df_diwl['z_diwl'] = st.zscore(df_diwl['days_in_waiting_list'])\n",
        "indices = df_diwl[df_diwl['z_diwl'] > 3].index\n",
        "df_fitrado = df_filtrado.drop(indices, axis=0, inplace=True,errors=\"ignore\")\n",
        "\n",
        "\n",
        "#busco outliers para lead_time\n",
        "df_lead = df_filtrado.copy()\n",
        "\n",
        "#Hago z-score modificado\n",
        "mediana_lead = np.median(df.lead_time)\n",
        "MAD = np.median(np.absolute(df.lead_time - mediana_lead))\n",
        "df_lead['zm_lead_time']=(df.lead_time - mediana_lead )*0.6745/MAD\n",
        "#ELIMINACION: usando la regla de oro ELIMINO los que tengan un z-score modificado mayor a 3.5\n",
        "indice_outlier_z = df_lead[df_lead['zm_lead_time']>3.5].index\n",
        "#son 1079 outliers\n",
        "df_filtrado.drop(indice_outlier_z, inplace=True, errors='ignore',axis=0)\n",
        "\n",
        "#\n",
        "df_filtrado.drop('zm_adr', axis=1, inplace=True);"
      ]
    },
    {
      "cell_type": "code",
      "execution_count": null,
      "metadata": {
        "id": "Yssb8PwMjQs-"
      },
      "outputs": [],
      "source": [
        "ds_trabajo = pd.get_dummies(df_filtrado, columns=[\"hotel\",\"arrival_date_month\",\"deposit_type\",\"reserved_room_type\",\"assigned_room_type\",\"customer_type\",\"meal\",\"market_segment\",\"distribution_channel\",\"agent\",\"country\"], drop_first=True)\n",
        "\n",
        "df_test = pd.get_dummies(df_test, columns=[\"hotel\",\"arrival_date_month\",\"deposit_type\",\"reserved_room_type\",\"assigned_room_type\",\"customer_type\",\"meal\",\"market_segment\",\"distribution_channel\",\"agent\",\"country\"], drop_first=True)\n"
      ]
    },
    {
      "cell_type": "code",
      "execution_count": null,
      "metadata": {
        "id": "CjywJRRrSDOe"
      },
      "outputs": [],
      "source": [
        "# Escalamiento de las variables cuantitativas usando min max scaler\n",
        "\n",
        "\n",
        "from sklearn.preprocessing import MinMaxScaler\n",
        "scaler = MinMaxScaler()\n",
        "# Para el entrenamiento\n",
        "ds_trabajo[['adr', 'babies', 'days_in_waiting_list', 'lead_time', 'previous_cancellations', 'booking_changes', 'children']] = scaler.fit_transform(ds_trabajo[['adr', 'babies', 'days_in_waiting_list', 'lead_time', 'previous_cancellations', 'booking_changes', 'children']])\n",
        "# Para la prediccion\n",
        "df_test[['adr', 'babies', 'days_in_waiting_list', 'lead_time', 'previous_cancellations', 'booking_changes', 'children']] = scaler.fit_transform(df_test[['adr', 'babies', 'days_in_waiting_list', 'lead_time', 'previous_cancellations', 'booking_changes', 'children']])\n",
        "\n"
      ]
    },
    {
      "cell_type": "markdown",
      "metadata": {
        "id": "XZela119jSZD"
      },
      "source": [
        "## Entrenamiento"
      ]
    },
    {
      "cell_type": "code",
      "execution_count": null,
      "metadata": {
        "id": "mp7TC4Psla4Y"
      },
      "outputs": [],
      "source": [
        "#Creo un dataset con los features que voy a usar para clasificar\n",
        "x = ds_trabajo.drop(['is_canceled'], axis='columns', inplace=False)\n",
        "\n",
        "#Creo un dataset con la variable target\n",
        "y = ds_trabajo['is_canceled'].copy()\n",
        "\n",
        "\n",
        "#Separo conjunto de Train y de Test (80/20)\n",
        "x_train, x_test, y_train, y_test = train_test_split(x, y, test_size=0.20, random_state=0)"
      ]
    },
    {
      "cell_type": "code",
      "execution_count": null,
      "metadata": {
        "colab": {
          "base_uri": "https://localhost:8080/"
        },
        "id": "jVrayUrMlhsQ",
        "outputId": "01fc8de1-65f9-4cd9-beba-3f9f98be3ec7"
      },
      "outputs": [
        {
          "name": "stdout",
          "output_type": "stream",
          "text": [
            "correctas:  8288\n",
            "total:  10945\n"
          ]
        },
        {
          "data": {
            "text/plain": [
              "0.7572407492005482"
            ]
          },
          "execution_count": 99,
          "metadata": {},
          "output_type": "execute_result"
        }
      ],
      "source": [
        "#Crear el modelo\n",
        "KNN_Classifier = KNeighborsClassifier()\n",
        "\n",
        "#vemos sus parámetros\n",
        "KNN_Classifier.get_params()\n",
        "\n",
        "#Entrenar el modelo\n",
        "KNN_Classifier.fit(x_train, y_train)\n",
        "\n",
        "#Predicción sobre test\n",
        "y_pred = KNN_Classifier.predict(x_test)\n",
        "\n",
        "#Cantidad de aciertos\n",
        "print('correctas: ', np.sum(y_test == y_pred))\n",
        "print('total: ', len(y_test))\n",
        "\n",
        "accuracy_score(y_test,y_pred)"
      ]
    },
    {
      "cell_type": "code",
      "execution_count": null,
      "metadata": {
        "id": "dQoseF0n-jif"
      },
      "outputs": [],
      "source": [
        "from sklearn.model_selection import cross_val_score\n",
        "\n",
        "k_range=range(1,30) #canidad de vecinos a probar\n",
        "\n",
        "k_scores=[] # accuracy para cada K utilizado\n",
        "\n",
        "for k in k_range:\n",
        "    #clasificador Knn\n",
        "    knn=KNeighborsClassifier(n_neighbors=k)\n",
        "    #uso 10 folds\n",
        "    scores=cross_val_score(knn,x_train,y_train,cv=10,scoring='accuracy')\n",
        "    #promedio las 10 métricas\n",
        "    k_scores.append(scores.mean())"
      ]
    },
    {
      "cell_type": "code",
      "execution_count": null,
      "metadata": {
        "colab": {
          "base_uri": "https://localhost:8080/",
          "height": 472
        },
        "id": "0i1L89em-ovl",
        "outputId": "e1699034-49bb-4c76-8b3b-d46a15c2072a"
      },
      "outputs": [
        {
          "data": {
            "image/png": "[encoded data removed]",
            "text/plain": [
              "<Figure size 640x480 with 1 Axes>"
            ]
          },
          "metadata": {},
          "output_type": "display_data"
        }
      ],
      "source": [
        "#ploteamos accuracy vs cantidad de vecinos\n",
        "plt.plot(k_range, k_scores)\n",
        "plt.xlabel('Cantidad de Vecinos')\n",
        "plt.ylabel('Cross Validation Accuracy')\n",
        "plt.title('Accuracy vs Cantidad de Vecinos')\n",
        "plt.show()"
      ]
    },
    {
      "cell_type": "markdown",
      "metadata": {
        "id": "lVyH8LbSA9DG"
      },
      "source": [
        "## Optimizacion de hiperparametros"
      ]
    },
    {
      "cell_type": "markdown",
      "metadata": {
        "id": "RYahZETRBPEu"
      },
      "source": [
        "Random search and cross validation"
      ]
    },
    {
      "cell_type": "code",
      "execution_count": null,
      "metadata": {
        "colab": {
          "base_uri": "https://localhost:8080/"
        },
        "id": "CP0JxaH9A_8x",
        "outputId": "85e271a6-87df-43eb-8e6b-fc14e26b5a4a"
      },
      "outputs": [
        {
          "data": {
            "text/plain": [
              "array([0.77148859, 0.70234598, 0.72045965, 0.62539112, 0.73962406,\n",
              "       0.75088515, 0.73217753, 0.6875214 , 0.77240232, 0.68528297])"
            ]
          },
          "execution_count": 14,
          "metadata": {},
          "output_type": "execute_result"
        }
      ],
      "source": [
        "from sklearn.model_selection import RandomizedSearchCV\n",
        "\n",
        "#Grilla de Parámetros\n",
        "params_grid={ 'n_neighbors':range(1,30), \n",
        "              'weights':['distance','uniform'],\n",
        "              'algorithm':['ball_tree', 'kd_tree', 'brute'],\n",
        "              'metric':['euclidean','manhattan','chebyshev']\n",
        "             }\n",
        "\n",
        "#Clasificador KNN\n",
        "knn=KNeighborsClassifier()\n",
        "\n",
        "#Random Search con 10 Folds y 10 iteraciones\n",
        "rand = RandomizedSearchCV(knn, params_grid, cv=10, scoring='accuracy', n_iter=10, random_state=5)\n",
        "\n",
        "rand.fit(x_train, y_train)\n",
        "rand.cv_results_['mean_test_score']"
      ]
    },
    {
      "cell_type": "code",
      "execution_count": null,
      "metadata": {
        "colab": {
          "base_uri": "https://localhost:8080/"
        },
        "id": "-Qw_WQumBUjf",
        "outputId": "7f7ec795-0de6-4beb-b46b-a4abbf63fe03"
      },
      "outputs": [
        {
          "name": "stdout",
          "output_type": "stream",
          "text": [
            "{'weights': 'distance', 'n_neighbors': 19, 'metric': 'manhattan', 'algorithm': 'brute'}\n",
            "0.7724023172190616\n"
          ]
        }
      ],
      "source": [
        "#Mejores hiperparametros\n",
        "print(rand.best_params_)\n",
        "#Mejor métrica\n",
        "print(rand.best_score_)"
      ]
    },
    {
      "cell_type": "code",
      "execution_count": null,
      "metadata": {
        "colab": {
          "base_uri": "https://localhost:8080/",
          "height": 670
        },
        "id": "cNZpKuZaBXwq",
        "outputId": "ecd3c7a7-cd74-4c3d-cb4b-18d6b6a940c1"
      },
      "outputs": [
        {
          "name": "stdout",
          "output_type": "stream",
          "text": [
            "              precision    recall  f1-score   support\n",
            "\n",
            "           0       0.78      0.72      0.75      5475\n",
            "           1       0.74      0.80      0.77      5470\n",
            "\n",
            "    accuracy                           0.76     10945\n",
            "   macro avg       0.76      0.76      0.76     10945\n",
            "weighted avg       0.76      0.76      0.76     10945\n",
            "\n"
          ]
        },
        {
          "data": {
            "text/plain": [
              "Text(50.722222222222214, 0.5, 'True')"
            ]
          },
          "execution_count": 16,
          "metadata": {},
          "output_type": "execute_result"
        },
        {
          "data": {
            "image/png": "[encoded data removed]",
            "text/plain": [
              "<Figure size 640x480 with 2 Axes>"
            ]
          },
          "metadata": {},
          "output_type": "display_data"
        }
      ],
      "source": [
        "from sklearn.metrics import confusion_matrix,classification_report\n",
        "\n",
        "#Reporte de Clasificación\n",
        "print(classification_report(y_test,y_pred))\n",
        "\n",
        "#Matriz de Confusión\n",
        "cm = confusion_matrix(y_test,y_pred)\n",
        "sns.heatmap(cm, cmap='Blues',annot=True,fmt='g')\n",
        "plt.xlabel('Predicted')\n",
        "plt.ylabel('True')"
      ]
    },
    {
      "cell_type": "markdown",
      "metadata": {
        "id": "ZoTsrV8HZfIk"
      },
      "source": [
        "## Prediccion"
      ]
    },
    {
      "cell_type": "code",
      "execution_count": null,
      "metadata": {
        "id": "FQ2N3FyCZedo"
      },
      "outputs": [],
      "source": [
        "from sklearn.neighbors import KNeighborsClassifier\n",
        "#Creo un dataset con los features que voy a usar para clasificar\n",
        "x = ds_trabajo.drop(['is_canceled'], axis='columns', inplace=False)\n",
        "#Creo un dataset con la variable target\n",
        "y = ds_trabajo['is_canceled'].copy()\n",
        "\n",
        "\n",
        "#Separo conjunto de Train y de Test (80/20)\n",
        "x_train, x_test, y_train, y_test = train_test_split(x, y, test_size=0.20, random_state=0)\n",
        "KNN_Classifier= KNeighborsClassifier(weights='distance',n_neighbors= 19, metric= 'manhattan', algorithm='brute')\n",
        "KNN_Classifier.fit(x_train, y_train)\n",
        "\n",
        "y_pred = KNN_Classifier.predict(df_test)"
      ]
    },
    {
      "cell_type": "code",
      "execution_count": null,
      "metadata": {
        "colab": {
          "base_uri": "https://localhost:8080/",
          "height": 534
        },
        "id": "yalPq1KSjFSJ",
        "outputId": "a3953cb0-7eb5-4964-df7c-64368227b99e"
      },
      "outputs": [
        {
          "data": {
            "text/html": [
              "\n",
              "  <div id=\"df-a6d4ef44-53d1-476e-b03f-97d2d717c35f\">\n",
              "    <div class=\"colab-df-container\">\n",
              "      <div>\n",
              "<style scoped>\n",
              "    .dataframe tbody tr th:only-of-type {\n",
              "        vertical-align: middle;\n",
              "    }\n",
              "\n",
              "    .dataframe tbody tr th {\n",
              "        vertical-align: top;\n",
              "    }\n",
              "\n",
              "    .dataframe thead th {\n",
              "        text-align: right;\n",
              "    }\n",
              "</style>\n",
              "<table border=\"1\" class=\"dataframe\">\n",
              "  <thead>\n",
              "    <tr style=\"text-align: right;\">\n",
              "      <th></th>\n",
              "      <th>id</th>\n",
              "      <th>is_canceled</th>\n",
              "    </tr>\n",
              "  </thead>\n",
              "  <tbody>\n",
              "    <tr>\n",
              "      <th>0</th>\n",
              "      <td>e6d0d58a-ab96-44d3-b28f-85df1cc15f1e</td>\n",
              "      <td>1</td>\n",
              "    </tr>\n",
              "    <tr>\n",
              "      <th>1</th>\n",
              "      <td>aba9aac2-4495-4645-a60e-90328713c999</td>\n",
              "      <td>1</td>\n",
              "    </tr>\n",
              "    <tr>\n",
              "      <th>2</th>\n",
              "      <td>b345b5dc-c804-4d77-a39f-1f4e65d1f1ad</td>\n",
              "      <td>0</td>\n",
              "    </tr>\n",
              "    <tr>\n",
              "      <th>3</th>\n",
              "      <td>ce1b400e-afa1-4946-bdff-004b859eb61c</td>\n",
              "      <td>1</td>\n",
              "    </tr>\n",
              "    <tr>\n",
              "      <th>4</th>\n",
              "      <td>c4fbec0d-8e2e-4db2-9d4f-a6ccb9f51214</td>\n",
              "      <td>1</td>\n",
              "    </tr>\n",
              "    <tr>\n",
              "      <th>...</th>\n",
              "      <td>...</td>\n",
              "      <td>...</td>\n",
              "    </tr>\n",
              "    <tr>\n",
              "      <th>26530</th>\n",
              "      <td>636ccded-66ad-4538-8006-c0b9f84c6256</td>\n",
              "      <td>0</td>\n",
              "    </tr>\n",
              "    <tr>\n",
              "      <th>26531</th>\n",
              "      <td>11e19741-bd28-4459-8ea3-184f1664000f</td>\n",
              "      <td>0</td>\n",
              "    </tr>\n",
              "    <tr>\n",
              "      <th>26532</th>\n",
              "      <td>36a4c7b0-d6b1-4528-93db-311be96ec1c6</td>\n",
              "      <td>1</td>\n",
              "    </tr>\n",
              "    <tr>\n",
              "      <th>26533</th>\n",
              "      <td>89c85fa5-2b3d-4131-844c-e151a65ca240</td>\n",
              "      <td>1</td>\n",
              "    </tr>\n",
              "    <tr>\n",
              "      <th>26534</th>\n",
              "      <td>bd4e9eee-f28e-4a53-b4a1-277426efbcee</td>\n",
              "      <td>0</td>\n",
              "    </tr>\n",
              "  </tbody>\n",
              "</table>\n",
              "<p>26535 rows × 2 columns</p>\n",
              "</div>\n",
              "      <button class=\"colab-df-convert\" onclick=\"convertToInteractive('df-a6d4ef44-53d1-476e-b03f-97d2d717c35f')\"\n",
              "              title=\"Convert this dataframe to an interactive table.\"\n",
              "              style=\"display:none;\">\n",
              "        \n",
              "  <svg xmlns=\"http://www.w3.org/2000/svg\" height=\"24px\"viewBox=\"0 0 24 24\"\n",
              "       width=\"24px\">\n",
              "    <path d=\"M0 0h24v24H0V0z\" fill=\"none\"/>\n",
              "    <path d=\"M18.56 5.44l.94 2.06.94-2.06 2.06-.94-2.06-.94-.94-2.06-.94 2.06-2.06.94zm-11 1L8.5 8.5l.94-2.06 2.06-.94-2.06-.94L8.5 2.5l-.94 2.06-2.06.94zm10 10l.94 2.06.94-2.06 2.06-.94-2.06-.94-.94-2.06-.94 2.06-2.06.94z\"/><path d=\"M17.41 7.96l-1.37-1.37c-.4-.4-.92-.59-1.43-.59-.52 0-1.04.2-1.43.59L10.3 9.45l-7.72 7.72c-.78.78-.78 2.05 0 2.83L4 21.41c.39.39.9.59 1.41.59.51 0 1.02-.2 1.41-.59l7.78-7.78 2.81-2.81c.8-.78.8-2.07 0-2.86zM5.41 20L4 18.59l7.72-7.72 1.47 1.35L5.41 20z\"/>\n",
              "  </svg>\n",
              "      </button>\n",
              "      \n",
              "  <style>\n",
              "    .colab-df-container {\n",
              "      display:flex;\n",
              "      flex-wrap:wrap;\n",
              "      gap: 12px;\n",
              "    }\n",
              "\n",
              "    .colab-df-convert {\n",
              "      background-color: #E8F0FE;\n",
              "      border: none;\n",
              "      border-radius: 50%;\n",
              "      cursor: pointer;\n",
              "      display: none;\n",
              "      fill: #1967D2;\n",
              "      height: 32px;\n",
              "      padding: 0 0 0 0;\n",
              "      width: 32px;\n",
              "    }\n",
              "\n",
              "    .colab-df-convert:hover {\n",
              "      background-color: #E2EBFA;\n",
              "      box-shadow: 0px 1px 2px rgba(60, 64, 67, 0.3), 0px 1px 3px 1px rgba(60, 64, 67, 0.15);\n",
              "      fill: #174EA6;\n",
              "    }\n",
              "\n",
              "    [theme=dark] .colab-df-convert {\n",
              "      background-color: #3B4455;\n",
              "      fill: #D2E3FC;\n",
              "    }\n",
              "\n",
              "    [theme=dark] .colab-df-convert:hover {\n",
              "      background-color: #434B5C;\n",
              "      box-shadow: 0px 1px 3px 1px rgba(0, 0, 0, 0.15);\n",
              "      filter: drop-shadow(0px 1px 2px rgba(0, 0, 0, 0.3));\n",
              "      fill: #FFFFFF;\n",
              "    }\n",
              "  </style>\n",
              "\n",
              "      <script>\n",
              "        const buttonEl =\n",
              "          document.querySelector('#df-a6d4ef44-53d1-476e-b03f-97d2d717c35f button.colab-df-convert');\n",
              "        buttonEl.style.display =\n",
              "          google.colab.kernel.accessAllowed ? 'block' : 'none';\n",
              "\n",
              "        async function convertToInteractive(key) {\n",
              "          const element = document.querySelector('#df-a6d4ef44-53d1-476e-b03f-97d2d717c35f');\n",
              "          const dataTable =\n",
              "            await google.colab.kernel.invokeFunction('convertToInteractive',\n",
              "                                                     [key], {});\n",
              "          if (!dataTable) return;\n",
              "\n",
              "          const docLinkHtml = 'Like what you see? Visit the ' +\n",
              "            '<a target=\"_blank\" href=https://colab.research.google.com/notebooks/data_table.ipynb>data table notebook</a>'\n",
              "            + ' to learn more about interactive tables.';\n",
              "          element.innerHTML = '';\n",
              "          dataTable['output_type'] = 'display_data';\n",
              "          await google.colab.output.renderOutput(dataTable, element);\n",
              "          const docLink = document.createElement('div');\n",
              "          docLink.innerHTML = docLinkHtml;\n",
              "          element.appendChild(docLink);\n",
              "        }\n",
              "      </script>\n",
              "    </div>\n",
              "  </div>\n",
              "  "
            ],
            "text/plain": [
              "                                         id  is_canceled\n",
              "0      e6d0d58a-ab96-44d3-b28f-85df1cc15f1e            1\n",
              "1      aba9aac2-4495-4645-a60e-90328713c999            1\n",
              "2      b345b5dc-c804-4d77-a39f-1f4e65d1f1ad            0\n",
              "3      ce1b400e-afa1-4946-bdff-004b859eb61c            1\n",
              "4      c4fbec0d-8e2e-4db2-9d4f-a6ccb9f51214            1\n",
              "...                                     ...          ...\n",
              "26530  636ccded-66ad-4538-8006-c0b9f84c6256            0\n",
              "26531  11e19741-bd28-4459-8ea3-184f1664000f            0\n",
              "26532  36a4c7b0-d6b1-4528-93db-311be96ec1c6            1\n",
              "26533  89c85fa5-2b3d-4131-844c-e151a65ca240            1\n",
              "26534  bd4e9eee-f28e-4a53-b4a1-277426efbcee            0\n",
              "\n",
              "[26535 rows x 2 columns]"
            ]
          },
          "execution_count": 59,
          "metadata": {},
          "output_type": "execute_result"
        }
      ],
      "source": [
        "\n",
        "submit =  pd.DataFrame(zip(test_id,y_pred),columns=['id','is_canceled'])\n",
        "submit"
      ]
    },
    {
      "cell_type": "code",
      "execution_count": null,
      "metadata": {
        "id": "IIihWe60kf5S"
      },
      "outputs": [],
      "source": [
        "submit.to_csv('./knn_submit.csv',index=False)  "
      ]
    },
    {
      "cell_type": "markdown",
      "metadata": {
        "id": "cOHtYSKQ853R"
      },
      "source": [
        "##Preparando modelo"
      ]
    },
    {
      "cell_type": "code",
      "execution_count": null,
      "metadata": {
        "colab": {
          "base_uri": "https://localhost:8080/"
        },
        "id": "_OZR5hNmYmT7",
        "outputId": "b5adbe45-8dce-4429-f549-60a4d1676440"
      },
      "outputs": [
        {
          "data": {
            "text/plain": [
              "array([1, 1, 0, ..., 1, 1, 0])"
            ]
          },
          "execution_count": 104,
          "metadata": {},
          "output_type": "execute_result"
        }
      ],
      "source": [
        "from joblib import dump\n",
        "dump(KNN_Classifier, 'KNN.joblib') \n",
        "\n",
        "from joblib import load\n",
        "KNN = load('KNN.joblib')\n",
        "KNN.predict(df_test) "
      ]
    },
    {
      "cell_type": "markdown",
      "metadata": {
        "id": "-VbpoVRyZUPV"
      },
      "source": [
        "# **SVM**"
      ]
    },
    {
      "cell_type": "markdown",
      "metadata": {
        "id": "DvQJE7bmZgW1"
      },
      "source": [
        "##Preprocesamiento"
      ]
    },
    {
      "cell_type": "code",
      "execution_count": null,
      "metadata": {
        "id": "J_iuWswwJbzr"
      },
      "outputs": [],
      "source": [
        "#Datos\n",
        "import numpy as np\n",
        "import pandas as pd\n",
        "\n",
        "#Plots\n",
        "import matplotlib.pyplot as plt\n",
        "import seaborn as sns\n",
        "\n",
        "# Outliers\n",
        "import scipy.stats as st\n",
        "\n",
        "#Modelado\n",
        "from sklearn.model_selection import train_test_split\n",
        "from sklearn.neighbors import KNeighborsClassifier\n",
        "from sklearn.metrics import accuracy_score\n",
        "\n",
        "# Cargo el data set\n",
        "direc = \"https://raw.githubusercontent.com/Akselas/7506R-1C2023-GRUPO26/main/hotels_train.csv\"\n",
        "direc_test = \"https://raw.githubusercontent.com/Akselas/7506R-1C2023-GRUPO26/main/hotels_test.csv\"\n",
        "df_test = pd.read_csv(direc_test)\n",
        "df = pd.read_csv(direc)\n",
        "df_filtrado  = df.copy()"
      ]
    },
    {
      "cell_type": "code",
      "execution_count": null,
      "metadata": {
        "colab": {
          "base_uri": "https://localhost:8080/"
        },
        "id": "I5JNOFNsJerw",
        "outputId": "fa7bb5c3-e6de-4d67-9c95-bbe86a71dd54"
      },
      "outputs": [
        {
          "data": {
            "text/html": [
              "\n",
              "  <div id=\"df-a7e0dffb-4d2b-4582-bd45-44522a33f8a5\">\n",
              "    <div class=\"colab-df-container\">\n",
              "      <div>\n",
              "<style scoped>\n",
              "    .dataframe tbody tr th:only-of-type {\n",
              "        vertical-align: middle;\n",
              "    }\n",
              "\n",
              "    .dataframe tbody tr th {\n",
              "        vertical-align: top;\n",
              "    }\n",
              "\n",
              "    .dataframe thead th {\n",
              "        text-align: right;\n",
              "    }\n",
              "</style>\n",
              "<table border=\"1\" class=\"dataframe\">\n",
              "  <thead>\n",
              "    <tr style=\"text-align: right;\">\n",
              "      <th></th>\n",
              "      <th>index</th>\n",
              "      <th>hotel</th>\n",
              "      <th>lead_time</th>\n",
              "      <th>arrival_date_year</th>\n",
              "      <th>arrival_date_month</th>\n",
              "      <th>arrival_date_week_number</th>\n",
              "      <th>arrival_date_day_of_month</th>\n",
              "      <th>stays_in_weekend_nights</th>\n",
              "      <th>stays_in_week_nights</th>\n",
              "      <th>adults</th>\n",
              "      <th>...</th>\n",
              "      <th>assigned_room_type</th>\n",
              "      <th>booking_changes</th>\n",
              "      <th>deposit_type</th>\n",
              "      <th>agent</th>\n",
              "      <th>days_in_waiting_list</th>\n",
              "      <th>customer_type</th>\n",
              "      <th>adr</th>\n",
              "      <th>required_car_parking_spaces</th>\n",
              "      <th>total_of_special_requests</th>\n",
              "      <th>is_canceled</th>\n",
              "    </tr>\n",
              "  </thead>\n",
              "  <tbody>\n",
              "    <tr>\n",
              "      <th>0</th>\n",
              "      <td>0</td>\n",
              "      <td>City Hotel</td>\n",
              "      <td>49</td>\n",
              "      <td>2016</td>\n",
              "      <td>September</td>\n",
              "      <td>37</td>\n",
              "      <td>5</td>\n",
              "      <td>1</td>\n",
              "      <td>2</td>\n",
              "      <td>1</td>\n",
              "      <td>...</td>\n",
              "      <td>D</td>\n",
              "      <td>0</td>\n",
              "      <td>No Deposit</td>\n",
              "      <td>9.0</td>\n",
              "      <td>0</td>\n",
              "      <td>Transient</td>\n",
              "      <td>115.50</td>\n",
              "      <td>0</td>\n",
              "      <td>1</td>\n",
              "      <td>1</td>\n",
              "    </tr>\n",
              "    <tr>\n",
              "      <th>1</th>\n",
              "      <td>1</td>\n",
              "      <td>Resort Hotel</td>\n",
              "      <td>4</td>\n",
              "      <td>2015</td>\n",
              "      <td>October</td>\n",
              "      <td>44</td>\n",
              "      <td>31</td>\n",
              "      <td>0</td>\n",
              "      <td>1</td>\n",
              "      <td>2</td>\n",
              "      <td>...</td>\n",
              "      <td>A</td>\n",
              "      <td>0</td>\n",
              "      <td>No Deposit</td>\n",
              "      <td>0.0</td>\n",
              "      <td>0</td>\n",
              "      <td>Transient</td>\n",
              "      <td>42.00</td>\n",
              "      <td>1</td>\n",
              "      <td>0</td>\n",
              "      <td>0</td>\n",
              "    </tr>\n",
              "    <tr>\n",
              "      <th>2</th>\n",
              "      <td>2</td>\n",
              "      <td>City Hotel</td>\n",
              "      <td>25</td>\n",
              "      <td>2016</td>\n",
              "      <td>October</td>\n",
              "      <td>42</td>\n",
              "      <td>13</td>\n",
              "      <td>0</td>\n",
              "      <td>1</td>\n",
              "      <td>2</td>\n",
              "      <td>...</td>\n",
              "      <td>F</td>\n",
              "      <td>0</td>\n",
              "      <td>No Deposit</td>\n",
              "      <td>9.0</td>\n",
              "      <td>0</td>\n",
              "      <td>Transient</td>\n",
              "      <td>229.00</td>\n",
              "      <td>0</td>\n",
              "      <td>2</td>\n",
              "      <td>0</td>\n",
              "    </tr>\n",
              "    <tr>\n",
              "      <th>3</th>\n",
              "      <td>3</td>\n",
              "      <td>City Hotel</td>\n",
              "      <td>26</td>\n",
              "      <td>2016</td>\n",
              "      <td>December</td>\n",
              "      <td>51</td>\n",
              "      <td>12</td>\n",
              "      <td>2</td>\n",
              "      <td>5</td>\n",
              "      <td>2</td>\n",
              "      <td>...</td>\n",
              "      <td>A</td>\n",
              "      <td>0</td>\n",
              "      <td>Non Refund</td>\n",
              "      <td>otro</td>\n",
              "      <td>0</td>\n",
              "      <td>Transient</td>\n",
              "      <td>75.00</td>\n",
              "      <td>0</td>\n",
              "      <td>0</td>\n",
              "      <td>1</td>\n",
              "    </tr>\n",
              "    <tr>\n",
              "      <th>4</th>\n",
              "      <td>4</td>\n",
              "      <td>City Hotel</td>\n",
              "      <td>104</td>\n",
              "      <td>2017</td>\n",
              "      <td>March</td>\n",
              "      <td>12</td>\n",
              "      <td>19</td>\n",
              "      <td>2</td>\n",
              "      <td>5</td>\n",
              "      <td>2</td>\n",
              "      <td>...</td>\n",
              "      <td>A</td>\n",
              "      <td>0</td>\n",
              "      <td>No Deposit</td>\n",
              "      <td>otro</td>\n",
              "      <td>0</td>\n",
              "      <td>Transient-Party</td>\n",
              "      <td>75.00</td>\n",
              "      <td>0</td>\n",
              "      <td>1</td>\n",
              "      <td>0</td>\n",
              "    </tr>\n",
              "    <tr>\n",
              "      <th>...</th>\n",
              "      <td>...</td>\n",
              "      <td>...</td>\n",
              "      <td>...</td>\n",
              "      <td>...</td>\n",
              "      <td>...</td>\n",
              "      <td>...</td>\n",
              "      <td>...</td>\n",
              "      <td>...</td>\n",
              "      <td>...</td>\n",
              "      <td>...</td>\n",
              "      <td>...</td>\n",
              "      <td>...</td>\n",
              "      <td>...</td>\n",
              "      <td>...</td>\n",
              "      <td>...</td>\n",
              "      <td>...</td>\n",
              "      <td>...</td>\n",
              "      <td>...</td>\n",
              "      <td>...</td>\n",
              "      <td>...</td>\n",
              "      <td>...</td>\n",
              "    </tr>\n",
              "    <tr>\n",
              "      <th>61828</th>\n",
              "      <td>61908</td>\n",
              "      <td>Resort Hotel</td>\n",
              "      <td>24</td>\n",
              "      <td>2017</td>\n",
              "      <td>January</td>\n",
              "      <td>4</td>\n",
              "      <td>27</td>\n",
              "      <td>0</td>\n",
              "      <td>2</td>\n",
              "      <td>2</td>\n",
              "      <td>...</td>\n",
              "      <td>D</td>\n",
              "      <td>0</td>\n",
              "      <td>No Deposit</td>\n",
              "      <td>240.0</td>\n",
              "      <td>0</td>\n",
              "      <td>Transient</td>\n",
              "      <td>48.00</td>\n",
              "      <td>0</td>\n",
              "      <td>1</td>\n",
              "      <td>1</td>\n",
              "    </tr>\n",
              "    <tr>\n",
              "      <th>61829</th>\n",
              "      <td>61909</td>\n",
              "      <td>City Hotel</td>\n",
              "      <td>0</td>\n",
              "      <td>2016</td>\n",
              "      <td>September</td>\n",
              "      <td>36</td>\n",
              "      <td>2</td>\n",
              "      <td>0</td>\n",
              "      <td>1</td>\n",
              "      <td>1</td>\n",
              "      <td>...</td>\n",
              "      <td>A</td>\n",
              "      <td>0</td>\n",
              "      <td>No Deposit</td>\n",
              "      <td>0.0</td>\n",
              "      <td>0</td>\n",
              "      <td>Transient</td>\n",
              "      <td>149.00</td>\n",
              "      <td>0</td>\n",
              "      <td>0</td>\n",
              "      <td>0</td>\n",
              "    </tr>\n",
              "    <tr>\n",
              "      <th>61830</th>\n",
              "      <td>61910</td>\n",
              "      <td>City Hotel</td>\n",
              "      <td>10</td>\n",
              "      <td>2017</td>\n",
              "      <td>May</td>\n",
              "      <td>19</td>\n",
              "      <td>8</td>\n",
              "      <td>1</td>\n",
              "      <td>2</td>\n",
              "      <td>1</td>\n",
              "      <td>...</td>\n",
              "      <td>A</td>\n",
              "      <td>0</td>\n",
              "      <td>No Deposit</td>\n",
              "      <td>0.0</td>\n",
              "      <td>0</td>\n",
              "      <td>Transient</td>\n",
              "      <td>95.00</td>\n",
              "      <td>0</td>\n",
              "      <td>0</td>\n",
              "      <td>0</td>\n",
              "    </tr>\n",
              "    <tr>\n",
              "      <th>61831</th>\n",
              "      <td>61911</td>\n",
              "      <td>Resort Hotel</td>\n",
              "      <td>143</td>\n",
              "      <td>2015</td>\n",
              "      <td>October</td>\n",
              "      <td>41</td>\n",
              "      <td>10</td>\n",
              "      <td>2</td>\n",
              "      <td>5</td>\n",
              "      <td>2</td>\n",
              "      <td>...</td>\n",
              "      <td>A</td>\n",
              "      <td>0</td>\n",
              "      <td>Non Refund</td>\n",
              "      <td>otro</td>\n",
              "      <td>0</td>\n",
              "      <td>Transient</td>\n",
              "      <td>36.05</td>\n",
              "      <td>0</td>\n",
              "      <td>0</td>\n",
              "      <td>1</td>\n",
              "    </tr>\n",
              "    <tr>\n",
              "      <th>61832</th>\n",
              "      <td>61912</td>\n",
              "      <td>City Hotel</td>\n",
              "      <td>57</td>\n",
              "      <td>2016</td>\n",
              "      <td>April</td>\n",
              "      <td>17</td>\n",
              "      <td>17</td>\n",
              "      <td>2</td>\n",
              "      <td>5</td>\n",
              "      <td>2</td>\n",
              "      <td>...</td>\n",
              "      <td>D</td>\n",
              "      <td>1</td>\n",
              "      <td>No Deposit</td>\n",
              "      <td>9.0</td>\n",
              "      <td>0</td>\n",
              "      <td>Transient</td>\n",
              "      <td>143.29</td>\n",
              "      <td>0</td>\n",
              "      <td>0</td>\n",
              "      <td>1</td>\n",
              "    </tr>\n",
              "  </tbody>\n",
              "</table>\n",
              "<p>61833 rows × 30 columns</p>\n",
              "</div>\n",
              "      <button class=\"colab-df-convert\" onclick=\"convertToInteractive('df-a7e0dffb-4d2b-4582-bd45-44522a33f8a5')\"\n",
              "              title=\"Convert this dataframe to an interactive table.\"\n",
              "              style=\"display:none;\">\n",
              "        \n",
              "  <svg xmlns=\"http://www.w3.org/2000/svg\" height=\"24px\"viewBox=\"0 0 24 24\"\n",
              "       width=\"24px\">\n",
              "    <path d=\"M0 0h24v24H0V0z\" fill=\"none\"/>\n",
              "    <path d=\"M18.56 5.44l.94 2.06.94-2.06 2.06-.94-2.06-.94-.94-2.06-.94 2.06-2.06.94zm-11 1L8.5 8.5l.94-2.06 2.06-.94-2.06-.94L8.5 2.5l-.94 2.06-2.06.94zm10 10l.94 2.06.94-2.06 2.06-.94-2.06-.94-.94-2.06-.94 2.06-2.06.94z\"/><path d=\"M17.41 7.96l-1.37-1.37c-.4-.4-.92-.59-1.43-.59-.52 0-1.04.2-1.43.59L10.3 9.45l-7.72 7.72c-.78.78-.78 2.05 0 2.83L4 21.41c.39.39.9.59 1.41.59.51 0 1.02-.2 1.41-.59l7.78-7.78 2.81-2.81c.8-.78.8-2.07 0-2.86zM5.41 20L4 18.59l7.72-7.72 1.47 1.35L5.41 20z\"/>\n",
              "  </svg>\n",
              "      </button>\n",
              "      \n",
              "  <style>\n",
              "    .colab-df-container {\n",
              "      display:flex;\n",
              "      flex-wrap:wrap;\n",
              "      gap: 12px;\n",
              "    }\n",
              "\n",
              "    .colab-df-convert {\n",
              "      background-color: #E8F0FE;\n",
              "      border: none;\n",
              "      border-radius: 50%;\n",
              "      cursor: pointer;\n",
              "      display: none;\n",
              "      fill: #1967D2;\n",
              "      height: 32px;\n",
              "      padding: 0 0 0 0;\n",
              "      width: 32px;\n",
              "    }\n",
              "\n",
              "    .colab-df-convert:hover {\n",
              "      background-color: #E2EBFA;\n",
              "      box-shadow: 0px 1px 2px rgba(60, 64, 67, 0.3), 0px 1px 3px 1px rgba(60, 64, 67, 0.15);\n",
              "      fill: #174EA6;\n",
              "    }\n",
              "\n",
              "    [theme=dark] .colab-df-convert {\n",
              "      background-color: #3B4455;\n",
              "      fill: #D2E3FC;\n",
              "    }\n",
              "\n",
              "    [theme=dark] .colab-df-convert:hover {\n",
              "      background-color: #434B5C;\n",
              "      box-shadow: 0px 1px 3px 1px rgba(0, 0, 0, 0.15);\n",
              "      filter: drop-shadow(0px 1px 2px rgba(0, 0, 0, 0.3));\n",
              "      fill: #FFFFFF;\n",
              "    }\n",
              "  </style>\n",
              "\n",
              "      <script>\n",
              "        const buttonEl =\n",
              "          document.querySelector('#df-a7e0dffb-4d2b-4582-bd45-44522a33f8a5 button.colab-df-convert');\n",
              "        buttonEl.style.display =\n",
              "          google.colab.kernel.accessAllowed ? 'block' : 'none';\n",
              "\n",
              "        async function convertToInteractive(key) {\n",
              "          const element = document.querySelector('#df-a7e0dffb-4d2b-4582-bd45-44522a33f8a5');\n",
              "          const dataTable =\n",
              "            await google.colab.kernel.invokeFunction('convertToInteractive',\n",
              "                                                     [key], {});\n",
              "          if (!dataTable) return;\n",
              "\n",
              "          const docLinkHtml = 'Like what you see? Visit the ' +\n",
              "            '<a target=\"_blank\" href=https://colab.research.google.com/notebooks/data_table.ipynb>data table notebook</a>'\n",
              "            + ' to learn more about interactive tables.';\n",
              "          element.innerHTML = '';\n",
              "          dataTable['output_type'] = 'display_data';\n",
              "          await google.colab.output.renderOutput(dataTable, element);\n",
              "          const docLink = document.createElement('div');\n",
              "          docLink.innerHTML = docLinkHtml;\n",
              "          element.appendChild(docLink);\n",
              "        }\n",
              "      </script>\n",
              "    </div>\n",
              "  </div>\n",
              "  "
            ],
            "text/plain": [
              "       index         hotel  lead_time  arrival_date_year arrival_date_month  \\\n",
              "0          0    City Hotel         49               2016          September   \n",
              "1          1  Resort Hotel          4               2015            October   \n",
              "2          2    City Hotel         25               2016            October   \n",
              "3          3    City Hotel         26               2016           December   \n",
              "4          4    City Hotel        104               2017              March   \n",
              "...      ...           ...        ...                ...                ...   \n",
              "61828  61908  Resort Hotel         24               2017            January   \n",
              "61829  61909    City Hotel          0               2016          September   \n",
              "61830  61910    City Hotel         10               2017                May   \n",
              "61831  61911  Resort Hotel        143               2015            October   \n",
              "61832  61912    City Hotel         57               2016              April   \n",
              "\n",
              "       arrival_date_week_number  arrival_date_day_of_month  \\\n",
              "0                            37                          5   \n",
              "1                            44                         31   \n",
              "2                            42                         13   \n",
              "3                            51                         12   \n",
              "4                            12                         19   \n",
              "...                         ...                        ...   \n",
              "61828                         4                         27   \n",
              "61829                        36                          2   \n",
              "61830                        19                          8   \n",
              "61831                        41                         10   \n",
              "61832                        17                         17   \n",
              "\n",
              "       stays_in_weekend_nights  stays_in_week_nights  adults  ...  \\\n",
              "0                            1                     2       1  ...   \n",
              "1                            0                     1       2  ...   \n",
              "2                            0                     1       2  ...   \n",
              "3                            2                     5       2  ...   \n",
              "4                            2                     5       2  ...   \n",
              "...                        ...                   ...     ...  ...   \n",
              "61828                        0                     2       2  ...   \n",
              "61829                        0                     1       1  ...   \n",
              "61830                        1                     2       1  ...   \n",
              "61831                        2                     5       2  ...   \n",
              "61832                        2                     5       2  ...   \n",
              "\n",
              "       assigned_room_type  booking_changes deposit_type  agent  \\\n",
              "0                       D                0   No Deposit    9.0   \n",
              "1                       A                0   No Deposit    0.0   \n",
              "2                       F                0   No Deposit    9.0   \n",
              "3                       A                0   Non Refund   otro   \n",
              "4                       A                0   No Deposit   otro   \n",
              "...                   ...              ...          ...    ...   \n",
              "61828                   D                0   No Deposit  240.0   \n",
              "61829                   A                0   No Deposit    0.0   \n",
              "61830                   A                0   No Deposit    0.0   \n",
              "61831                   A                0   Non Refund   otro   \n",
              "61832                   D                1   No Deposit    9.0   \n",
              "\n",
              "      days_in_waiting_list    customer_type     adr  \\\n",
              "0                        0        Transient  115.50   \n",
              "1                        0        Transient   42.00   \n",
              "2                        0        Transient  229.00   \n",
              "3                        0        Transient   75.00   \n",
              "4                        0  Transient-Party   75.00   \n",
              "...                    ...              ...     ...   \n",
              "61828                    0        Transient   48.00   \n",
              "61829                    0        Transient  149.00   \n",
              "61830                    0        Transient   95.00   \n",
              "61831                    0        Transient   36.05   \n",
              "61832                    0        Transient  143.29   \n",
              "\n",
              "       required_car_parking_spaces  total_of_special_requests is_canceled  \n",
              "0                                0                          1           1  \n",
              "1                                1                          0           0  \n",
              "2                                0                          2           0  \n",
              "3                                0                          0           1  \n",
              "4                                0                          1           0  \n",
              "...                            ...                        ...         ...  \n",
              "61828                            0                          1           1  \n",
              "61829                            0                          0           0  \n",
              "61830                            0                          0           0  \n",
              "61831                            0                          0           1  \n",
              "61832                            0                          0           1  \n",
              "\n",
              "[61833 rows x 30 columns]"
            ]
          },
          "execution_count": 106,
          "metadata": {},
          "output_type": "execute_result"
        }
      ],
      "source": [
        "# Limpieza del dataset\n",
        "\n",
        "# Eliminamos columnas para train\n",
        "df_filtrado = df_filtrado.drop('id', axis=1)\n",
        "df_filtrado = df_filtrado.drop(\"reservation_status\", axis=1)\n",
        "df_filtrado = df_filtrado.drop(\"reservation_status_date\", axis=1)\n",
        "df_filtrado = df_filtrado.drop(\"company\", axis=1)\n",
        "\n",
        "# Eliminamos columnas para test\n",
        "test_id = df_test.id.copy()\n",
        "df_test = df_test.drop('id', axis=1)\n",
        "df_test = df_test.drop(\"reservation_status\", axis=1)\n",
        "df_test = df_test.drop(\"reservation_status_date\", axis=1)\n",
        "df_test = df_test.drop(\"company\", axis=1)\n",
        "\n",
        "# Se reemplazan los valores nulos por 0 en agents\n",
        "df_filtrado['agent'] = df_filtrado['agent'].fillna(0)\n",
        "df_filtrado['agent'] = df_filtrado['agent'].astype(str)\n",
        "\n",
        "df_test['agent'] = df_test['agent'].fillna(0)\n",
        "df_test['agent'] = df_test['agent'].astype(str)\n",
        "\n",
        "\n",
        "#Categorizo los agentes menos populares(no incluyo los agentes 0)\n",
        "agentes_populares = df_filtrado['agent'].value_counts().index.to_list()[0:14]\n",
        "def es_agente_popular(agent):\n",
        "  if agent in agentes_populares:\n",
        "    return agent\n",
        "  elif agent == 0:\n",
        "    return agent\n",
        "  else:\n",
        "    return 'otro'\n",
        "\n",
        "df_filtrado['agent'] = df_filtrado['agent'].apply(es_agente_popular )\n",
        "\n",
        "# Aca la transformacion aplicada viene del dataset de train\n",
        "df_test['agent'] = df_test['agent'].apply(es_agente_popular )\n",
        "\n",
        "\n",
        "# Reemplazamos todas las aparaiciones de paises con pocas apariciones en un pais \"otro\"\n",
        "paises = df_filtrado['country'].value_counts()\n",
        "paises_atipicos = paises[ paises <=100].index.to_list()\n",
        "def es_pais_atipico(pais):\n",
        "  if pais in paises_atipicos or pd.isna(pais) :\n",
        "    return 'otro'\n",
        "  else:\n",
        "    return pais\n",
        "\n",
        "# Aca la transformacion aplicada viene del dataset de train\n",
        "df_filtrado['country'] = df_filtrado['country'].apply( es_pais_atipico)\n",
        "\n",
        "df_test['country'] = df_test['country'].apply(es_pais_atipico)\n",
        "\n",
        "\n",
        "# Esta funcion es solo para test, a todos los paises que no estan en train los categoriza como otro\n",
        "paises_tipicos = paises[ paises > 100].index.to_list()\n",
        "def pertenece_a_pais_de_train(pais):\n",
        "  if pais in paises_atipicos or pais not in paises_tipicos or pd.isna(pais) :\n",
        "    return 'otro'\n",
        "  else:\n",
        "    return pais\n",
        "df_test['country'] = df_test['country'].apply(pertenece_a_pais_de_train)\n",
        "\n",
        "\n",
        "\n",
        "\n",
        "#caso de datos nulos en children\n",
        "#le agrego el valor que mas predomina, que es 0\n",
        "df_filtrado['children'] = df_filtrado['children'].apply(lambda child: 0 if pd.isna(child) else child)\n",
        "df_test['children'] = df_test['children'].apply(lambda child: 0 if pd.isna(child) else child)\n",
        "\n",
        "\n",
        "#caso market segment y distribution channel\n",
        "a = df_filtrado[df_filtrado['market_segment'] == 'Undefined'].index\n",
        "df_filtrado.drop(a,  inplace=True, errors='ignore')\n",
        "\n",
        "b = df_filtrado[df_filtrado['distribution_channel'] == 'Undefined'].index\n",
        "df_filtrado.drop(b,  inplace=True, errors='ignore')\n",
        "\n",
        "# No se aplica esto sobre test xq no esta el valor Undefined presente\n",
        "\n",
        "\n",
        "##categorizo las columnas menos populares con el nombre de \"otro\"\n",
        "rooms_mas_populares = df_filtrado['assigned_room_type'].value_counts().index.to_list()[0:8]\n",
        "df_filtrado['assigned_room_type'] =df_filtrado['assigned_room_type'].apply( lambda room: 'otro' if room not in rooms_mas_populares else room)\n",
        "df_filtrado['reserved_room_type'] =df_filtrado['reserved_room_type'].apply( lambda room: 'otro' if room not in rooms_mas_populares else room)\n",
        "\n",
        "# Aca la transformacion aplicada viene del dataset de train\n",
        "df_test['assigned_room_type'] =df_test['assigned_room_type'].apply( lambda room: 'otro' if room not in rooms_mas_populares else room)\n",
        "df_test['reserved_room_type'] =df_test['reserved_room_type'].apply( lambda room: 'otro' if room not in rooms_mas_populares else room)\n",
        "\n",
        "\n",
        "# Elimino las reservas sin personas\n",
        "indices_filas_cero = df_filtrado.loc[(df['children'] == 0) & (df['adults'] == 0) & (df['babies'] == 0)].index\n",
        "df_filtrado = df_filtrado.drop(indices_filas_cero ,errors ='ignore', axis=0)\n",
        "df_filtrado.reset_index()"
      ]
    },
    {
      "cell_type": "code",
      "execution_count": null,
      "metadata": {
        "colab": {
          "base_uri": "https://localhost:8080/"
        },
        "id": "JSzwFS22JjTY",
        "outputId": "c14375a8-82be-4a6b-d843-bff09af7c957"
      },
      "outputs": [
        {
          "name": "stdout",
          "output_type": "stream",
          "text": [
            "1023\n",
            "Cantidad de outliers encontrados con z-score: 2968\n",
            "Cantidad de outliers encontrados con z-score: 392\n"
          ]
        }
      ],
      "source": [
        "# Outliers adr\n",
        "#Observamos valores negativos que son anomalos\n",
        "outlier_adr = df_filtrado[df_filtrado[\"adr\"]<=0]\n",
        "\n",
        "\n",
        "#ELIMINACION de outlier por indice de fila\n",
        "indice_outlier=df_filtrado[df_filtrado['adr']<=0].index\n",
        "\n",
        "df_filtrado.drop(indice_outlier, inplace=True)\n",
        "\n",
        "#Hago z-score modificado\n",
        "mediana_adr=np.median(df_filtrado.adr)\n",
        "MAD=np.median(np.absolute(df_filtrado.adr-mediana_adr))\n",
        "df_filtrado['zm_adr']=(df_filtrado.adr - mediana_adr )*0.6745/MAD\n",
        "#usando la regla de oro dropeo los que tengan un z-score modificado mayor a 3.5\n",
        "indice_outlier_z = df_filtrado[df_filtrado['zm_adr']>3.5].index\n",
        "print(len(indice_outlier_z))\n",
        "df_filtrado.drop(indice_outlier_z, inplace=True,axis=0)\n",
        "\n",
        "\n",
        "# Outliers para adluts\n",
        "df_copia_adults = df_filtrado.copy()\n",
        "\n",
        "#Hago z-score modificado\n",
        "mediana_adults = np.median(df.adults)\n",
        "MAD = np.median(np.absolute(df_copia_adults.adults - mediana_adults))\n",
        "df_copia_adults['zm_adults'] = (df_copia_adults.adults - mediana_adults ) * 0.6745/MAD\n",
        "indice_outlier_z = df_copia_adults[df_copia_adults['zm_adults'] > 3.5].index\n",
        "print(f\"Cantidad de outliers encontrados con z-score: {len(indice_outlier_z)}\")\n",
        "df_filtrado.drop(indice_outlier_z, inplace=True,axis=0)\n",
        "\n",
        "\n",
        "# Outliers para babys\n",
        "df_copia_babies = df_filtrado.copy()\n",
        "#Hago z-score modificado\n",
        "mediana_babies = np.median(df.babies)\n",
        "MAD = np.median(np.absolute(df_copia_babies.babies - mediana_babies))\n",
        "df_copia_babies['zm_babies'] = (df_copia_babies.babies - mediana_babies ) * 0.6745/MAD\n",
        "indice_outlier_z = df_copia_babies[df_copia_babies['zm_babies'] > 3.5].index\n",
        "print(f\"Cantidad de outliers encontrados con z-score: {len(indice_outlier_z)}\")\n",
        "\n",
        "df_filtrado.drop(indice_outlier_z, inplace=True,axis=0)\n",
        "\n",
        "\n",
        "# Outilers para days_in_waiting_list\n",
        "#Hago z-score\n",
        "df_diwl = df_filtrado.copy()\n",
        "df_diwl['z_diwl'] = st.zscore(df_diwl['days_in_waiting_list'])\n",
        "indices = df_diwl[df_diwl['z_diwl'] > 3].index\n",
        "df_fitrado = df_filtrado.drop(indices, axis=0, inplace=True,errors=\"ignore\")\n",
        "\n",
        "\n",
        "#busco outliers para lead_time\n",
        "df_lead = df_filtrado.copy()\n",
        "\n",
        "#Hago z-score modificado\n",
        "mediana_lead = np.median(df.lead_time)\n",
        "MAD = np.median(np.absolute(df.lead_time - mediana_lead))\n",
        "df_lead['zm_lead_time']=(df.lead_time - mediana_lead )*0.6745/MAD\n",
        "#ELIMINACION: usando la regla de oro ELIMINO los que tengan un z-score modificado mayor a 3.5\n",
        "indice_outlier_z = df_lead[df_lead['zm_lead_time']>3.5].index\n",
        "#son 1079 outliers\n",
        "df_filtrado.drop(indice_outlier_z, inplace=True, errors='ignore',axis=0)\n",
        "\n",
        "#\n",
        "df_filtrado.drop('zm_adr', axis=1, inplace=True);"
      ]
    },
    {
      "cell_type": "code",
      "execution_count": null,
      "metadata": {
        "colab": {
          "base_uri": "https://localhost:8080/"
        },
        "id": "5FcSoGWqcg60",
        "outputId": "fa3bd448-666b-4ef0-e936-eb45abaece90"
      },
      "outputs": [
        {
          "data": {
            "text/plain": [
              "lead_time                           int64\n",
              "arrival_date_year                   int64\n",
              "arrival_date_week_number            int64\n",
              "arrival_date_day_of_month           int64\n",
              "stays_in_weekend_nights             int64\n",
              "stays_in_week_nights                int64\n",
              "adults                              int64\n",
              "children                          float64\n",
              "babies                              int64\n",
              "previous_cancellations              int64\n",
              "previous_bookings_not_canceled      int64\n",
              "booking_changes                     int64\n",
              "days_in_waiting_list                int64\n",
              "adr                               float64\n",
              "required_car_parking_spaces         int64\n",
              "total_of_special_requests           int64\n",
              "is_canceled                         int64\n",
              "dtype: object"
            ]
          },
          "execution_count": 108,
          "metadata": {},
          "output_type": "execute_result"
        }
      ],
      "source": [
        "#quito las columnas con valor categorico\n",
        "columnas_a_despreciar = ['hotel','arrival_date_month','meal','country','market_segment','distribution_channel','reserved_room_type','assigned_room_type','deposit_type','agent','customer_type','is_repeated_guest']\n",
        "df_svm = df_filtrado.drop(columnas_a_despreciar,axis='columns',inplace=False)\n",
        "df_svm.dtypes"
      ]
    },
    {
      "cell_type": "markdown",
      "metadata": {
        "id": "v6EFTtYNrkaA"
      },
      "source": [
        "##Entrenamiento"
      ]
    },
    {
      "cell_type": "code",
      "execution_count": null,
      "metadata": {
        "id": "TqxfI5SQ67VO"
      },
      "outputs": [],
      "source": [
        "from sklearn.metrics import confusion_matrix, classification_report\n",
        "def metricas(y_pred,y_test):\n",
        "\n",
        "  print(classification_report(y_test,y_pred))\n",
        "  \n",
        "  cm = confusion_matrix(y_test,y_pred)\n",
        "  sns.heatmap(cm, cmap='Blues',annot=True,fmt='g')\n",
        "  plt.xlabel('Predicted')\n",
        "  plt.ylabel('True')"
      ]
    },
    {
      "cell_type": "code",
      "execution_count": null,
      "metadata": {
        "id": "2k1o0vE9ZtlN"
      },
      "outputs": [],
      "source": [
        "x = df_svm.drop(['is_canceled'],axis='columns',inplace=False)\n",
        "y = df_svm['is_canceled'].copy()\n",
        "#Creo conjuntos de train y test\n",
        "x_train, x_test, y_train, y_test = train_test_split(x, y, test_size=0.3, random_state=0)"
      ]
    },
    {
      "cell_type": "code",
      "execution_count": null,
      "metadata": {
        "colab": {
          "base_uri": "https://localhost:8080/",
          "height": 466
        },
        "id": "I9uiWEVKaWQ2",
        "outputId": "b53ff382-af02-4ec4-e985-a9f8e49ca3d5"
      },
      "outputs": [
        {
          "data": {
            "text/plain": [
              "Text(0, 0.5, 'Varianza Explicada (%)')"
            ]
          },
          "execution_count": 111,
          "metadata": {},
          "output_type": "execute_result"
        },
        {
          "data": {
            "image/png": "[encoded data removed]",
            "text/plain": [
              "<Figure size 640x480 with 1 Axes>"
            ]
          },
          "metadata": {},
          "output_type": "display_data"
        }
      ],
      "source": [
        "from sklearn.preprocessing import StandardScaler\n",
        "from sklearn.decomposition import PCA\n",
        "\n",
        "#Escalo los datos de entrenamiento\n",
        "sc = StandardScaler()\n",
        "x_train_scaled = sc.fit_transform(x_train)\n",
        "\n",
        "# PCA sobre los datos escalados\n",
        "pca = PCA(n_components = None)\n",
        "x_train_pca = pca.fit_transform(x_train_scaled)\n",
        "\n",
        "#Cantidad de Componentes\n",
        "componentes = len(pca.explained_variance_ratio_) \n",
        "\n",
        "#Grafico la Varianza Explicada \n",
        "plt.plot(range(1,componentes+1), np.cumsum(pca.explained_variance_ratio_ * 100))\n",
        "plt.xlabel(\"Numero de componentes\")\n",
        "plt.ylabel(\"Varianza Explicada (%)\")"
      ]
    },
    {
      "cell_type": "code",
      "execution_count": null,
      "metadata": {
        "colab": {
          "base_uri": "https://localhost:8080/",
          "height": 75
        },
        "id": "Q2A4dyKK6WK2",
        "outputId": "9214d145-2523-4dc6-abeb-ff7d45c849f1"
      },
      "outputs": [
        {
          "data": {
            "text/html": [
              "<style>#sk-container-id-9 {color: black;background-color: white;}#sk-container-id-9 pre{padding: 0;}#sk-container-id-9 div.sk-toggleable {background-color: white;}#sk-container-id-9 label.sk-toggleable__label {cursor: pointer;display: block;width: 100%;margin-bottom: 0;padding: 0.3em;box-sizing: border-box;text-align: center;}#sk-container-id-9 label.sk-toggleable__label-arrow:before {content: \"▸\";float: left;margin-right: 0.25em;color: #696969;}#sk-container-id-9 label.sk-toggleable__label-arrow:hover:before {color: black;}#sk-container-id-9 div.sk-estimator:hover label.sk-toggleable__label-arrow:before {color: black;}#sk-container-id-9 div.sk-toggleable__content {max-height: 0;max-width: 0;overflow: hidden;text-align: left;background-color: #f0f8ff;}#sk-container-id-9 div.sk-toggleable__content pre {margin: 0.2em;color: black;border-radius: 0.25em;background-color: #f0f8ff;}#sk-container-id-9 input.sk-toggleable__control:checked~div.sk-toggleable__content {max-height: 200px;max-width: 100%;overflow: auto;}#sk-container-id-9 input.sk-toggleable__control:checked~label.sk-toggleable__label-arrow:before {content: \"▾\";}#sk-container-id-9 div.sk-estimator input.sk-toggleable__control:checked~label.sk-toggleable__label {background-color: #d4ebff;}#sk-container-id-9 div.sk-label input.sk-toggleable__control:checked~label.sk-toggleable__label {background-color: #d4ebff;}#sk-container-id-9 input.sk-hidden--visually {border: 0;clip: rect(1px 1px 1px 1px);clip: rect(1px, 1px, 1px, 1px);height: 1px;margin: -1px;overflow: hidden;padding: 0;position: absolute;width: 1px;}#sk-container-id-9 div.sk-estimator {font-family: monospace;background-color: #f0f8ff;border: 1px dotted black;border-radius: 0.25em;box-sizing: border-box;margin-bottom: 0.5em;}#sk-container-id-9 div.sk-estimator:hover {background-color: #d4ebff;}#sk-container-id-9 div.sk-parallel-item::after {content: \"\";width: 100%;border-bottom: 1px solid gray;flex-grow: 1;}#sk-container-id-9 div.sk-label:hover label.sk-toggleable__label {background-color: #d4ebff;}#sk-container-id-9 div.sk-serial::before {content: \"\";position: absolute;border-left: 1px solid gray;box-sizing: border-box;top: 0;bottom: 0;left: 50%;z-index: 0;}#sk-container-id-9 div.sk-serial {display: flex;flex-direction: column;align-items: center;background-color: white;padding-right: 0.2em;padding-left: 0.2em;position: relative;}#sk-container-id-9 div.sk-item {position: relative;z-index: 1;}#sk-container-id-9 div.sk-parallel {display: flex;align-items: stretch;justify-content: center;background-color: white;position: relative;}#sk-container-id-9 div.sk-item::before, #sk-container-id-9 div.sk-parallel-item::before {content: \"\";position: absolute;border-left: 1px solid gray;box-sizing: border-box;top: 0;bottom: 0;left: 50%;z-index: -1;}#sk-container-id-9 div.sk-parallel-item {display: flex;flex-direction: column;z-index: 1;position: relative;background-color: white;}#sk-container-id-9 div.sk-parallel-item:first-child::after {align-self: flex-end;width: 50%;}#sk-container-id-9 div.sk-parallel-item:last-child::after {align-self: flex-start;width: 50%;}#sk-container-id-9 div.sk-parallel-item:only-child::after {width: 0;}#sk-container-id-9 div.sk-dashed-wrapped {border: 1px dashed gray;margin: 0 0.4em 0.5em 0.4em;box-sizing: border-box;padding-bottom: 0.4em;background-color: white;}#sk-container-id-9 div.sk-label label {font-family: monospace;font-weight: bold;display: inline-block;line-height: 1.2em;}#sk-container-id-9 div.sk-label-container {text-align: center;}#sk-container-id-9 div.sk-container {/* jupyter's `normalize.less` sets `[hidden] { display: none; }` but bootstrap.min.css set `[hidden] { display: none !important; }` so we also need the `!important` here to be able to override the default hidden behavior on the sphinx rendered scikit-learn.org. See: https://github.com/scikit-learn/scikit-learn/issues/21755 */display: inline-block !important;position: relative;}#sk-container-id-9 div.sk-text-repr-fallback {display: none;}</style><div id=\"sk-container-id-9\" class=\"sk-top-container\"><div class=\"sk-text-repr-fallback\"><pre>SVC()</pre><b>In a Jupyter environment, please rerun this cell to show the HTML representation or trust the notebook. <br />On GitHub, the HTML representation is unable to render, please try loading this page with nbviewer.org.</b></div><div class=\"sk-container\" hidden><div class=\"sk-item\"><div class=\"sk-estimator sk-toggleable\"><input class=\"sk-toggleable__control sk-hidden--visually\" id=\"sk-estimator-id-9\" type=\"checkbox\" checked><label for=\"sk-estimator-id-9\" class=\"sk-toggleable__label sk-toggleable__label-arrow\">SVC</label><div class=\"sk-toggleable__content\"><pre>SVC()</pre></div></div></div></div></div>"
            ],
            "text/plain": [
              "SVC()"
            ]
          },
          "execution_count": 59,
          "metadata": {},
          "output_type": "execute_result"
        }
      ],
      "source": [
        "from sklearn.svm import SVC\n",
        "\n",
        "svm = SVC()\n",
        "\n",
        "svm.fit(x_train_pca,y_train)\n"
      ]
    },
    {
      "cell_type": "code",
      "execution_count": null,
      "metadata": {
        "colab": {
          "base_uri": "https://localhost:8080/",
          "height": 605
        },
        "id": "z3TNiOqc7A9W",
        "outputId": "33fae872-e3b2-42ca-b7c1-43adc7836bfc"
      },
      "outputs": [
        {
          "name": "stdout",
          "output_type": "stream",
          "text": [
            "              precision    recall  f1-score   support\n",
            "\n",
            "           0       0.73      0.80      0.76      8233\n",
            "           1       0.78      0.70      0.74      8185\n",
            "\n",
            "    accuracy                           0.75     16418\n",
            "   macro avg       0.75      0.75      0.75     16418\n",
            "weighted avg       0.75      0.75      0.75     16418\n",
            "\n"
          ]
        },
        {
          "data": {
            "image/png": "[encoded data removed]",
            "text/plain": [
              "<Figure size 640x480 with 2 Axes>"
            ]
          },
          "metadata": {},
          "output_type": "display_data"
        }
      ],
      "source": [
        "x_test_norm = sc.transform(x_test)\n",
        "x_test_pca = pca.transform(x_test_norm)\n",
        "y_pred_pca=svm.predict(x_test_pca)\n",
        "metricas(y_pred_pca,y_test)"
      ]
    },
    {
      "cell_type": "markdown",
      "metadata": {
        "id": "5KJDdFhO6GfY"
      },
      "source": [
        "##Optimizacion de hiperparametros"
      ]
    },
    {
      "cell_type": "code",
      "execution_count": null,
      "metadata": {
        "id": "cUvUyVxxsI0X"
      },
      "outputs": [],
      "source": [
        "import sklearn as sk\n",
        "from sklearn.model_selection import StratifiedKFold, KFold,GridSearchCV\n",
        "from sklearn.metrics import make_scorer\n",
        "from sklearn.svm import SVC\n",
        "\n",
        "#Conjunto de parámetros que quiero usar\n",
        "params_grid = {'kernel':['rbf'],\n",
        "               'C':[42,43],\n",
        "               }\n",
        "                \n",
        "#Cantidad de splits para el Cross Validation\n",
        "folds=2\n",
        "\n",
        "#Kfold estratificado\n",
        "kfoldcv = StratifiedKFold(n_splits=folds)\n",
        "\n",
        "#Clasificador\n",
        "base_svm = SVC() \n",
        "\n",
        "#Metrica que quiero optimizar F1 Score\n",
        "scorer_fn = make_scorer(sk.metrics.f1_score)\n",
        "\n",
        "#Random Search Cross Validation\n",
        "gridcv = GridSearchCV(estimator=base_svm,\n",
        "                              param_grid = params_grid,\n",
        "                              scoring=scorer_fn,\n",
        "                              cv=kfoldcv,\n",
        "                              return_train_score='True') \n",
        "\n",
        "#Busco los hiperparamtros que optimizan F1 Score\n",
        "gridcv.fit(x_train_pca,y_train);"
      ]
    },
    {
      "cell_type": "code",
      "execution_count": null,
      "metadata": {
        "colab": {
          "base_uri": "https://localhost:8080/"
        },
        "id": "DkjzzwZWyh80",
        "outputId": "133daf1f-f083-4191-eb60-02c612a482c6"
      },
      "outputs": [
        {
          "data": {
            "text/plain": [
              "{'C': 42, 'kernel': 'rbf'}"
            ]
          },
          "execution_count": 56,
          "metadata": {},
          "output_type": "execute_result"
        }
      ],
      "source": [
        "gridcv.best_params_"
      ]
    },
    {
      "cell_type": "code",
      "execution_count": null,
      "metadata": {
        "colab": {
          "base_uri": "https://localhost:8080/"
        },
        "id": "LPiUnH3TylnL",
        "outputId": "1c4b6fce-fa86-42cf-f80c-7c3990af4245"
      },
      "outputs": [
        {
          "data": {
            "text/plain": [
              "0.7430902161989053"
            ]
          },
          "execution_count": 57,
          "metadata": {},
          "output_type": "execute_result"
        }
      ],
      "source": [
        "gridcv.best_score_"
      ]
    },
    {
      "cell_type": "code",
      "execution_count": null,
      "metadata": {
        "colab": {
          "base_uri": "https://localhost:8080/",
          "height": 605
        },
        "id": "q3h5RQmqdDwT",
        "outputId": "686aafda-ecc2-48a8-d271-0ddd4c6b2a3c"
      },
      "outputs": [
        {
          "name": "stdout",
          "output_type": "stream",
          "text": [
            "              precision    recall  f1-score   support\n",
            "\n",
            "           0       0.74      0.79      0.76      8233\n",
            "           1       0.77      0.72      0.75      8185\n",
            "\n",
            "    accuracy                           0.76     16418\n",
            "   macro avg       0.76      0.76      0.76     16418\n",
            "weighted avg       0.76      0.76      0.76     16418\n",
            "\n"
          ]
        },
        {
          "data": {
            "image/png": "[encoded data removed]",
            "text/plain": [
              "<Figure size 640x480 with 2 Axes>"
            ]
          },
          "metadata": {},
          "output_type": "display_data"
        }
      ],
      "source": [
        "from sklearn.pipeline import Pipeline\n",
        "from sklearn.svm import SVC\n",
        "#Defino el tipo de escalado, la transformacion PCA y el modelo\n",
        "_sc = StandardScaler()\n",
        "##Tomare 12 componentes\n",
        "_pca = PCA(n_components = 12)\n",
        "_model = SVC(kernel='rbf', C=42)\n",
        "\n",
        "#Creo un pipeline\n",
        "svm_model = Pipeline([\n",
        "    ('std_scaler', _sc),\n",
        "    ('pca', _pca),\n",
        "    ('svm', _model)\n",
        "])\n",
        "\n",
        "#Entreno sobre los datos que serán previamente escalados y transformados\n",
        "svm_model.fit(x_train,y_train)\n",
        "\n",
        "#Hago la predicción y calculo las métricas\n",
        "y_pred_pca=svm_model.predict(x_test)\n",
        "metricas(y_pred_pca,y_test)\n"
      ]
    },
    {
      "cell_type": "markdown",
      "metadata": {
        "id": "NA5dczNACaY3"
      },
      "source": [
        "##Prediccion"
      ]
    },
    {
      "cell_type": "code",
      "execution_count": null,
      "metadata": {
        "colab": {
          "base_uri": "https://localhost:8080/"
        },
        "id": "LWsGz2LKBPT3",
        "outputId": "34802afd-a6a3-4f89-f9cd-0b7a6f70b1c6"
      },
      "outputs": [
        {
          "data": {
            "text/plain": [
              "['hotel',\n",
              " 'lead_time',\n",
              " 'arrival_date_year',\n",
              " 'arrival_date_month',\n",
              " 'arrival_date_week_number',\n",
              " 'arrival_date_day_of_month',\n",
              " 'stays_in_weekend_nights',\n",
              " 'stays_in_week_nights',\n",
              " 'adults',\n",
              " 'children',\n",
              " 'babies',\n",
              " 'meal',\n",
              " 'country',\n",
              " 'market_segment',\n",
              " 'distribution_channel',\n",
              " 'is_repeated_guest',\n",
              " 'previous_cancellations',\n",
              " 'previous_bookings_not_canceled',\n",
              " 'reserved_room_type',\n",
              " 'assigned_room_type',\n",
              " 'booking_changes',\n",
              " 'deposit_type',\n",
              " 'agent',\n",
              " 'days_in_waiting_list',\n",
              " 'customer_type',\n",
              " 'adr',\n",
              " 'required_car_parking_spaces',\n",
              " 'total_of_special_requests']"
            ]
          },
          "execution_count": 113,
          "metadata": {},
          "output_type": "execute_result"
        }
      ],
      "source": [
        "df_test_svm = df_test.copy()\n",
        "df_test_svm.columns.to_list()"
      ]
    },
    {
      "cell_type": "code",
      "execution_count": null,
      "metadata": {
        "id": "r9CG1amGCZNW"
      },
      "outputs": [],
      "source": [
        "df_test_svm = df_test.copy()\n",
        "df_test_svm.drop(columnas_a_despreciar, axis=1, inplace=True);\n",
        "\n",
        "df_test_svm = sc.transform(df_test_svm)\n",
        "df_test_svm = pca.transform(df_test_svm)\n",
        "\n",
        "y_pred = svm_model.predict(df_test_svm)"
      ]
    },
    {
      "cell_type": "code",
      "execution_count": null,
      "metadata": {
        "colab": {
          "base_uri": "https://localhost:8080/",
          "height": 424
        },
        "id": "ESC-oISXKn0t",
        "outputId": "4e69e12c-f795-4ace-e51f-1b47acd53a16"
      },
      "outputs": [
        {
          "data": {
            "text/html": [
              "\n",
              "  <div id=\"df-ac01d4d4-d9e2-4c7c-ba0b-c4a815444bb7\">\n",
              "    <div class=\"colab-df-container\">\n",
              "      <div>\n",
              "<style scoped>\n",
              "    .dataframe tbody tr th:only-of-type {\n",
              "        vertical-align: middle;\n",
              "    }\n",
              "\n",
              "    .dataframe tbody tr th {\n",
              "        vertical-align: top;\n",
              "    }\n",
              "\n",
              "    .dataframe thead th {\n",
              "        text-align: right;\n",
              "    }\n",
              "</style>\n",
              "<table border=\"1\" class=\"dataframe\">\n",
              "  <thead>\n",
              "    <tr style=\"text-align: right;\">\n",
              "      <th></th>\n",
              "      <th>id</th>\n",
              "      <th>is_canceled</th>\n",
              "    </tr>\n",
              "  </thead>\n",
              "  <tbody>\n",
              "    <tr>\n",
              "      <th>0</th>\n",
              "      <td>e6d0d58a-ab96-44d3-b28f-85df1cc15f1e</td>\n",
              "      <td>1</td>\n",
              "    </tr>\n",
              "    <tr>\n",
              "      <th>1</th>\n",
              "      <td>aba9aac2-4495-4645-a60e-90328713c999</td>\n",
              "      <td>0</td>\n",
              "    </tr>\n",
              "    <tr>\n",
              "      <th>2</th>\n",
              "      <td>b345b5dc-c804-4d77-a39f-1f4e65d1f1ad</td>\n",
              "      <td>0</td>\n",
              "    </tr>\n",
              "    <tr>\n",
              "      <th>3</th>\n",
              "      <td>ce1b400e-afa1-4946-bdff-004b859eb61c</td>\n",
              "      <td>1</td>\n",
              "    </tr>\n",
              "    <tr>\n",
              "      <th>4</th>\n",
              "      <td>c4fbec0d-8e2e-4db2-9d4f-a6ccb9f51214</td>\n",
              "      <td>1</td>\n",
              "    </tr>\n",
              "    <tr>\n",
              "      <th>...</th>\n",
              "      <td>...</td>\n",
              "      <td>...</td>\n",
              "    </tr>\n",
              "    <tr>\n",
              "      <th>26530</th>\n",
              "      <td>636ccded-66ad-4538-8006-c0b9f84c6256</td>\n",
              "      <td>1</td>\n",
              "    </tr>\n",
              "    <tr>\n",
              "      <th>26531</th>\n",
              "      <td>11e19741-bd28-4459-8ea3-184f1664000f</td>\n",
              "      <td>1</td>\n",
              "    </tr>\n",
              "    <tr>\n",
              "      <th>26532</th>\n",
              "      <td>36a4c7b0-d6b1-4528-93db-311be96ec1c6</td>\n",
              "      <td>1</td>\n",
              "    </tr>\n",
              "    <tr>\n",
              "      <th>26533</th>\n",
              "      <td>89c85fa5-2b3d-4131-844c-e151a65ca240</td>\n",
              "      <td>1</td>\n",
              "    </tr>\n",
              "    <tr>\n",
              "      <th>26534</th>\n",
              "      <td>bd4e9eee-f28e-4a53-b4a1-277426efbcee</td>\n",
              "      <td>1</td>\n",
              "    </tr>\n",
              "  </tbody>\n",
              "</table>\n",
              "<p>26535 rows × 2 columns</p>\n",
              "</div>\n",
              "      <button class=\"colab-df-convert\" onclick=\"convertToInteractive('df-ac01d4d4-d9e2-4c7c-ba0b-c4a815444bb7')\"\n",
              "              title=\"Convert this dataframe to an interactive table.\"\n",
              "              style=\"display:none;\">\n",
              "        \n",
              "  <svg xmlns=\"http://www.w3.org/2000/svg\" height=\"24px\"viewBox=\"0 0 24 24\"\n",
              "       width=\"24px\">\n",
              "    <path d=\"M0 0h24v24H0V0z\" fill=\"none\"/>\n",
              "    <path d=\"M18.56 5.44l.94 2.06.94-2.06 2.06-.94-2.06-.94-.94-2.06-.94 2.06-2.06.94zm-11 1L8.5 8.5l.94-2.06 2.06-.94-2.06-.94L8.5 2.5l-.94 2.06-2.06.94zm10 10l.94 2.06.94-2.06 2.06-.94-2.06-.94-.94-2.06-.94 2.06-2.06.94z\"/><path d=\"M17.41 7.96l-1.37-1.37c-.4-.4-.92-.59-1.43-.59-.52 0-1.04.2-1.43.59L10.3 9.45l-7.72 7.72c-.78.78-.78 2.05 0 2.83L4 21.41c.39.39.9.59 1.41.59.51 0 1.02-.2 1.41-.59l7.78-7.78 2.81-2.81c.8-.78.8-2.07 0-2.86zM5.41 20L4 18.59l7.72-7.72 1.47 1.35L5.41 20z\"/>\n",
              "  </svg>\n",
              "      </button>\n",
              "      \n",
              "  <style>\n",
              "    .colab-df-container {\n",
              "      display:flex;\n",
              "      flex-wrap:wrap;\n",
              "      gap: 12px;\n",
              "    }\n",
              "\n",
              "    .colab-df-convert {\n",
              "      background-color: #E8F0FE;\n",
              "      border: none;\n",
              "      border-radius: 50%;\n",
              "      cursor: pointer;\n",
              "      display: none;\n",
              "      fill: #1967D2;\n",
              "      height: 32px;\n",
              "      padding: 0 0 0 0;\n",
              "      width: 32px;\n",
              "    }\n",
              "\n",
              "    .colab-df-convert:hover {\n",
              "      background-color: #E2EBFA;\n",
              "      box-shadow: 0px 1px 2px rgba(60, 64, 67, 0.3), 0px 1px 3px 1px rgba(60, 64, 67, 0.15);\n",
              "      fill: #174EA6;\n",
              "    }\n",
              "\n",
              "    [theme=dark] .colab-df-convert {\n",
              "      background-color: #3B4455;\n",
              "      fill: #D2E3FC;\n",
              "    }\n",
              "\n",
              "    [theme=dark] .colab-df-convert:hover {\n",
              "      background-color: #434B5C;\n",
              "      box-shadow: 0px 1px 3px 1px rgba(0, 0, 0, 0.15);\n",
              "      filter: drop-shadow(0px 1px 2px rgba(0, 0, 0, 0.3));\n",
              "      fill: #FFFFFF;\n",
              "    }\n",
              "  </style>\n",
              "\n",
              "      <script>\n",
              "        const buttonEl =\n",
              "          document.querySelector('#df-ac01d4d4-d9e2-4c7c-ba0b-c4a815444bb7 button.colab-df-convert');\n",
              "        buttonEl.style.display =\n",
              "          google.colab.kernel.accessAllowed ? 'block' : 'none';\n",
              "\n",
              "        async function convertToInteractive(key) {\n",
              "          const element = document.querySelector('#df-ac01d4d4-d9e2-4c7c-ba0b-c4a815444bb7');\n",
              "          const dataTable =\n",
              "            await google.colab.kernel.invokeFunction('convertToInteractive',\n",
              "                                                     [key], {});\n",
              "          if (!dataTable) return;\n",
              "\n",
              "          const docLinkHtml = 'Like what you see? Visit the ' +\n",
              "            '<a target=\"_blank\" href=https://colab.research.google.com/notebooks/data_table.ipynb>data table notebook</a>'\n",
              "            + ' to learn more about interactive tables.';\n",
              "          element.innerHTML = '';\n",
              "          dataTable['output_type'] = 'display_data';\n",
              "          await google.colab.output.renderOutput(dataTable, element);\n",
              "          const docLink = document.createElement('div');\n",
              "          docLink.innerHTML = docLinkHtml;\n",
              "          element.appendChild(docLink);\n",
              "        }\n",
              "      </script>\n",
              "    </div>\n",
              "  </div>\n",
              "  "
            ],
            "text/plain": [
              "                                         id  is_canceled\n",
              "0      e6d0d58a-ab96-44d3-b28f-85df1cc15f1e            1\n",
              "1      aba9aac2-4495-4645-a60e-90328713c999            0\n",
              "2      b345b5dc-c804-4d77-a39f-1f4e65d1f1ad            0\n",
              "3      ce1b400e-afa1-4946-bdff-004b859eb61c            1\n",
              "4      c4fbec0d-8e2e-4db2-9d4f-a6ccb9f51214            1\n",
              "...                                     ...          ...\n",
              "26530  636ccded-66ad-4538-8006-c0b9f84c6256            1\n",
              "26531  11e19741-bd28-4459-8ea3-184f1664000f            1\n",
              "26532  36a4c7b0-d6b1-4528-93db-311be96ec1c6            1\n",
              "26533  89c85fa5-2b3d-4131-844c-e151a65ca240            1\n",
              "26534  bd4e9eee-f28e-4a53-b4a1-277426efbcee            1\n",
              "\n",
              "[26535 rows x 2 columns]"
            ]
          },
          "execution_count": 94,
          "metadata": {},
          "output_type": "execute_result"
        }
      ],
      "source": [
        "svm_submit =  pd.DataFrame(zip(test_id,y_pred),columns=['id','is_canceled'])\n",
        "svm_submit"
      ]
    },
    {
      "cell_type": "code",
      "execution_count": null,
      "metadata": {
        "id": "i3BpMGERKsqz"
      },
      "outputs": [],
      "source": [
        "submit.to_csv('./svm_submit.csv',index=False)  "
      ]
    },
    {
      "cell_type": "markdown",
      "metadata": {
        "id": "Lw39p7CzZANM"
      },
      "source": [
        "##Preparando modelo"
      ]
    },
    {
      "cell_type": "code",
      "execution_count": null,
      "metadata": {
        "colab": {
          "base_uri": "https://localhost:8080/"
        },
        "id": "FHfPCPanZC0j",
        "outputId": "f095f126-9df1-4687-b4f8-d81acb929fec"
      },
      "outputs": [
        {
          "data": {
            "text/plain": [
              "array([0, 0, 0, ..., 0, 0, 0])"
            ]
          },
          "execution_count": 115,
          "metadata": {},
          "output_type": "execute_result"
        }
      ],
      "source": [
        "from joblib import dump\n",
        "dump(svm_model, 'SVM.joblib') \n",
        "\n",
        "from joblib import load\n",
        "SVM = load('SVM.joblib')\n",
        "SVM.predict(df_test_svm) "
      ]
    },
    {
      "cell_type": "markdown",
      "metadata": {
        "id": "HGGOtENl87Q1"
      },
      "source": [
        "# **XGBoost**"
      ]
    },
    {
      "cell_type": "markdown",
      "metadata": {
        "id": "20cEthWsF61l"
      },
      "source": [
        "## Preprocesamiento"
      ]
    },
    {
      "cell_type": "code",
      "execution_count": null,
      "metadata": {
        "colab": {
          "base_uri": "https://localhost:8080/"
        },
        "id": "PcmyKpY0F9QP",
        "outputId": "78e39b19-f198-4559-820e-bf30dea15053"
      },
      "outputs": [
        {
          "name": "stdout",
          "output_type": "stream",
          "text": [
            "1023\n",
            "Cantidad de outliers encontrados con z-score: 2968\n",
            "Cantidad de outliers encontrados con z-score: 392\n"
          ]
        }
      ],
      "source": [
        "#Datos\n",
        "import numpy as np\n",
        "import pandas as pd\n",
        "\n",
        "#Plots\n",
        "import matplotlib.pyplot as plt\n",
        "import seaborn as sns\n",
        "\n",
        "# Outliers\n",
        "import scipy.stats as st\n",
        "\n",
        "#Modelado\n",
        "from sklearn.model_selection import train_test_split\n",
        "from sklearn.metrics import accuracy_score\n",
        "\n",
        "# Cargo el data set\n",
        "direc = \"https://raw.githubusercontent.com/Akselas/7506R-1C2023-GRUPO26/main/hotels_train.csv\"\n",
        "direc_test = \"https://raw.githubusercontent.com/Akselas/7506R-1C2023-GRUPO26/main/hotels_test.csv\"\n",
        "df_test = pd.read_csv(direc_test)\n",
        "df = pd.read_csv(direc)\n",
        "df_filtrado  = df.copy()\n",
        "\n",
        "# Limpieza del dataset\n",
        "\n",
        "# Eliminamos columnas para test\n",
        "test_id = df_test.id.copy()\n",
        "df_test = df_test.drop('id', axis=1)\n",
        "df_test = df_test.drop(\"reservation_status\", axis=1)\n",
        "df_test = df_test.drop(\"reservation_status_date\", axis=1)\n",
        "df_test = df_test.drop(\"company\", axis=1)\n",
        "\n",
        "\n",
        "# Eliminamos columnas\n",
        "df_filtrado = df_filtrado.drop('id', axis=1)\n",
        "df_filtrado = df_filtrado.drop(\"reservation_status\", axis=1)\n",
        "df_filtrado = df_filtrado.drop(\"reservation_status_date\", axis=1)\n",
        "df_filtrado = df_filtrado.drop(\"company\", axis=1)\n",
        "\n",
        "# Se reemplazan los valores nulos por 0 en agents\n",
        "df_filtrado['agent'] = df_filtrado['agent'].fillna(0)\n",
        "df_filtrado['agent'] = df_filtrado['agent'].astype(str)\n",
        "\n",
        "df_test['agent'] = df_test['agent'].fillna(0)\n",
        "df_test['agent'] = df_test['agent'].astype(str)\n",
        "\n",
        "\n",
        "\n",
        "\n",
        "#Categorizo los agentes menos populares(no incluyo los agentes 0)\n",
        "agentes_populares = df_filtrado['agent'].value_counts().index.to_list()[0:14]\n",
        "def es_agente_popular(agent):\n",
        "  if agent in agentes_populares:\n",
        "    return agent\n",
        "  elif agent == 0:\n",
        "    return agent\n",
        "  else:\n",
        "    return 'otro'\n",
        "\n",
        "df_filtrado['agent'] = df_filtrado['agent'].apply(es_agente_popular )\n",
        "df_test['agent'] = df_test['agent'].apply(es_agente_popular )\n",
        "\n",
        "# Reemplazamos todas las aparaiciones de paises con pocas apariciones en un pais \"otro\"\n",
        "paises = df_filtrado['country'].value_counts()\n",
        "paises_atipicos = paises[ paises <=100].index.to_list()\n",
        "def es_pais_atipico(pais):\n",
        "  if pais in paises_atipicos or pd.isna(pais) :\n",
        "    return 'otro'\n",
        "  else:\n",
        "    return pais\n",
        "\n",
        "df_filtrado['country'] = df_filtrado['country'].apply( es_pais_atipico)\n",
        "\n",
        "\n",
        "df_test['country'] = df_test['country'].apply(es_pais_atipico)\n",
        "\n",
        "\n",
        "# Esta funcion es solo para test, a todos los paises que no estan en train los categoriza como otro\n",
        "paises_tipicos = paises[ paises > 100].index.to_list()\n",
        "def pertenece_a_pais_de_train(pais):\n",
        "  if pais in paises_atipicos or pais not in paises_tipicos or pd.isna(pais) :\n",
        "    return 'otro'\n",
        "  else:\n",
        "    return pais\n",
        "df_test['country'] = df_test['country'].apply(pertenece_a_pais_de_train)\n",
        "\n",
        "\n",
        "#caso de datos nulos en children\n",
        "#le agrego el valor que mas predomina, que es 0\n",
        "df_filtrado['children'] = df_filtrado['children'].apply(lambda child: 0 if pd.isna(child) else child)\n",
        "df_test['children'] = df_test['children'].apply(lambda child: 0 if pd.isna(child) else child)\n",
        "\n",
        "\n",
        "\n",
        "#caso market segment y distribution channel\n",
        "a = df_filtrado[df_filtrado['market_segment'] == 'Undefined'].index\n",
        "df_filtrado.drop(a,  inplace=True, errors='ignore')\n",
        "\n",
        "b = df_filtrado[df_filtrado['distribution_channel'] == 'Undefined'].index\n",
        "df_filtrado.drop(b,  inplace=True, errors='ignore')\n",
        "\n",
        "\n",
        "\n",
        "\n",
        "\n",
        "##categorizo las columnas menos populares con el nombre de \"otro\"\n",
        "rooms_mas_populares = df_filtrado['assigned_room_type'].value_counts().index.to_list()[0:8]\n",
        "df_filtrado['assigned_room_type'] =df_filtrado['assigned_room_type'].apply( lambda room: 'otro' if room not in rooms_mas_populares else room)\n",
        "df_filtrado['reserved_room_type'] =df_filtrado['reserved_room_type'].apply( lambda room: 'otro' if room not in rooms_mas_populares else room)\n",
        "\n",
        "df_test['assigned_room_type'] =df_test['assigned_room_type'].apply( lambda room: 'otro' if room not in rooms_mas_populares else room)\n",
        "df_test['reserved_room_type'] =df_test['reserved_room_type'].apply( lambda room: 'otro' if room not in rooms_mas_populares else room)\n",
        "\n",
        "\n",
        "\n",
        "\n",
        "##categorizo las columnas menos populares con el nombre de \"otro\"\n",
        "indices_filas_cero = df_filtrado.loc[(df['children'] == 0) & (df['adults'] == 0) & (df['babies'] == 0)].index\n",
        "df_filtrado = df_filtrado.drop(indices_filas_cero ,errors ='ignore', axis=0)\n",
        "df_filtrado.reset_index()\n",
        "\n",
        "# Outliers adr\n",
        "#Observamos valores negativos que son anomalos\n",
        "outlier_adr = df_filtrado[df_filtrado[\"adr\"]<=0]\n",
        "\n",
        "\n",
        "#ELIMINACION de outlier por indice de fila\n",
        "indice_outlier=df_filtrado[df_filtrado['adr']<=0].index\n",
        "\n",
        "df_filtrado.drop(indice_outlier, inplace=True)\n",
        "\n",
        "#Hago z-score modificado\n",
        "mediana_adr=np.median(df_filtrado.adr)\n",
        "MAD=np.median(np.absolute(df_filtrado.adr-mediana_adr))\n",
        "df_filtrado['zm_adr']=(df_filtrado.adr - mediana_adr )*0.6745/MAD\n",
        "#usando la regla de oro dropeo los que tengan un z-score modificado mayor a 3.5\n",
        "indice_outlier_z = df_filtrado[df_filtrado['zm_adr']>3.5].index\n",
        "print(len(indice_outlier_z))\n",
        "df_filtrado.drop(indice_outlier_z, inplace=True,axis=0)\n",
        "\n",
        "\n",
        "# Outliers para adluts\n",
        "df_copia_adults = df_filtrado.copy()\n",
        "\n",
        "#Hago z-score modificado\n",
        "mediana_adults = np.median(df.adults)\n",
        "MAD = np.median(np.absolute(df_copia_adults.adults - mediana_adults))\n",
        "df_copia_adults['zm_adults'] = (df_copia_adults.adults - mediana_adults ) * 0.6745/MAD\n",
        "indice_outlier_z = df_copia_adults[df_copia_adults['zm_adults'] > 3.5].index\n",
        "print(f\"Cantidad de outliers encontrados con z-score: {len(indice_outlier_z)}\")\n",
        "df_filtrado.drop(indice_outlier_z, inplace=True,axis=0)\n",
        "\n",
        "\n",
        "# Outliers para babys\n",
        "df_copia_babies = df_filtrado.copy()\n",
        "#Hago z-score modificado\n",
        "mediana_babies = np.median(df.babies)\n",
        "MAD = np.median(np.absolute(df_copia_babies.babies - mediana_babies))\n",
        "df_copia_babies['zm_babies'] = (df_copia_babies.babies - mediana_babies ) * 0.6745/MAD\n",
        "indice_outlier_z = df_copia_babies[df_copia_babies['zm_babies'] > 3.5].index\n",
        "print(f\"Cantidad de outliers encontrados con z-score: {len(indice_outlier_z)}\")\n",
        "\n",
        "df_filtrado.drop(indice_outlier_z, inplace=True,axis=0)\n",
        "\n",
        "\n",
        "# Outilers para days_in_waiting_list\n",
        "#Hago z-score\n",
        "df_diwl = df_filtrado.copy()\n",
        "df_diwl['z_diwl'] = st.zscore(df_diwl['days_in_waiting_list'])\n",
        "indices = df_diwl[df_diwl['z_diwl'] > 3].index\n",
        "df_fitrado = df_filtrado.drop(indices, axis=0, inplace=True,errors=\"ignore\")\n",
        "\n",
        "\n",
        "#busco outliers para lead_time\n",
        "df_lead = df_filtrado.copy()\n",
        "\n",
        "#Hago z-score modificado\n",
        "mediana_lead = np.median(df.lead_time)\n",
        "MAD = np.median(np.absolute(df.lead_time - mediana_lead))\n",
        "df_lead['zm_lead_time']=(df.lead_time - mediana_lead )*0.6745/MAD\n",
        "#ELIMINACION: usando la regla de oro ELIMINO los que tengan un z-score modificado mayor a 3.5\n",
        "indice_outlier_z = df_lead[df_lead['zm_lead_time']>3.5].index\n",
        "#son 1079 outliers\n",
        "df_filtrado.drop(indice_outlier_z, inplace=True, errors='ignore',axis=0)\n",
        "\n",
        "\n",
        "df_filtrado.drop('zm_adr', axis=1, inplace=True);\n",
        "\n",
        "\n"
      ]
    },
    {
      "cell_type": "code",
      "execution_count": null,
      "metadata": {
        "id": "Lqhh_uPfGNvg"
      },
      "outputs": [],
      "source": [
        "ds_trabajo = pd.get_dummies(df_filtrado, columns=[\"hotel\",\"arrival_date_month\",\"deposit_type\",\"reserved_room_type\",\"assigned_room_type\",\"customer_type\",\"meal\",\"market_segment\",\"distribution_channel\",\"agent\",\"country\"], drop_first=True)\n",
        "df_test = pd.get_dummies(df_test, columns=[\"hotel\",\"arrival_date_month\",\"deposit_type\",\"reserved_room_type\",\"assigned_room_type\",\"customer_type\",\"meal\",\"market_segment\",\"distribution_channel\",\"agent\",\"country\"], drop_first=True)"
      ]
    },
    {
      "cell_type": "code",
      "execution_count": null,
      "metadata": {
        "id": "WiVjdwHn5iW7"
      },
      "outputs": [],
      "source": []
    },
    {
      "cell_type": "code",
      "execution_count": null,
      "metadata": {
        "id": "qNjkk-C-GO7R"
      },
      "outputs": [],
      "source": [
        "# Esto es para el escalado\n",
        "#from sklearn.preprocessing import MinMaxScaler\n",
        "#scaler = MinMaxScaler()\n",
        "#ds_trabajo[['adr', 'babies', 'days_in_waiting_list', 'lead_time', 'previous_cancellations', 'booking_changes', 'children']] = scaler.fit_transform(ds_trabajo[['adr', 'babies', 'days_in_waiting_list', 'lead_time', 'previous_cancellations', 'booking_changes', 'children']])"
      ]
    },
    {
      "cell_type": "markdown",
      "metadata": {
        "id": "6M2cGwcVF4U6"
      },
      "source": [
        "## Entrenamiento"
      ]
    },
    {
      "cell_type": "code",
      "execution_count": null,
      "metadata": {
        "colab": {
          "base_uri": "https://localhost:8080/",
          "height": 248
        },
        "id": "2wDNH_Ct-FKd",
        "outputId": "f1d00a71-a06f-4968-b0c6-b9073d402279"
      },
      "outputs": [
        {
          "data": {
            "text/html": [
              "<style>#sk-container-id-11 {color: black;background-color: white;}#sk-container-id-11 pre{padding: 0;}#sk-container-id-11 div.sk-toggleable {background-color: white;}#sk-container-id-11 label.sk-toggleable__label {cursor: pointer;display: block;width: 100%;margin-bottom: 0;padding: 0.3em;box-sizing: border-box;text-align: center;}#sk-container-id-11 label.sk-toggleable__label-arrow:before {content: \"▸\";float: left;margin-right: 0.25em;color: #696969;}#sk-container-id-11 label.sk-toggleable__label-arrow:hover:before {color: black;}#sk-container-id-11 div.sk-estimator:hover label.sk-toggleable__label-arrow:before {color: black;}#sk-container-id-11 div.sk-toggleable__content {max-height: 0;max-width: 0;overflow: hidden;text-align: left;background-color: #f0f8ff;}#sk-container-id-11 div.sk-toggleable__content pre {margin: 0.2em;color: black;border-radius: 0.25em;background-color: #f0f8ff;}#sk-container-id-11 input.sk-toggleable__control:checked~div.sk-toggleable__content {max-height: 200px;max-width: 100%;overflow: auto;}#sk-container-id-11 input.sk-toggleable__control:checked~label.sk-toggleable__label-arrow:before {content: \"▾\";}#sk-container-id-11 div.sk-estimator input.sk-toggleable__control:checked~label.sk-toggleable__label {background-color: #d4ebff;}#sk-container-id-11 div.sk-label input.sk-toggleable__control:checked~label.sk-toggleable__label {background-color: #d4ebff;}#sk-container-id-11 input.sk-hidden--visually {border: 0;clip: rect(1px 1px 1px 1px);clip: rect(1px, 1px, 1px, 1px);height: 1px;margin: -1px;overflow: hidden;padding: 0;position: absolute;width: 1px;}#sk-container-id-11 div.sk-estimator {font-family: monospace;background-color: #f0f8ff;border: 1px dotted black;border-radius: 0.25em;box-sizing: border-box;margin-bottom: 0.5em;}#sk-container-id-11 div.sk-estimator:hover {background-color: #d4ebff;}#sk-container-id-11 div.sk-parallel-item::after {content: \"\";width: 100%;border-bottom: 1px solid gray;flex-grow: 1;}#sk-container-id-11 div.sk-label:hover label.sk-toggleable__label {background-color: #d4ebff;}#sk-container-id-11 div.sk-serial::before {content: \"\";position: absolute;border-left: 1px solid gray;box-sizing: border-box;top: 0;bottom: 0;left: 50%;z-index: 0;}#sk-container-id-11 div.sk-serial {display: flex;flex-direction: column;align-items: center;background-color: white;padding-right: 0.2em;padding-left: 0.2em;position: relative;}#sk-container-id-11 div.sk-item {position: relative;z-index: 1;}#sk-container-id-11 div.sk-parallel {display: flex;align-items: stretch;justify-content: center;background-color: white;position: relative;}#sk-container-id-11 div.sk-item::before, #sk-container-id-11 div.sk-parallel-item::before {content: \"\";position: absolute;border-left: 1px solid gray;box-sizing: border-box;top: 0;bottom: 0;left: 50%;z-index: -1;}#sk-container-id-11 div.sk-parallel-item {display: flex;flex-direction: column;z-index: 1;position: relative;background-color: white;}#sk-container-id-11 div.sk-parallel-item:first-child::after {align-self: flex-end;width: 50%;}#sk-container-id-11 div.sk-parallel-item:last-child::after {align-self: flex-start;width: 50%;}#sk-container-id-11 div.sk-parallel-item:only-child::after {width: 0;}#sk-container-id-11 div.sk-dashed-wrapped {border: 1px dashed gray;margin: 0 0.4em 0.5em 0.4em;box-sizing: border-box;padding-bottom: 0.4em;background-color: white;}#sk-container-id-11 div.sk-label label {font-family: monospace;font-weight: bold;display: inline-block;line-height: 1.2em;}#sk-container-id-11 div.sk-label-container {text-align: center;}#sk-container-id-11 div.sk-container {/* jupyter's `normalize.less` sets `[hidden] { display: none; }` but bootstrap.min.css set `[hidden] { display: none !important; }` so we also need the `!important` here to be able to override the default hidden behavior on the sphinx rendered scikit-learn.org. See: https://github.com/scikit-learn/scikit-learn/issues/21755 */display: inline-block !important;position: relative;}#sk-container-id-11 div.sk-text-repr-fallback {display: none;}</style><div id=\"sk-container-id-11\" class=\"sk-top-container\"><div class=\"sk-text-repr-fallback\"><pre>XGBClassifier(base_score=None, booster=None, callbacks=None,\n",
              "              colsample_bylevel=None, colsample_bynode=None,\n",
              "              colsample_bytree=None, early_stopping_rounds=None,\n",
              "              enable_categorical=False, eval_metric=None, feature_types=None,\n",
              "              gamma=None, gpu_id=None, grow_policy=None, importance_type=None,\n",
              "              interaction_constraints=None, learning_rate=None, max_bin=None,\n",
              "              max_cat_threshold=None, max_cat_to_onehot=None,\n",
              "              max_delta_step=None, max_depth=None, max_leaves=None,\n",
              "              min_child_weight=None, missing=nan, monotone_constraints=None,\n",
              "              n_estimators=100, n_jobs=None, num_parallel_tree=None,\n",
              "              predictor=None, random_state=0, ...)</pre><b>In a Jupyter environment, please rerun this cell to show the HTML representation or trust the notebook. <br />On GitHub, the HTML representation is unable to render, please try loading this page with nbviewer.org.</b></div><div class=\"sk-container\" hidden><div class=\"sk-item\"><div class=\"sk-estimator sk-toggleable\"><input class=\"sk-toggleable__control sk-hidden--visually\" id=\"sk-estimator-id-11\" type=\"checkbox\" checked><label for=\"sk-estimator-id-11\" class=\"sk-toggleable__label sk-toggleable__label-arrow\">XGBClassifier</label><div class=\"sk-toggleable__content\"><pre>XGBClassifier(base_score=None, booster=None, callbacks=None,\n",
              "              colsample_bylevel=None, colsample_bynode=None,\n",
              "              colsample_bytree=None, early_stopping_rounds=None,\n",
              "              enable_categorical=False, eval_metric=None, feature_types=None,\n",
              "              gamma=None, gpu_id=None, grow_policy=None, importance_type=None,\n",
              "              interaction_constraints=None, learning_rate=None, max_bin=None,\n",
              "              max_cat_threshold=None, max_cat_to_onehot=None,\n",
              "              max_delta_step=None, max_depth=None, max_leaves=None,\n",
              "              min_child_weight=None, missing=nan, monotone_constraints=None,\n",
              "              n_estimators=100, n_jobs=None, num_parallel_tree=None,\n",
              "              predictor=None, random_state=0, ...)</pre></div></div></div></div></div>"
            ],
            "text/plain": [
              "XGBClassifier(base_score=None, booster=None, callbacks=None,\n",
              "              colsample_bylevel=None, colsample_bynode=None,\n",
              "              colsample_bytree=None, early_stopping_rounds=None,\n",
              "              enable_categorical=False, eval_metric=None, feature_types=None,\n",
              "              gamma=None, gpu_id=None, grow_policy=None, importance_type=None,\n",
              "              interaction_constraints=None, learning_rate=None, max_bin=None,\n",
              "              max_cat_threshold=None, max_cat_to_onehot=None,\n",
              "              max_delta_step=None, max_depth=None, max_leaves=None,\n",
              "              min_child_weight=None, missing=nan, monotone_constraints=None,\n",
              "              n_estimators=100, n_jobs=None, num_parallel_tree=None,\n",
              "              predictor=None, random_state=0, ...)"
            ]
          },
          "execution_count": 119,
          "metadata": {},
          "output_type": "execute_result"
        }
      ],
      "source": [
        "#Creo el modelo y lo entreno\n",
        "import xgboost as xgb\n",
        "#Creo un dataset con los features que voy a usar para clasificar\n",
        "x = ds_trabajo.drop(['is_canceled'], axis='columns', inplace=False)\n",
        "\n",
        "#Creo un dataset con la variable target\n",
        "y = ds_trabajo['is_canceled'].copy()\n",
        "\n",
        "\n",
        "#Separo conjunto de Train y de Test (80/20)\n",
        "x_train, x_test, y_train, y_test = train_test_split(x, y, test_size=0.20, random_state=0)\n",
        "\n",
        "xgb_model = xgb.XGBClassifier(random_state=0, n_estimators=100)\n",
        "xgb_model.fit(x_train, y_train)"
      ]
    },
    {
      "cell_type": "code",
      "execution_count": null,
      "metadata": {
        "colab": {
          "base_uri": "https://localhost:8080/",
          "height": 623
        },
        "id": "fF0QfVD8-WHH",
        "outputId": "984ba319-2374-4b1a-bb5c-4abd6839db57"
      },
      "outputs": [
        {
          "name": "stdout",
          "output_type": "stream",
          "text": [
            "AUC: 0.9542064394413697\n",
            "              precision    recall  f1-score   support\n",
            "\n",
            "           0       0.89      0.87      0.88      5475\n",
            "           1       0.87      0.89      0.88      5470\n",
            "\n",
            "    accuracy                           0.88     10945\n",
            "   macro avg       0.88      0.88      0.88     10945\n",
            "weighted avg       0.88      0.88      0.88     10945\n",
            "\n"
          ]
        },
        {
          "data": {
            "image/png": "[encoded data removed]",
            "text/plain": [
              "<Figure size 640x480 with 2 Axes>"
            ]
          },
          "metadata": {},
          "output_type": "display_data"
        }
      ],
      "source": [
        "#Evaluo en el set de test\n",
        "from sklearn.metrics import roc_auc_score\n",
        "y_pred_proba= xgb_model.predict_proba(x_test)[:, 1]\n",
        "print('AUC:',roc_auc_score(y_test, y_pred_proba))\n",
        "\n",
        "#Matriz de Confusion\n",
        "y_pred=xgb_model.predict(x_test)\n",
        "\n",
        "cm = confusion_matrix(y_test,y_pred)\n",
        "sns.heatmap(cm, cmap='Blues',annot=True,fmt='g')\n",
        "plt.xlabel('Predicted')\n",
        "plt.ylabel('True')\n",
        "\n",
        "#Reporte\n",
        "print(classification_report(y_test,y_pred))\n"
      ]
    },
    {
      "cell_type": "markdown",
      "metadata": {
        "id": "UPNO2OIxl3Cx"
      },
      "source": [
        "## Optimizacion de hiperparametros"
      ]
    },
    {
      "cell_type": "code",
      "execution_count": null,
      "metadata": {
        "colab": {
          "base_uri": "https://localhost:8080/"
        },
        "id": "DVSqnqjcl7ox",
        "outputId": "b1a424de-8282-47e5-9685-c364864a53ae"
      },
      "outputs": [
        {
          "data": {
            "text/plain": [
              "array([0.86735655, 0.85758028, 0.8741635 , 0.86936668, 0.875534  ])"
            ]
          },
          "execution_count": 77,
          "metadata": {},
          "output_type": "execute_result"
        }
      ],
      "source": [
        "from sklearn.model_selection import RandomizedSearchCV\n",
        "\n",
        "#Grilla de Parámetros\n",
        "params_grid={ 'learning_rate':np.linspace(0.1,0.5,5), \n",
        "              'n_estimators':range(10,100),\n",
        "              'max_depth':range(4,10),\n",
        "             'objective':['reg:logistic','binary:logistic']\n",
        "             }\n",
        "\n",
        "             \n",
        "\n",
        "\n",
        "#Clasificador xgb\n",
        "xgb_model = xgb.XGBClassifier(random_state=0)\n",
        "\n",
        "#Random Search con 10 Folds y 10 iteraciones\n",
        "rand = RandomizedSearchCV(xgb_model, params_grid, cv=5, scoring='accuracy', n_iter=5, random_state=5)\n",
        "\n",
        "rand.fit(x_train, y_train)\n",
        "rand.cv_results_['mean_test_score']"
      ]
    },
    {
      "cell_type": "code",
      "execution_count": null,
      "metadata": {
        "colab": {
          "base_uri": "https://localhost:8080/"
        },
        "id": "l_lWpomZBd-K",
        "outputId": "9b9143b5-f898-4507-af60-4476a71f011d"
      },
      "outputs": [
        {
          "data": {
            "text/plain": [
              "{'objective': 'reg:logistic',\n",
              " 'n_estimators': 93,\n",
              " 'max_depth': 8,\n",
              " 'learning_rate': 0.30000000000000004}"
            ]
          },
          "execution_count": 78,
          "metadata": {},
          "output_type": "execute_result"
        }
      ],
      "source": [
        "rand.best_params_"
      ]
    },
    {
      "cell_type": "markdown",
      "metadata": {
        "id": "i0mQIUOzBoRm"
      },
      "source": [
        "Mejores hiperparametros:\n",
        "{'objective': 'reg:logistic',\n",
        " 'n_estimators': 93,\n",
        " 'max_depth': 8,\n",
        " 'learning_rate': 0.30000000000000004}"
      ]
    },
    {
      "cell_type": "code",
      "execution_count": null,
      "metadata": {
        "colab": {
          "base_uri": "https://localhost:8080/",
          "height": 248
        },
        "id": "ENhvJ-WR3n4b",
        "outputId": "1c8fef8c-0bfe-4cf5-a82e-fe54d7492cc5"
      },
      "outputs": [
        {
          "data": {
            "text/html": [
              "<style>#sk-container-id-12 {color: black;background-color: white;}#sk-container-id-12 pre{padding: 0;}#sk-container-id-12 div.sk-toggleable {background-color: white;}#sk-container-id-12 label.sk-toggleable__label {cursor: pointer;display: block;width: 100%;margin-bottom: 0;padding: 0.3em;box-sizing: border-box;text-align: center;}#sk-container-id-12 label.sk-toggleable__label-arrow:before {content: \"▸\";float: left;margin-right: 0.25em;color: #696969;}#sk-container-id-12 label.sk-toggleable__label-arrow:hover:before {color: black;}#sk-container-id-12 div.sk-estimator:hover label.sk-toggleable__label-arrow:before {color: black;}#sk-container-id-12 div.sk-toggleable__content {max-height: 0;max-width: 0;overflow: hidden;text-align: left;background-color: #f0f8ff;}#sk-container-id-12 div.sk-toggleable__content pre {margin: 0.2em;color: black;border-radius: 0.25em;background-color: #f0f8ff;}#sk-container-id-12 input.sk-toggleable__control:checked~div.sk-toggleable__content {max-height: 200px;max-width: 100%;overflow: auto;}#sk-container-id-12 input.sk-toggleable__control:checked~label.sk-toggleable__label-arrow:before {content: \"▾\";}#sk-container-id-12 div.sk-estimator input.sk-toggleable__control:checked~label.sk-toggleable__label {background-color: #d4ebff;}#sk-container-id-12 div.sk-label input.sk-toggleable__control:checked~label.sk-toggleable__label {background-color: #d4ebff;}#sk-container-id-12 input.sk-hidden--visually {border: 0;clip: rect(1px 1px 1px 1px);clip: rect(1px, 1px, 1px, 1px);height: 1px;margin: -1px;overflow: hidden;padding: 0;position: absolute;width: 1px;}#sk-container-id-12 div.sk-estimator {font-family: monospace;background-color: #f0f8ff;border: 1px dotted black;border-radius: 0.25em;box-sizing: border-box;margin-bottom: 0.5em;}#sk-container-id-12 div.sk-estimator:hover {background-color: #d4ebff;}#sk-container-id-12 div.sk-parallel-item::after {content: \"\";width: 100%;border-bottom: 1px solid gray;flex-grow: 1;}#sk-container-id-12 div.sk-label:hover label.sk-toggleable__label {background-color: #d4ebff;}#sk-container-id-12 div.sk-serial::before {content: \"\";position: absolute;border-left: 1px solid gray;box-sizing: border-box;top: 0;bottom: 0;left: 50%;z-index: 0;}#sk-container-id-12 div.sk-serial {display: flex;flex-direction: column;align-items: center;background-color: white;padding-right: 0.2em;padding-left: 0.2em;position: relative;}#sk-container-id-12 div.sk-item {position: relative;z-index: 1;}#sk-container-id-12 div.sk-parallel {display: flex;align-items: stretch;justify-content: center;background-color: white;position: relative;}#sk-container-id-12 div.sk-item::before, #sk-container-id-12 div.sk-parallel-item::before {content: \"\";position: absolute;border-left: 1px solid gray;box-sizing: border-box;top: 0;bottom: 0;left: 50%;z-index: -1;}#sk-container-id-12 div.sk-parallel-item {display: flex;flex-direction: column;z-index: 1;position: relative;background-color: white;}#sk-container-id-12 div.sk-parallel-item:first-child::after {align-self: flex-end;width: 50%;}#sk-container-id-12 div.sk-parallel-item:last-child::after {align-self: flex-start;width: 50%;}#sk-container-id-12 div.sk-parallel-item:only-child::after {width: 0;}#sk-container-id-12 div.sk-dashed-wrapped {border: 1px dashed gray;margin: 0 0.4em 0.5em 0.4em;box-sizing: border-box;padding-bottom: 0.4em;background-color: white;}#sk-container-id-12 div.sk-label label {font-family: monospace;font-weight: bold;display: inline-block;line-height: 1.2em;}#sk-container-id-12 div.sk-label-container {text-align: center;}#sk-container-id-12 div.sk-container {/* jupyter's `normalize.less` sets `[hidden] { display: none; }` but bootstrap.min.css set `[hidden] { display: none !important; }` so we also need the `!important` here to be able to override the default hidden behavior on the sphinx rendered scikit-learn.org. See: https://github.com/scikit-learn/scikit-learn/issues/21755 */display: inline-block !important;position: relative;}#sk-container-id-12 div.sk-text-repr-fallback {display: none;}</style><div id=\"sk-container-id-12\" class=\"sk-top-container\"><div class=\"sk-text-repr-fallback\"><pre>XGBClassifier(base_score=None, booster=None, callbacks=None,\n",
              "              colsample_bylevel=None, colsample_bynode=None,\n",
              "              colsample_bytree=None, early_stopping_rounds=None,\n",
              "              enable_categorical=False, eval_metric=None, feature_types=None,\n",
              "              gamma=None, gpu_id=None, grow_policy=None, importance_type=None,\n",
              "              interaction_constraints=None, learning_rate=0.3, max_bin=None,\n",
              "              max_cat_threshold=None, max_cat_to_onehot=None,\n",
              "              max_delta_step=None, max_depth=8, max_leaves=None,\n",
              "              min_child_weight=None, missing=nan, monotone_constraints=None,\n",
              "              n_estimators=93, n_jobs=None, num_parallel_tree=None,\n",
              "              objective=&#x27;reg:logistic&#x27;, predictor=None, ...)</pre><b>In a Jupyter environment, please rerun this cell to show the HTML representation or trust the notebook. <br />On GitHub, the HTML representation is unable to render, please try loading this page with nbviewer.org.</b></div><div class=\"sk-container\" hidden><div class=\"sk-item\"><div class=\"sk-estimator sk-toggleable\"><input class=\"sk-toggleable__control sk-hidden--visually\" id=\"sk-estimator-id-12\" type=\"checkbox\" checked><label for=\"sk-estimator-id-12\" class=\"sk-toggleable__label sk-toggleable__label-arrow\">XGBClassifier</label><div class=\"sk-toggleable__content\"><pre>XGBClassifier(base_score=None, booster=None, callbacks=None,\n",
              "              colsample_bylevel=None, colsample_bynode=None,\n",
              "              colsample_bytree=None, early_stopping_rounds=None,\n",
              "              enable_categorical=False, eval_metric=None, feature_types=None,\n",
              "              gamma=None, gpu_id=None, grow_policy=None, importance_type=None,\n",
              "              interaction_constraints=None, learning_rate=0.3, max_bin=None,\n",
              "              max_cat_threshold=None, max_cat_to_onehot=None,\n",
              "              max_delta_step=None, max_depth=8, max_leaves=None,\n",
              "              min_child_weight=None, missing=nan, monotone_constraints=None,\n",
              "              n_estimators=93, n_jobs=None, num_parallel_tree=None,\n",
              "              objective=&#x27;reg:logistic&#x27;, predictor=None, ...)</pre></div></div></div></div></div>"
            ],
            "text/plain": [
              "XGBClassifier(base_score=None, booster=None, callbacks=None,\n",
              "              colsample_bylevel=None, colsample_bynode=None,\n",
              "              colsample_bytree=None, early_stopping_rounds=None,\n",
              "              enable_categorical=False, eval_metric=None, feature_types=None,\n",
              "              gamma=None, gpu_id=None, grow_policy=None, importance_type=None,\n",
              "              interaction_constraints=None, learning_rate=0.3, max_bin=None,\n",
              "              max_cat_threshold=None, max_cat_to_onehot=None,\n",
              "              max_delta_step=None, max_depth=8, max_leaves=None,\n",
              "              min_child_weight=None, missing=nan, monotone_constraints=None,\n",
              "              n_estimators=93, n_jobs=None, num_parallel_tree=None,\n",
              "              objective='reg:logistic', predictor=None, ...)"
            ]
          },
          "execution_count": 120,
          "metadata": {},
          "output_type": "execute_result"
        }
      ],
      "source": [
        "import xgboost as xgb\n",
        "\n",
        "\n",
        "y = ds_trabajo['is_canceled'].copy()\n",
        "x = ds_trabajo.drop(['is_canceled'], axis='columns', inplace=False)\n",
        "x_train, x_test, y_train, y_test = train_test_split(x, y, test_size=0.20, random_state=0)\n",
        "\n",
        "xgb_model = xgb.XGBClassifier(random_state=0, objective='reg:logistic', n_estimators=93,max_depth=8,learning_rate=0.3)\n",
        "xgb_model.fit(x_train, y_train)"
      ]
    },
    {
      "cell_type": "code",
      "execution_count": null,
      "metadata": {
        "id": "cD11Sl8Nd2W6"
      },
      "outputs": [],
      "source": [
        "predict_y_test = xgb_model.predict(x_test)"
      ]
    },
    {
      "cell_type": "code",
      "execution_count": null,
      "metadata": {
        "colab": {
          "base_uri": "https://localhost:8080/",
          "height": 449
        },
        "id": "VDqXR3ZvcNUN",
        "outputId": "7f2b7b73-6acb-4fa5-ed43-ee015cc0a93a"
      },
      "outputs": [
        {
          "data": {
            "image/png": "[encoded data removed]",
            "text/plain": [
              "<Figure size 640x480 with 2 Axes>"
            ]
          },
          "metadata": {},
          "output_type": "display_data"
        }
      ],
      "source": [
        "tabla = confusion_matrix(y_test, predict_y_test)\n",
        "\n",
        "sns.heatmap(tabla, cmap = 'Blues',annot = True, fmt = 'g')\n",
        "plt.xlabel(\"Predicted\")\n",
        "plt.ylabel(\"True\")\n",
        "\n",
        "plt.show()"
      ]
    },
    {
      "cell_type": "markdown",
      "metadata": {
        "id": "DqkjIJ0zkE3Q"
      },
      "source": [
        "##Prediccion"
      ]
    },
    {
      "cell_type": "code",
      "execution_count": null,
      "metadata": {
        "id": "6biJ4rDKkJ9G"
      },
      "outputs": [],
      "source": [
        "y_pred = xgb_model.predict(df_test)"
      ]
    },
    {
      "cell_type": "code",
      "execution_count": null,
      "metadata": {
        "colab": {
          "base_uri": "https://localhost:8080/",
          "height": 534
        },
        "id": "rB5SuJf96ZUR",
        "outputId": "ab0f2502-46a8-4d32-df3f-8903b0f6939f"
      },
      "outputs": [
        {
          "data": {
            "text/html": [
              "\n",
              "  <div id=\"df-6f49e2a2-acbe-41cd-b556-0a140a8e2182\">\n",
              "    <div class=\"colab-df-container\">\n",
              "      <div>\n",
              "<style scoped>\n",
              "    .dataframe tbody tr th:only-of-type {\n",
              "        vertical-align: middle;\n",
              "    }\n",
              "\n",
              "    .dataframe tbody tr th {\n",
              "        vertical-align: top;\n",
              "    }\n",
              "\n",
              "    .dataframe thead th {\n",
              "        text-align: right;\n",
              "    }\n",
              "</style>\n",
              "<table border=\"1\" class=\"dataframe\">\n",
              "  <thead>\n",
              "    <tr style=\"text-align: right;\">\n",
              "      <th></th>\n",
              "      <th>id</th>\n",
              "      <th>is_canceled</th>\n",
              "    </tr>\n",
              "  </thead>\n",
              "  <tbody>\n",
              "    <tr>\n",
              "      <th>0</th>\n",
              "      <td>e6d0d58a-ab96-44d3-b28f-85df1cc15f1e</td>\n",
              "      <td>1</td>\n",
              "    </tr>\n",
              "    <tr>\n",
              "      <th>1</th>\n",
              "      <td>aba9aac2-4495-4645-a60e-90328713c999</td>\n",
              "      <td>1</td>\n",
              "    </tr>\n",
              "    <tr>\n",
              "      <th>2</th>\n",
              "      <td>b345b5dc-c804-4d77-a39f-1f4e65d1f1ad</td>\n",
              "      <td>0</td>\n",
              "    </tr>\n",
              "    <tr>\n",
              "      <th>3</th>\n",
              "      <td>ce1b400e-afa1-4946-bdff-004b859eb61c</td>\n",
              "      <td>1</td>\n",
              "    </tr>\n",
              "    <tr>\n",
              "      <th>4</th>\n",
              "      <td>c4fbec0d-8e2e-4db2-9d4f-a6ccb9f51214</td>\n",
              "      <td>1</td>\n",
              "    </tr>\n",
              "    <tr>\n",
              "      <th>...</th>\n",
              "      <td>...</td>\n",
              "      <td>...</td>\n",
              "    </tr>\n",
              "    <tr>\n",
              "      <th>26530</th>\n",
              "      <td>636ccded-66ad-4538-8006-c0b9f84c6256</td>\n",
              "      <td>0</td>\n",
              "    </tr>\n",
              "    <tr>\n",
              "      <th>26531</th>\n",
              "      <td>11e19741-bd28-4459-8ea3-184f1664000f</td>\n",
              "      <td>0</td>\n",
              "    </tr>\n",
              "    <tr>\n",
              "      <th>26532</th>\n",
              "      <td>36a4c7b0-d6b1-4528-93db-311be96ec1c6</td>\n",
              "      <td>1</td>\n",
              "    </tr>\n",
              "    <tr>\n",
              "      <th>26533</th>\n",
              "      <td>89c85fa5-2b3d-4131-844c-e151a65ca240</td>\n",
              "      <td>1</td>\n",
              "    </tr>\n",
              "    <tr>\n",
              "      <th>26534</th>\n",
              "      <td>bd4e9eee-f28e-4a53-b4a1-277426efbcee</td>\n",
              "      <td>0</td>\n",
              "    </tr>\n",
              "  </tbody>\n",
              "</table>\n",
              "<p>26535 rows × 2 columns</p>\n",
              "</div>\n",
              "      <button class=\"colab-df-convert\" onclick=\"convertToInteractive('df-6f49e2a2-acbe-41cd-b556-0a140a8e2182')\"\n",
              "              title=\"Convert this dataframe to an interactive table.\"\n",
              "              style=\"display:none;\">\n",
              "        \n",
              "  <svg xmlns=\"http://www.w3.org/2000/svg\" height=\"24px\"viewBox=\"0 0 24 24\"\n",
              "       width=\"24px\">\n",
              "    <path d=\"M0 0h24v24H0V0z\" fill=\"none\"/>\n",
              "    <path d=\"M18.56 5.44l.94 2.06.94-2.06 2.06-.94-2.06-.94-.94-2.06-.94 2.06-2.06.94zm-11 1L8.5 8.5l.94-2.06 2.06-.94-2.06-.94L8.5 2.5l-.94 2.06-2.06.94zm10 10l.94 2.06.94-2.06 2.06-.94-2.06-.94-.94-2.06-.94 2.06-2.06.94z\"/><path d=\"M17.41 7.96l-1.37-1.37c-.4-.4-.92-.59-1.43-.59-.52 0-1.04.2-1.43.59L10.3 9.45l-7.72 7.72c-.78.78-.78 2.05 0 2.83L4 21.41c.39.39.9.59 1.41.59.51 0 1.02-.2 1.41-.59l7.78-7.78 2.81-2.81c.8-.78.8-2.07 0-2.86zM5.41 20L4 18.59l7.72-7.72 1.47 1.35L5.41 20z\"/>\n",
              "  </svg>\n",
              "      </button>\n",
              "      \n",
              "  <style>\n",
              "    .colab-df-container {\n",
              "      display:flex;\n",
              "      flex-wrap:wrap;\n",
              "      gap: 12px;\n",
              "    }\n",
              "\n",
              "    .colab-df-convert {\n",
              "      background-color: #E8F0FE;\n",
              "      border: none;\n",
              "      border-radius: 50%;\n",
              "      cursor: pointer;\n",
              "      display: none;\n",
              "      fill: #1967D2;\n",
              "      height: 32px;\n",
              "      padding: 0 0 0 0;\n",
              "      width: 32px;\n",
              "    }\n",
              "\n",
              "    .colab-df-convert:hover {\n",
              "      background-color: #E2EBFA;\n",
              "      box-shadow: 0px 1px 2px rgba(60, 64, 67, 0.3), 0px 1px 3px 1px rgba(60, 64, 67, 0.15);\n",
              "      fill: #174EA6;\n",
              "    }\n",
              "\n",
              "    [theme=dark] .colab-df-convert {\n",
              "      background-color: #3B4455;\n",
              "      fill: #D2E3FC;\n",
              "    }\n",
              "\n",
              "    [theme=dark] .colab-df-convert:hover {\n",
              "      background-color: #434B5C;\n",
              "      box-shadow: 0px 1px 3px 1px rgba(0, 0, 0, 0.15);\n",
              "      filter: drop-shadow(0px 1px 2px rgba(0, 0, 0, 0.3));\n",
              "      fill: #FFFFFF;\n",
              "    }\n",
              "  </style>\n",
              "\n",
              "      <script>\n",
              "        const buttonEl =\n",
              "          document.querySelector('#df-6f49e2a2-acbe-41cd-b556-0a140a8e2182 button.colab-df-convert');\n",
              "        buttonEl.style.display =\n",
              "          google.colab.kernel.accessAllowed ? 'block' : 'none';\n",
              "\n",
              "        async function convertToInteractive(key) {\n",
              "          const element = document.querySelector('#df-6f49e2a2-acbe-41cd-b556-0a140a8e2182');\n",
              "          const dataTable =\n",
              "            await google.colab.kernel.invokeFunction('convertToInteractive',\n",
              "                                                     [key], {});\n",
              "          if (!dataTable) return;\n",
              "\n",
              "          const docLinkHtml = 'Like what you see? Visit the ' +\n",
              "            '<a target=\"_blank\" href=https://colab.research.google.com/notebooks/data_table.ipynb>data table notebook</a>'\n",
              "            + ' to learn more about interactive tables.';\n",
              "          element.innerHTML = '';\n",
              "          dataTable['output_type'] = 'display_data';\n",
              "          await google.colab.output.renderOutput(dataTable, element);\n",
              "          const docLink = document.createElement('div');\n",
              "          docLink.innerHTML = docLinkHtml;\n",
              "          element.appendChild(docLink);\n",
              "        }\n",
              "      </script>\n",
              "    </div>\n",
              "  </div>\n",
              "  "
            ],
            "text/plain": [
              "                                         id  is_canceled\n",
              "0      e6d0d58a-ab96-44d3-b28f-85df1cc15f1e            1\n",
              "1      aba9aac2-4495-4645-a60e-90328713c999            1\n",
              "2      b345b5dc-c804-4d77-a39f-1f4e65d1f1ad            0\n",
              "3      ce1b400e-afa1-4946-bdff-004b859eb61c            1\n",
              "4      c4fbec0d-8e2e-4db2-9d4f-a6ccb9f51214            1\n",
              "...                                     ...          ...\n",
              "26530  636ccded-66ad-4538-8006-c0b9f84c6256            0\n",
              "26531  11e19741-bd28-4459-8ea3-184f1664000f            0\n",
              "26532  36a4c7b0-d6b1-4528-93db-311be96ec1c6            1\n",
              "26533  89c85fa5-2b3d-4131-844c-e151a65ca240            1\n",
              "26534  bd4e9eee-f28e-4a53-b4a1-277426efbcee            0\n",
              "\n",
              "[26535 rows x 2 columns]"
            ]
          },
          "execution_count": 16,
          "metadata": {},
          "output_type": "execute_result"
        }
      ],
      "source": [
        "submit =  pd.DataFrame(zip(test_id,y_pred),columns=['id','is_canceled'])\n",
        "submit"
      ]
    },
    {
      "cell_type": "code",
      "execution_count": null,
      "metadata": {
        "id": "Hh7EYxqJ6N0p"
      },
      "outputs": [],
      "source": [
        "submit.to_csv('./xgboost_submit.csv',index=False)  "
      ]
    },
    {
      "cell_type": "markdown",
      "metadata": {
        "id": "67qSxrguZNoV"
      },
      "source": [
        "##Preparando modelo"
      ]
    },
    {
      "cell_type": "code",
      "execution_count": null,
      "metadata": {
        "colab": {
          "base_uri": "https://localhost:8080/"
        },
        "id": "-Q21OsO5ZSo7",
        "outputId": "f4890b2a-aede-4006-bda3-514e9e0200ff"
      },
      "outputs": [
        {
          "data": {
            "text/plain": [
              "array([1, 1, 0, ..., 1, 1, 0])"
            ]
          },
          "execution_count": 124,
          "metadata": {},
          "output_type": "execute_result"
        }
      ],
      "source": [
        "from joblib import dump\n",
        "dump(xgb_model, 'xgboost.joblib') \n",
        "\n",
        "from joblib import load\n",
        "xgboost = load('xgboost.joblib')\n",
        "xgboost.predict(df_test) "
      ]
    },
    {
      "cell_type": "markdown",
      "metadata": {
        "id": "tYRnRq3_Z-tc"
      },
      "source": [
        "#**Random Forest**"
      ]
    },
    {
      "cell_type": "markdown",
      "metadata": {
        "id": "iFtNq8E-Fr6n"
      },
      "source": [
        "##Preprocesamiento"
      ]
    },
    {
      "cell_type": "code",
      "execution_count": null,
      "metadata": {
        "id": "pGOIqHtHGK9h"
      },
      "outputs": [],
      "source": [
        "#Datos\n",
        "import numpy as np\n",
        "import pandas as pd\n",
        "\n",
        "#Plots\n",
        "import matplotlib.pyplot as plt\n",
        "import seaborn as sns\n",
        "\n",
        "# Outliers\n",
        "import scipy.stats as st\n",
        "\n",
        "#Modelado\n",
        "import sklearn as sk\n",
        "from sklearn.model_selection import train_test_split\n",
        "from sklearn.metrics import precision_recall_curve, roc_curve, recall_score, accuracy_score,f1_score"
      ]
    },
    {
      "cell_type": "code",
      "execution_count": null,
      "metadata": {
        "id": "C0odGLLeGMkL"
      },
      "outputs": [],
      "source": [
        "# Cargo el data set\n",
        "direc = \"https://raw.githubusercontent.com/Akselas/7506R-1C2023-GRUPO26/main/hotels_train.csv\"\n",
        "direc_test = \"https://raw.githubusercontent.com/Akselas/7506R-1C2023-GRUPO26/main/hotels_test.csv\"\n",
        "df_test = pd.read_csv(direc_test)\n",
        "df = pd.read_csv(direc)\n",
        "df_filtrado  = df.copy()"
      ]
    },
    {
      "cell_type": "markdown",
      "metadata": {
        "id": "sAq2SC6nGx89"
      },
      "source": [
        "Limpieza del Dataset:"
      ]
    },
    {
      "cell_type": "code",
      "execution_count": null,
      "metadata": {
        "id": "ILfBjH_THS8z"
      },
      "outputs": [],
      "source": [
        "# Limpieza del dataset\n",
        "\n",
        "# Eliminamos columnas\n",
        "df_filtrado = df_filtrado.drop('id', axis=1)\n",
        "df_filtrado = df_filtrado.drop(\"reservation_status\", axis=1)\n",
        "df_filtrado = df_filtrado.drop(\"reservation_status_date\", axis=1)\n",
        "df_filtrado = df_filtrado.drop(\"company\", axis=1)\n",
        "\n",
        "# Eliminamos columnas para test\n",
        "test_id = df_test.id.copy()\n",
        "df_test = df_test.drop('id', axis=1)\n",
        "df_test = df_test.drop(\"reservation_status\", axis=1)\n",
        "df_test = df_test.drop(\"reservation_status_date\", axis=1)\n",
        "df_test = df_test.drop(\"company\", axis=1)"
      ]
    },
    {
      "cell_type": "markdown",
      "metadata": {
        "id": "aI01B6ybHWDb"
      },
      "source": [
        "Nulos:"
      ]
    },
    {
      "cell_type": "code",
      "execution_count": null,
      "metadata": {
        "id": "MHwTXCwvG1S-"
      },
      "outputs": [],
      "source": [
        "# Se reemplazan los valores nulos por 0 en agents\n",
        "df_filtrado['agent'] = df_filtrado['agent'].fillna(0)\n",
        "df_filtrado['agent'] = df_filtrado['agent'].astype(str)\n",
        "\n",
        "\n",
        "df_test['agent'] = df_test['agent'].fillna(0)\n",
        "df_test['agent'] = df_test['agent'].astype(str)\n",
        "\n",
        "#caso de datos nulos en children\n",
        "#le agrego el valor que mas predomina, que es 0\n",
        "df_filtrado['children'] = df_filtrado['children'].apply(lambda child: 0 if pd.isna(child) else child)\n",
        "df_test['children'] = df_test['children'].apply(lambda child: 0 if pd.isna(child) else child)"
      ]
    },
    {
      "cell_type": "markdown",
      "metadata": {
        "id": "eNOD-ORuHa7x"
      },
      "source": [
        "Agrupacion de registros para algunas variables:"
      ]
    },
    {
      "cell_type": "code",
      "execution_count": null,
      "metadata": {
        "id": "P45LTxZIFt8w"
      },
      "outputs": [],
      "source": [
        "#Categorizo los agentes menos populares(no incluyo los agentes 0)\n",
        "agentes_populares = df_filtrado['agent'].value_counts().index.to_list()[0:14]\n",
        "def es_agente_popular(agent):\n",
        "  if agent in agentes_populares:\n",
        "    return agent\n",
        "  elif agent == 0:\n",
        "    return agent\n",
        "  else:\n",
        "    return 'otro'\n",
        "\n",
        "df_filtrado['agent'] = df_filtrado['agent'].apply(es_agente_popular )\n",
        "\n",
        "\n",
        "# Aca la transformacion aplicada viene del dataset de train\n",
        "df_test['agent'] = df_test['agent'].apply(es_agente_popular )\n",
        "\n",
        "# Reemplazamos todas las aparaiciones de paises con pocas apariciones en un pais \"otro\"\n",
        "paises = df_filtrado['country'].value_counts()\n",
        "paises_atipicos = paises[ paises <=100].index.to_list()\n",
        "def es_pais_atipico(pais):\n",
        "  if pais in paises_atipicos or pd.isna(pais) :\n",
        "    return 'otro'\n",
        "  else:\n",
        "    return pais\n",
        "\n",
        "df_filtrado['country'] = df_filtrado['country'].apply( es_pais_atipico)\n",
        "\n",
        "df_test['country'] = df_test['country'].apply(es_pais_atipico)\n",
        "\n",
        "# Esta funcion es solo para test, a todos los paises que no estan en train los categoriza como otro\n",
        "paises_tipicos = paises[ paises > 100].index.to_list()\n",
        "def pertenece_a_pais_de_train(pais):\n",
        "  if pais in paises_atipicos or pais not in paises_tipicos or pd.isna(pais) :\n",
        "    return 'otro'\n",
        "  else:\n",
        "    return pais\n",
        "df_test['country'] = df_test['country'].apply(pertenece_a_pais_de_train)\n",
        "\n",
        "#caso market segment y distribution channel\n",
        "a = df_filtrado[df_filtrado['market_segment'] == 'Undefined'].index\n",
        "df_filtrado.drop(a,  inplace=True, errors='ignore')\n",
        "\n",
        "b = df_filtrado[df_filtrado['distribution_channel'] == 'Undefined'].index\n",
        "df_filtrado.drop(b,  inplace=True, errors='ignore')\n",
        "\n",
        "\n",
        "##categorizo las columnas menos populares con el nombre de \"otro\"\n",
        "rooms_mas_populares = df_filtrado['assigned_room_type'].value_counts().index.to_list()[0:8]\n",
        "df_filtrado['assigned_room_type'] =df_filtrado['assigned_room_type'].apply( lambda room: 'otro' if room not in rooms_mas_populares else room)\n",
        "df_filtrado['reserved_room_type'] =df_filtrado['reserved_room_type'].apply( lambda room: 'otro' if room not in rooms_mas_populares else room)\n",
        "\n",
        "# Aca la transformacion aplicada viene del dataset de train\n",
        "df_test['assigned_room_type'] =df_test['assigned_room_type'].apply( lambda room: 'otro' if room not in rooms_mas_populares else room)\n",
        "df_test['reserved_room_type'] =df_test['reserved_room_type'].apply( lambda room: 'otro' if room not in rooms_mas_populares else room)\n",
        "\n",
        "\n",
        "##categorizo las columnas menos populares con el nombre de \"otro\"\n",
        "indices_filas_cero = df_filtrado.loc[(df['children'] == 0) & (df['adults'] == 0) & (df['babies'] == 0)].index\n",
        "df_filtrado = df_filtrado.drop(indices_filas_cero ,errors ='ignore', axis=0)\n",
        "df_filtrado = df_filtrado.reset_index()"
      ]
    },
    {
      "cell_type": "markdown",
      "metadata": {
        "id": "GB_t9mTsGj1k"
      },
      "source": [
        "Outliers:"
      ]
    },
    {
      "cell_type": "code",
      "execution_count": null,
      "metadata": {
        "colab": {
          "base_uri": "https://localhost:8080/"
        },
        "id": "gMCRFwF1GiGu",
        "outputId": "63ba4aae-53eb-44cc-e310-448566f15f45"
      },
      "outputs": [
        {
          "name": "stdout",
          "output_type": "stream",
          "text": [
            "1023\n",
            "Cantidad de outliers encontrados con z-score: 2968\n",
            "Cantidad de outliers encontrados con z-score: 392\n"
          ]
        }
      ],
      "source": [
        "#Observamos valores negativos que son anomalos\n",
        "outlier_adr = df_filtrado[df_filtrado[\"adr\"]<=0]\n",
        "\n",
        "\n",
        "#ELIMINACION de outlier por indice de fila\n",
        "indice_outlier=df_filtrado[df_filtrado['adr']<=0].index\n",
        "\n",
        "df_filtrado.drop(indice_outlier, inplace=True)\n",
        "\n",
        "#Hago z-score modificado\n",
        "mediana_adr=np.median(df_filtrado.adr)\n",
        "MAD=np.median(np.absolute(df_filtrado.adr-mediana_adr))\n",
        "df_filtrado['zm_adr']=(df_filtrado.adr - mediana_adr )*0.6745/MAD\n",
        "#usando la regla de oro dropeo los que tengan un z-score modificado mayor a 3.5\n",
        "indice_outlier_z = df_filtrado[df_filtrado['zm_adr']>3.5].index\n",
        "print(len(indice_outlier_z))\n",
        "df_filtrado.drop(indice_outlier_z, inplace=True,axis=0)\n",
        "\n",
        "\n",
        "# Outliers para adults\n",
        "df_copia_adults = df_filtrado.copy()\n",
        "\n",
        "#Hago z-score modificado\n",
        "mediana_adults = np.median(df.adults)\n",
        "MAD = np.median(np.absolute(df_copia_adults.adults - mediana_adults))\n",
        "df_copia_adults['zm_adults'] = (df_copia_adults.adults - mediana_adults ) * 0.6745/MAD\n",
        "indice_outlier_z = df_copia_adults[df_copia_adults['zm_adults'] > 3.5].index\n",
        "print(f\"Cantidad de outliers encontrados con z-score: {len(indice_outlier_z)}\")\n",
        "df_filtrado.drop(indice_outlier_z, inplace=True,axis=0)\n",
        "\n",
        "\n",
        "# Outliers para babys\n",
        "df_copia_babies = df_filtrado.copy()\n",
        "#Hago z-score modificado\n",
        "mediana_babies = np.median(df.babies)\n",
        "MAD = np.median(np.absolute(df_copia_babies.babies - mediana_babies))\n",
        "df_copia_babies['zm_babies'] = (df_copia_babies.babies - mediana_babies ) * 0.6745/MAD\n",
        "indice_outlier_z = df_copia_babies[df_copia_babies['zm_babies'] > 3.5].index\n",
        "print(f\"Cantidad de outliers encontrados con z-score: {len(indice_outlier_z)}\")\n",
        "\n",
        "df_filtrado.drop(indice_outlier_z, inplace=True,axis=0)\n",
        "\n",
        "\n",
        "# Outilers para days_in_waiting_list\n",
        "#Hago z-score\n",
        "df_diwl = df_filtrado.copy()\n",
        "df_diwl['z_diwl'] = st.zscore(df_diwl['days_in_waiting_list'])\n",
        "indices = df_diwl[df_diwl['z_diwl'] > 3].index\n",
        "df_fitrado = df_filtrado.drop(indices, axis=0, inplace=True,errors=\"ignore\")\n",
        "\n",
        "\n",
        "#busco outliers para lead_time\n",
        "df_lead = df_filtrado.copy()\n",
        "\n",
        "#Hago z-score modificado\n",
        "mediana_lead = np.median(df.lead_time)\n",
        "MAD = np.median(np.absolute(df.lead_time - mediana_lead))\n",
        "df_lead['zm_lead_time']=(df.lead_time - mediana_lead )*0.6745/MAD\n",
        "#ELIMINACION: usando la regla de oro ELIMINO los que tengan un z-score modificado mayor a 3.5\n",
        "indice_outlier_z = df_lead[df_lead['zm_lead_time']>3.5].index\n",
        "#son 1079 outliers\n",
        "df_filtrado.drop(indice_outlier_z, inplace=True, errors='ignore',axis=0)\n",
        "\n",
        "df_filtrado.drop('zm_adr', axis=1, inplace=True);"
      ]
    },
    {
      "cell_type": "code",
      "execution_count": null,
      "metadata": {
        "id": "NjncYXq8Ihk8"
      },
      "outputs": [],
      "source": [
        "ds_trabajo = pd.get_dummies(df_filtrado, columns=[\"hotel\",\"arrival_date_month\",\"deposit_type\",\"reserved_room_type\",\"assigned_room_type\",\"customer_type\",\"meal\",\"market_segment\",\"distribution_channel\",\"agent\",\"country\"], drop_first=True)\n",
        "df_test = pd.get_dummies(df_test, columns=[\"hotel\",\"arrival_date_month\",\"deposit_type\",\"reserved_room_type\",\"assigned_room_type\",\"customer_type\",\"meal\",\"market_segment\",\"distribution_channel\",\"agent\",\"country\"], drop_first=True)"
      ]
    },
    {
      "cell_type": "markdown",
      "metadata": {
        "id": "76ykA9yYtb8B"
      },
      "source": [
        "##Entrenamiento"
      ]
    },
    {
      "cell_type": "markdown",
      "metadata": {
        "id": "O9vmeTmbt0I2"
      },
      "source": [
        "###Separación para entrenamiento y para test"
      ]
    },
    {
      "cell_type": "code",
      "execution_count": null,
      "metadata": {
        "id": "JfQpj85788dm"
      },
      "outputs": [],
      "source": [
        "#Librerias necesarias para el entrenamiento del modelo\n",
        "from sklearn.metrics import make_scorer\n",
        "from sklearn import tree\n",
        "from sklearn.model_selection import StratifiedKFold, KFold, GridSearchCV, RandomizedSearchCV\n",
        "from sklearn.ensemble import RandomForestClassifier\n",
        "from sklearn.metrics import confusion_matrix, classification_report"
      ]
    },
    {
      "cell_type": "code",
      "execution_count": null,
      "metadata": {
        "id": "GwecbTUb_C8E"
      },
      "outputs": [],
      "source": [
        "#Dataset creado para la etapa de predicción\n",
        "ds_trabajo_predic = ds_trabajo.copy()"
      ]
    },
    {
      "cell_type": "code",
      "execution_count": null,
      "metadata": {
        "id": "xYG9lCIi4isf"
      },
      "outputs": [],
      "source": [
        "target = ds_trabajo['is_canceled']\n",
        "ds_trabajo.drop(['is_canceled'],axis=1,inplace=True)"
      ]
    },
    {
      "cell_type": "code",
      "execution_count": null,
      "metadata": {
        "colab": {
          "base_uri": "https://localhost:8080/"
        },
        "id": "Mz1509Puwgyk",
        "outputId": "cd20bc0a-e9f1-440f-aa17-d1ee9b6abc77"
      },
      "outputs": [
        {
          "name": "stdout",
          "output_type": "stream",
          "text": [
            "Cantidad de datos Training: 38326\n",
            "Cantidad de datos Testing: 16426\n"
          ]
        }
      ],
      "source": [
        "x_train, x_test, y_train, y_test = train_test_split(ds_trabajo, target, test_size = 0.3, random_state = 3)\n",
        "\n",
        "print(\"Cantidad de datos Training: \" + str(len(x_train)))\n",
        "print(\"Cantidad de datos Testing: \" + str(len(x_test)))"
      ]
    },
    {
      "cell_type": "markdown",
      "metadata": {
        "id": "FgCCYkVitCHV"
      },
      "source": [
        "###Random Forest con parámetros por defecto"
      ]
    },
    {
      "cell_type": "code",
      "execution_count": null,
      "metadata": {
        "colab": {
          "base_uri": "https://localhost:8080/",
          "height": 75
        },
        "id": "g6a51C7MRRFm",
        "outputId": "41f3d750-5e21-4a06-c5ca-7030d49a30bd"
      },
      "outputs": [
        {
          "data": {
            "text/html": [
              "<style>#sk-container-id-10 {color: black;background-color: white;}#sk-container-id-10 pre{padding: 0;}#sk-container-id-10 div.sk-toggleable {background-color: white;}#sk-container-id-10 label.sk-toggleable__label {cursor: pointer;display: block;width: 100%;margin-bottom: 0;padding: 0.3em;box-sizing: border-box;text-align: center;}#sk-container-id-10 label.sk-toggleable__label-arrow:before {content: \"▸\";float: left;margin-right: 0.25em;color: #696969;}#sk-container-id-10 label.sk-toggleable__label-arrow:hover:before {color: black;}#sk-container-id-10 div.sk-estimator:hover label.sk-toggleable__label-arrow:before {color: black;}#sk-container-id-10 div.sk-toggleable__content {max-height: 0;max-width: 0;overflow: hidden;text-align: left;background-color: #f0f8ff;}#sk-container-id-10 div.sk-toggleable__content pre {margin: 0.2em;color: black;border-radius: 0.25em;background-color: #f0f8ff;}#sk-container-id-10 input.sk-toggleable__control:checked~div.sk-toggleable__content {max-height: 200px;max-width: 100%;overflow: auto;}#sk-container-id-10 input.sk-toggleable__control:checked~label.sk-toggleable__label-arrow:before {content: \"▾\";}#sk-container-id-10 div.sk-estimator input.sk-toggleable__control:checked~label.sk-toggleable__label {background-color: #d4ebff;}#sk-container-id-10 div.sk-label input.sk-toggleable__control:checked~label.sk-toggleable__label {background-color: #d4ebff;}#sk-container-id-10 input.sk-hidden--visually {border: 0;clip: rect(1px 1px 1px 1px);clip: rect(1px, 1px, 1px, 1px);height: 1px;margin: -1px;overflow: hidden;padding: 0;position: absolute;width: 1px;}#sk-container-id-10 div.sk-estimator {font-family: monospace;background-color: #f0f8ff;border: 1px dotted black;border-radius: 0.25em;box-sizing: border-box;margin-bottom: 0.5em;}#sk-container-id-10 div.sk-estimator:hover {background-color: #d4ebff;}#sk-container-id-10 div.sk-parallel-item::after {content: \"\";width: 100%;border-bottom: 1px solid gray;flex-grow: 1;}#sk-container-id-10 div.sk-label:hover label.sk-toggleable__label {background-color: #d4ebff;}#sk-container-id-10 div.sk-serial::before {content: \"\";position: absolute;border-left: 1px solid gray;box-sizing: border-box;top: 0;bottom: 0;left: 50%;z-index: 0;}#sk-container-id-10 div.sk-serial {display: flex;flex-direction: column;align-items: center;background-color: white;padding-right: 0.2em;padding-left: 0.2em;position: relative;}#sk-container-id-10 div.sk-item {position: relative;z-index: 1;}#sk-container-id-10 div.sk-parallel {display: flex;align-items: stretch;justify-content: center;background-color: white;position: relative;}#sk-container-id-10 div.sk-item::before, #sk-container-id-10 div.sk-parallel-item::before {content: \"\";position: absolute;border-left: 1px solid gray;box-sizing: border-box;top: 0;bottom: 0;left: 50%;z-index: -1;}#sk-container-id-10 div.sk-parallel-item {display: flex;flex-direction: column;z-index: 1;position: relative;background-color: white;}#sk-container-id-10 div.sk-parallel-item:first-child::after {align-self: flex-end;width: 50%;}#sk-container-id-10 div.sk-parallel-item:last-child::after {align-self: flex-start;width: 50%;}#sk-container-id-10 div.sk-parallel-item:only-child::after {width: 0;}#sk-container-id-10 div.sk-dashed-wrapped {border: 1px dashed gray;margin: 0 0.4em 0.5em 0.4em;box-sizing: border-box;padding-bottom: 0.4em;background-color: white;}#sk-container-id-10 div.sk-label label {font-family: monospace;font-weight: bold;display: inline-block;line-height: 1.2em;}#sk-container-id-10 div.sk-label-container {text-align: center;}#sk-container-id-10 div.sk-container {/* jupyter's `normalize.less` sets `[hidden] { display: none; }` but bootstrap.min.css set `[hidden] { display: none !important; }` so we also need the `!important` here to be able to override the default hidden behavior on the sphinx rendered scikit-learn.org. See: https://github.com/scikit-learn/scikit-learn/issues/21755 */display: inline-block !important;position: relative;}#sk-container-id-10 div.sk-text-repr-fallback {display: none;}</style><div id=\"sk-container-id-10\" class=\"sk-top-container\"><div class=\"sk-text-repr-fallback\"><pre>RandomForestClassifier()</pre><b>In a Jupyter environment, please rerun this cell to show the HTML representation or trust the notebook. <br />On GitHub, the HTML representation is unable to render, please try loading this page with nbviewer.org.</b></div><div class=\"sk-container\" hidden><div class=\"sk-item\"><div class=\"sk-estimator sk-toggleable\"><input class=\"sk-toggleable__control sk-hidden--visually\" id=\"sk-estimator-id-10\" type=\"checkbox\" checked><label for=\"sk-estimator-id-10\" class=\"sk-toggleable__label sk-toggleable__label-arrow\">RandomForestClassifier</label><div class=\"sk-toggleable__content\"><pre>RandomForestClassifier()</pre></div></div></div></div></div>"
            ],
            "text/plain": [
              "RandomForestClassifier()"
            ]
          },
          "execution_count": 206,
          "metadata": {},
          "output_type": "execute_result"
        }
      ],
      "source": [
        "rfc_default = RandomForestClassifier()\n",
        "rfc_default.fit(x_train,y_train)"
      ]
    },
    {
      "cell_type": "code",
      "execution_count": null,
      "metadata": {
        "id": "wjm7yjvTSJaG"
      },
      "outputs": [],
      "source": [
        "predict_y_test_default = rfc_default.predict(x_test)"
      ]
    },
    {
      "cell_type": "code",
      "execution_count": null,
      "metadata": {
        "colab": {
          "base_uri": "https://localhost:8080/",
          "height": 449
        },
        "id": "UaTe6TNjSjlt",
        "outputId": "a594bf56-311b-423b-d3e8-c6ebc8ec4147"
      },
      "outputs": [
        {
          "data": {
            "image/png": "[encoded data removed]",
            "text/plain": [
              "<Figure size 640x480 with 2 Axes>"
            ]
          },
          "metadata": {},
          "output_type": "display_data"
        }
      ],
      "source": [
        "tabla = confusion_matrix(y_test, predict_y_test_default)\n",
        "\n",
        "sns.heatmap(tabla, cmap = 'Blues',annot = True, fmt = 'g')\n",
        "plt.xlabel(\"Predicted\")\n",
        "plt.ylabel(\"True\")\n",
        "\n",
        "plt.show()"
      ]
    },
    {
      "cell_type": "code",
      "execution_count": null,
      "metadata": {
        "colab": {
          "base_uri": "https://localhost:8080/"
        },
        "id": "XGZ37_Gxosf3",
        "outputId": "6087ea05-0bce-4b3b-d2ae-1d3a37db3faf"
      },
      "outputs": [
        {
          "name": "stdout",
          "output_type": "stream",
          "text": [
            "              precision    recall  f1-score   support\n",
            "\n",
            "           0       0.88      0.88      0.88      8169\n",
            "           1       0.88      0.88      0.88      8257\n",
            "\n",
            "    accuracy                           0.88     16426\n",
            "   macro avg       0.88      0.88      0.88     16426\n",
            "weighted avg       0.88      0.88      0.88     16426\n",
            "\n"
          ]
        }
      ],
      "source": [
        "print(classification_report(y_test, predict_y_test_default))"
      ]
    },
    {
      "cell_type": "markdown",
      "metadata": {
        "id": "baGeZbXNRUWY"
      },
      "source": [
        "##Optimización de hiperparametros"
      ]
    },
    {
      "cell_type": "markdown",
      "metadata": {
        "id": "asu3YXvStQSk"
      },
      "source": [
        "###Grid Search"
      ]
    },
    {
      "cell_type": "markdown",
      "metadata": {
        "id": "iEEFv76mtTBd"
      },
      "source": [
        "Empezamos la búsqueda de hiperparámetros con Grid Search:"
      ]
    },
    {
      "cell_type": "code",
      "execution_count": null,
      "metadata": {
        "colab": {
          "base_uri": "https://localhost:8080/"
        },
        "id": "hkGP2Pvs8tyU",
        "outputId": "d85676a4-a6ea-447e-cff1-1ce9f2e7a0b4"
      },
      "outputs": [
        {
          "name": "stderr",
          "output_type": "stream",
          "text": [
            "/usr/local/lib/python3.10/dist-packages/sklearn/ensemble/_forest.py:424: FutureWarning: `max_features='auto'` has been deprecated in 1.1 and will be removed in 1.3. To keep the past behaviour, explicitly set `max_features='sqrt'` or remove this parameter as it is also the default value for RandomForestClassifiers and ExtraTreesClassifiers.\n",
            "  warn(\n"
          ]
        }
      ],
      "source": [
        "n = 10\n",
        "folds = 5\n",
        "\n",
        "kfoldcv = StratifiedKFold(n_splits=folds)\n",
        "\n",
        "score = make_scorer(sk.metrics.f1_score)\n",
        "\n",
        "random_forest = RandomForestClassifier(max_features='auto', oob_score=True, random_state=3, n_jobs=-1)\n",
        "\n",
        "params_grid = {'criterion' : ['gini', 'entropy'], \n",
        "               'min_samples_leaf':[1,2],\n",
        "               'min_samples_split': [2,3],\n",
        "               'n_estimators':[30,40]\n",
        "              }\n",
        "\n",
        "rs_cv = GridSearchCV(estimator = random_forest, param_grid = params_grid, scoring = score, cv = kfoldcv, n_jobs=-1)\n",
        "ds_fit = rs_cv.fit(X= x_train, y = y_train)"
      ]
    },
    {
      "cell_type": "code",
      "execution_count": null,
      "metadata": {
        "colab": {
          "base_uri": "https://localhost:8080/"
        },
        "id": "n6FLRChoDabT",
        "outputId": "2c5a0178-6b32-43c3-87c8-e96173b0e8ef"
      },
      "outputs": [
        {
          "data": {
            "text/plain": [
              "{'criterion': 'gini',\n",
              " 'min_samples_leaf': 1,\n",
              " 'min_samples_split': 3,\n",
              " 'n_estimators': 40}"
            ]
          },
          "execution_count": 211,
          "metadata": {},
          "output_type": "execute_result"
        }
      ],
      "source": [
        "ds_fit.best_params_"
      ]
    },
    {
      "cell_type": "code",
      "execution_count": null,
      "metadata": {
        "colab": {
          "base_uri": "https://localhost:8080/"
        },
        "id": "NUsAuXkjDcK_",
        "outputId": "d9a6502b-142a-471f-cdef-5eba401bc8b0"
      },
      "outputs": [
        {
          "data": {
            "text/plain": [
              "0.880258950756738"
            ]
          },
          "execution_count": 212,
          "metadata": {},
          "output_type": "execute_result"
        }
      ],
      "source": [
        "ds_fit.best_score_"
      ]
    },
    {
      "cell_type": "code",
      "execution_count": null,
      "metadata": {
        "colab": {
          "base_uri": "https://localhost:8080/"
        },
        "id": "1f_JT4A4Jr57",
        "outputId": "98c387fe-e1a7-45fc-d4c6-2bdde37a2537"
      },
      "outputs": [
        {
          "data": {
            "text/plain": [
              "array([0.8758484 , 0.87633138, 0.87875321, 0.88025895, 0.87429707,\n",
              "       0.87451935, 0.87429707, 0.87451935, 0.87703289, 0.87882414,\n",
              "       0.87819087, 0.87899014, 0.8751176 , 0.87611333, 0.8751176 ,\n",
              "       0.87611333])"
            ]
          },
          "execution_count": 213,
          "metadata": {},
          "output_type": "execute_result"
        }
      ],
      "source": [
        "ds_fit.cv_results_['mean_test_score']"
      ]
    },
    {
      "cell_type": "code",
      "execution_count": null,
      "metadata": {
        "id": "GuVbN9APDzyo"
      },
      "outputs": [],
      "source": [
        "best_rf_fit = ds_fit.best_estimator_"
      ]
    },
    {
      "cell_type": "code",
      "execution_count": null,
      "metadata": {
        "id": "VjwlCfkgELpY"
      },
      "outputs": [],
      "source": [
        "predict_y_test = best_rf_fit.predict(x_test)"
      ]
    },
    {
      "cell_type": "code",
      "execution_count": null,
      "metadata": {
        "colab": {
          "base_uri": "https://localhost:8080/"
        },
        "id": "5Vq-joOfyi65",
        "outputId": "e0324868-c629-48cf-8944-d79977ca5ea8"
      },
      "outputs": [
        {
          "data": {
            "text/plain": [
              "array([1, 1, 1, ..., 1, 1, 0])"
            ]
          },
          "execution_count": 216,
          "metadata": {},
          "output_type": "execute_result"
        }
      ],
      "source": [
        "predict_y_test"
      ]
    },
    {
      "cell_type": "code",
      "execution_count": null,
      "metadata": {
        "colab": {
          "base_uri": "https://localhost:8080/"
        },
        "id": "-kBAjOROyajn",
        "outputId": "94af7f38-1e3f-4930-9487-55a135120ea9"
      },
      "outputs": [
        {
          "data": {
            "text/plain": [
              "array([0, 1, 1, ..., 1, 0, 0])"
            ]
          },
          "execution_count": 217,
          "metadata": {},
          "output_type": "execute_result"
        }
      ],
      "source": [
        "y_test.values"
      ]
    },
    {
      "cell_type": "code",
      "execution_count": null,
      "metadata": {
        "colab": {
          "base_uri": "https://localhost:8080/",
          "height": 449
        },
        "id": "kyL0EkkXEmzn",
        "outputId": "d3385107-abec-4494-9332-bbdc6c27eaa3"
      },
      "outputs": [
        {
          "data": {
            "image/png": "[encoded data removed]",
            "text/plain": [
              "<Figure size 640x480 with 2 Axes>"
            ]
          },
          "metadata": {},
          "output_type": "display_data"
        }
      ],
      "source": [
        "tabla = confusion_matrix(y_test, predict_y_test)\n",
        "\n",
        "sns.heatmap(tabla, cmap = 'Blues',annot = True, fmt = 'g')\n",
        "plt.xlabel(\"Predicted\")\n",
        "plt.ylabel(\"True\")\n",
        "\n",
        "plt.show()"
      ]
    },
    {
      "cell_type": "code",
      "execution_count": null,
      "metadata": {
        "colab": {
          "base_uri": "https://localhost:8080/"
        },
        "id": "AnuCVMn2FA0t",
        "outputId": "4da2c610-9a81-4dcb-fe28-9fa6cb5c2f31"
      },
      "outputs": [
        {
          "name": "stdout",
          "output_type": "stream",
          "text": [
            "              precision    recall  f1-score   support\n",
            "\n",
            "           0       0.87      0.88      0.88      8169\n",
            "           1       0.88      0.87      0.88      8257\n",
            "\n",
            "    accuracy                           0.88     16426\n",
            "   macro avg       0.88      0.88      0.88     16426\n",
            "weighted avg       0.88      0.88      0.88     16426\n",
            "\n"
          ]
        }
      ],
      "source": [
        "print(classification_report(y_test, predict_y_test))"
      ]
    },
    {
      "cell_type": "markdown",
      "metadata": {
        "id": "7gy6Oj18zJ-u"
      },
      "source": [
        "Podemos ver que los resultados de las métricas con Grid Search no son muy diferentes a las de un Random Forest con parametros por defecto. Además es mucho más costoso de realizar"
      ]
    },
    {
      "cell_type": "markdown",
      "metadata": {
        "id": "nzT4zlm4zVgm"
      },
      "source": [
        "###Random Search"
      ]
    },
    {
      "cell_type": "code",
      "execution_count": null,
      "metadata": {
        "colab": {
          "background_save": true,
          "base_uri": "https://localhost:8080/"
        },
        "id": "fWNjKePOjfyx",
        "outputId": "56d6a85a-eb81-48d9-a327-80eb64f5f38a"
      },
      "outputs": [
        {
          "name": "stderr",
          "output_type": "stream",
          "text": [
            "/usr/local/lib/python3.10/dist-packages/sklearn/ensemble/_forest.py:424: FutureWarning: `max_features='auto'` has been deprecated in 1.1 and will be removed in 1.3. To keep the past behaviour, explicitly set `max_features='sqrt'` or remove this parameter as it is also the default value for RandomForestClassifiers and ExtraTreesClassifiers.\n",
            "  warn(\n",
            "/usr/local/lib/python3.10/dist-packages/sklearn/ensemble/_forest.py:424: FutureWarning: `max_features='auto'` has been deprecated in 1.1 and will be removed in 1.3. To keep the past behaviour, explicitly set `max_features='sqrt'` or remove this parameter as it is also the default value for RandomForestClassifiers and ExtraTreesClassifiers.\n",
            "  warn(\n",
            "/usr/local/lib/python3.10/dist-packages/sklearn/ensemble/_forest.py:424: FutureWarning: `max_features='auto'` has been deprecated in 1.1 and will be removed in 1.3. To keep the past behaviour, explicitly set `max_features='sqrt'` or remove this parameter as it is also the default value for RandomForestClassifiers and ExtraTreesClassifiers.\n",
            "  warn(\n",
            "/usr/local/lib/python3.10/dist-packages/sklearn/ensemble/_forest.py:424: FutureWarning: `max_features='auto'` has been deprecated in 1.1 and will be removed in 1.3. To keep the past behaviour, explicitly set `max_features='sqrt'` or remove this parameter as it is also the default value for RandomForestClassifiers and ExtraTreesClassifiers.\n",
            "  warn(\n",
            "/usr/local/lib/python3.10/dist-packages/sklearn/ensemble/_forest.py:424: FutureWarning: `max_features='auto'` has been deprecated in 1.1 and will be removed in 1.3. To keep the past behaviour, explicitly set `max_features='sqrt'` or remove this parameter as it is also the default value for RandomForestClassifiers and ExtraTreesClassifiers.\n",
            "  warn(\n",
            "/usr/local/lib/python3.10/dist-packages/sklearn/ensemble/_forest.py:424: FutureWarning: `max_features='auto'` has been deprecated in 1.1 and will be removed in 1.3. To keep the past behaviour, explicitly set `max_features='sqrt'` or remove this parameter as it is also the default value for RandomForestClassifiers and ExtraTreesClassifiers.\n",
            "  warn(\n",
            "/usr/local/lib/python3.10/dist-packages/sklearn/ensemble/_forest.py:424: FutureWarning: `max_features='auto'` has been deprecated in 1.1 and will be removed in 1.3. To keep the past behaviour, explicitly set `max_features='sqrt'` or remove this parameter as it is also the default value for RandomForestClassifiers and ExtraTreesClassifiers.\n",
            "  warn(\n",
            "/usr/local/lib/python3.10/dist-packages/sklearn/ensemble/_forest.py:424: FutureWarning: `max_features='auto'` has been deprecated in 1.1 and will be removed in 1.3. To keep the past behaviour, explicitly set `max_features='sqrt'` or remove this parameter as it is also the default value for RandomForestClassifiers and ExtraTreesClassifiers.\n",
            "  warn(\n",
            "/usr/local/lib/python3.10/dist-packages/sklearn/ensemble/_forest.py:424: FutureWarning: `max_features='auto'` has been deprecated in 1.1 and will be removed in 1.3. To keep the past behaviour, explicitly set `max_features='sqrt'` or remove this parameter as it is also the default value for RandomForestClassifiers and ExtraTreesClassifiers.\n",
            "  warn(\n",
            "/usr/local/lib/python3.10/dist-packages/sklearn/ensemble/_forest.py:424: FutureWarning: `max_features='auto'` has been deprecated in 1.1 and will be removed in 1.3. To keep the past behaviour, explicitly set `max_features='sqrt'` or remove this parameter as it is also the default value for RandomForestClassifiers and ExtraTreesClassifiers.\n",
            "  warn(\n",
            "/usr/local/lib/python3.10/dist-packages/sklearn/ensemble/_forest.py:424: FutureWarning: `max_features='auto'` has been deprecated in 1.1 and will be removed in 1.3. To keep the past behaviour, explicitly set `max_features='sqrt'` or remove this parameter as it is also the default value for RandomForestClassifiers and ExtraTreesClassifiers.\n",
            "  warn(\n",
            "/usr/local/lib/python3.10/dist-packages/sklearn/ensemble/_forest.py:424: FutureWarning: `max_features='auto'` has been deprecated in 1.1 and will be removed in 1.3. To keep the past behaviour, explicitly set `max_features='sqrt'` or remove this parameter as it is also the default value for RandomForestClassifiers and ExtraTreesClassifiers.\n",
            "  warn(\n",
            "/usr/local/lib/python3.10/dist-packages/sklearn/ensemble/_forest.py:424: FutureWarning: `max_features='auto'` has been deprecated in 1.1 and will be removed in 1.3. To keep the past behaviour, explicitly set `max_features='sqrt'` or remove this parameter as it is also the default value for RandomForestClassifiers and ExtraTreesClassifiers.\n",
            "  warn(\n",
            "/usr/local/lib/python3.10/dist-packages/sklearn/ensemble/_forest.py:424: FutureWarning: `max_features='auto'` has been deprecated in 1.1 and will be removed in 1.3. To keep the past behaviour, explicitly set `max_features='sqrt'` or remove this parameter as it is also the default value for RandomForestClassifiers and ExtraTreesClassifiers.\n",
            "  warn(\n",
            "/usr/local/lib/python3.10/dist-packages/sklearn/ensemble/_forest.py:424: FutureWarning: `max_features='auto'` has been deprecated in 1.1 and will be removed in 1.3. To keep the past behaviour, explicitly set `max_features='sqrt'` or remove this parameter as it is also the default value for RandomForestClassifiers and ExtraTreesClassifiers.\n",
            "  warn(\n",
            "/usr/local/lib/python3.10/dist-packages/sklearn/ensemble/_forest.py:424: FutureWarning: `max_features='auto'` has been deprecated in 1.1 and will be removed in 1.3. To keep the past behaviour, explicitly set `max_features='sqrt'` or remove this parameter as it is also the default value for RandomForestClassifiers and ExtraTreesClassifiers.\n",
            "  warn(\n",
            "/usr/local/lib/python3.10/dist-packages/sklearn/ensemble/_forest.py:424: FutureWarning: `max_features='auto'` has been deprecated in 1.1 and will be removed in 1.3. To keep the past behaviour, explicitly set `max_features='sqrt'` or remove this parameter as it is also the default value for RandomForestClassifiers and ExtraTreesClassifiers.\n",
            "  warn(\n",
            "/usr/local/lib/python3.10/dist-packages/sklearn/ensemble/_forest.py:424: FutureWarning: `max_features='auto'` has been deprecated in 1.1 and will be removed in 1.3. To keep the past behaviour, explicitly set `max_features='sqrt'` or remove this parameter as it is also the default value for RandomForestClassifiers and ExtraTreesClassifiers.\n",
            "  warn(\n",
            "/usr/local/lib/python3.10/dist-packages/sklearn/ensemble/_forest.py:424: FutureWarning: `max_features='auto'` has been deprecated in 1.1 and will be removed in 1.3. To keep the past behaviour, explicitly set `max_features='sqrt'` or remove this parameter as it is also the default value for RandomForestClassifiers and ExtraTreesClassifiers.\n",
            "  warn(\n",
            "/usr/local/lib/python3.10/dist-packages/sklearn/ensemble/_forest.py:424: FutureWarning: `max_features='auto'` has been deprecated in 1.1 and will be removed in 1.3. To keep the past behaviour, explicitly set `max_features='sqrt'` or remove this parameter as it is also the default value for RandomForestClassifiers and ExtraTreesClassifiers.\n",
            "  warn(\n",
            "/usr/local/lib/python3.10/dist-packages/sklearn/ensemble/_forest.py:424: FutureWarning: `max_features='auto'` has been deprecated in 1.1 and will be removed in 1.3. To keep the past behaviour, explicitly set `max_features='sqrt'` or remove this parameter as it is also the default value for RandomForestClassifiers and ExtraTreesClassifiers.\n",
            "  warn(\n",
            "/usr/local/lib/python3.10/dist-packages/sklearn/ensemble/_forest.py:424: FutureWarning: `max_features='auto'` has been deprecated in 1.1 and will be removed in 1.3. To keep the past behaviour, explicitly set `max_features='sqrt'` or remove this parameter as it is also the default value for RandomForestClassifiers and ExtraTreesClassifiers.\n",
            "  warn(\n",
            "/usr/local/lib/python3.10/dist-packages/sklearn/ensemble/_forest.py:424: FutureWarning: `max_features='auto'` has been deprecated in 1.1 and will be removed in 1.3. To keep the past behaviour, explicitly set `max_features='sqrt'` or remove this parameter as it is also the default value for RandomForestClassifiers and ExtraTreesClassifiers.\n",
            "  warn(\n",
            "/usr/local/lib/python3.10/dist-packages/sklearn/ensemble/_forest.py:424: FutureWarning: `max_features='auto'` has been deprecated in 1.1 and will be removed in 1.3. To keep the past behaviour, explicitly set `max_features='sqrt'` or remove this parameter as it is also the default value for RandomForestClassifiers and ExtraTreesClassifiers.\n",
            "  warn(\n",
            "/usr/local/lib/python3.10/dist-packages/sklearn/ensemble/_forest.py:424: FutureWarning: `max_features='auto'` has been deprecated in 1.1 and will be removed in 1.3. To keep the past behaviour, explicitly set `max_features='sqrt'` or remove this parameter as it is also the default value for RandomForestClassifiers and ExtraTreesClassifiers.\n",
            "  warn(\n",
            "/usr/local/lib/python3.10/dist-packages/sklearn/ensemble/_forest.py:424: FutureWarning: `max_features='auto'` has been deprecated in 1.1 and will be removed in 1.3. To keep the past behaviour, explicitly set `max_features='sqrt'` or remove this parameter as it is also the default value for RandomForestClassifiers and ExtraTreesClassifiers.\n",
            "  warn(\n",
            "/usr/local/lib/python3.10/dist-packages/sklearn/ensemble/_forest.py:424: FutureWarning: `max_features='auto'` has been deprecated in 1.1 and will be removed in 1.3. To keep the past behaviour, explicitly set `max_features='sqrt'` or remove this parameter as it is also the default value for RandomForestClassifiers and ExtraTreesClassifiers.\n",
            "  warn(\n",
            "/usr/local/lib/python3.10/dist-packages/sklearn/ensemble/_forest.py:424: FutureWarning: `max_features='auto'` has been deprecated in 1.1 and will be removed in 1.3. To keep the past behaviour, explicitly set `max_features='sqrt'` or remove this parameter as it is also the default value for RandomForestClassifiers and ExtraTreesClassifiers.\n",
            "  warn(\n",
            "/usr/local/lib/python3.10/dist-packages/sklearn/ensemble/_forest.py:424: FutureWarning: `max_features='auto'` has been deprecated in 1.1 and will be removed in 1.3. To keep the past behaviour, explicitly set `max_features='sqrt'` or remove this parameter as it is also the default value for RandomForestClassifiers and ExtraTreesClassifiers.\n",
            "  warn(\n",
            "/usr/local/lib/python3.10/dist-packages/sklearn/ensemble/_forest.py:424: FutureWarning: `max_features='auto'` has been deprecated in 1.1 and will be removed in 1.3. To keep the past behaviour, explicitly set `max_features='sqrt'` or remove this parameter as it is also the default value for RandomForestClassifiers and ExtraTreesClassifiers.\n",
            "  warn(\n",
            "/usr/local/lib/python3.10/dist-packages/sklearn/ensemble/_forest.py:424: FutureWarning: `max_features='auto'` has been deprecated in 1.1 and will be removed in 1.3. To keep the past behaviour, explicitly set `max_features='sqrt'` or remove this parameter as it is also the default value for RandomForestClassifiers and ExtraTreesClassifiers.\n",
            "  warn(\n",
            "/usr/local/lib/python3.10/dist-packages/sklearn/ensemble/_forest.py:424: FutureWarning: `max_features='auto'` has been deprecated in 1.1 and will be removed in 1.3. To keep the past behaviour, explicitly set `max_features='sqrt'` or remove this parameter as it is also the default value for RandomForestClassifiers and ExtraTreesClassifiers.\n",
            "  warn(\n",
            "/usr/local/lib/python3.10/dist-packages/sklearn/ensemble/_forest.py:424: FutureWarning: `max_features='auto'` has been deprecated in 1.1 and will be removed in 1.3. To keep the past behaviour, explicitly set `max_features='sqrt'` or remove this parameter as it is also the default value for RandomForestClassifiers and ExtraTreesClassifiers.\n",
            "  warn(\n",
            "/usr/local/lib/python3.10/dist-packages/sklearn/ensemble/_forest.py:424: FutureWarning: `max_features='auto'` has been deprecated in 1.1 and will be removed in 1.3. To keep the past behaviour, explicitly set `max_features='sqrt'` or remove this parameter as it is also the default value for RandomForestClassifiers and ExtraTreesClassifiers.\n",
            "  warn(\n",
            "/usr/local/lib/python3.10/dist-packages/sklearn/ensemble/_forest.py:424: FutureWarning: `max_features='auto'` has been deprecated in 1.1 and will be removed in 1.3. To keep the past behaviour, explicitly set `max_features='sqrt'` or remove this parameter as it is also the default value for RandomForestClassifiers and ExtraTreesClassifiers.\n",
            "  warn(\n",
            "/usr/local/lib/python3.10/dist-packages/sklearn/ensemble/_forest.py:424: FutureWarning: `max_features='auto'` has been deprecated in 1.1 and will be removed in 1.3. To keep the past behaviour, explicitly set `max_features='sqrt'` or remove this parameter as it is also the default value for RandomForestClassifiers and ExtraTreesClassifiers.\n",
            "  warn(\n",
            "/usr/local/lib/python3.10/dist-packages/sklearn/ensemble/_forest.py:424: FutureWarning: `max_features='auto'` has been deprecated in 1.1 and will be removed in 1.3. To keep the past behaviour, explicitly set `max_features='sqrt'` or remove this parameter as it is also the default value for RandomForestClassifiers and ExtraTreesClassifiers.\n",
            "  warn(\n",
            "/usr/local/lib/python3.10/dist-packages/sklearn/ensemble/_forest.py:424: FutureWarning: `max_features='auto'` has been deprecated in 1.1 and will be removed in 1.3. To keep the past behaviour, explicitly set `max_features='sqrt'` or remove this parameter as it is also the default value for RandomForestClassifiers and ExtraTreesClassifiers.\n",
            "  warn(\n",
            "/usr/local/lib/python3.10/dist-packages/sklearn/ensemble/_forest.py:424: FutureWarning: `max_features='auto'` has been deprecated in 1.1 and will be removed in 1.3. To keep the past behaviour, explicitly set `max_features='sqrt'` or remove this parameter as it is also the default value for RandomForestClassifiers and ExtraTreesClassifiers.\n",
            "  warn(\n",
            "/usr/local/lib/python3.10/dist-packages/sklearn/ensemble/_forest.py:424: FutureWarning: `max_features='auto'` has been deprecated in 1.1 and will be removed in 1.3. To keep the past behaviour, explicitly set `max_features='sqrt'` or remove this parameter as it is also the default value for RandomForestClassifiers and ExtraTreesClassifiers.\n",
            "  warn(\n",
            "/usr/local/lib/python3.10/dist-packages/sklearn/ensemble/_forest.py:424: FutureWarning: `max_features='auto'` has been deprecated in 1.1 and will be removed in 1.3. To keep the past behaviour, explicitly set `max_features='sqrt'` or remove this parameter as it is also the default value for RandomForestClassifiers and ExtraTreesClassifiers.\n",
            "  warn(\n",
            "/usr/local/lib/python3.10/dist-packages/sklearn/ensemble/_forest.py:424: FutureWarning: `max_features='auto'` has been deprecated in 1.1 and will be removed in 1.3. To keep the past behaviour, explicitly set `max_features='sqrt'` or remove this parameter as it is also the default value for RandomForestClassifiers and ExtraTreesClassifiers.\n",
            "  warn(\n",
            "/usr/local/lib/python3.10/dist-packages/sklearn/ensemble/_forest.py:424: FutureWarning: `max_features='auto'` has been deprecated in 1.1 and will be removed in 1.3. To keep the past behaviour, explicitly set `max_features='sqrt'` or remove this parameter as it is also the default value for RandomForestClassifiers and ExtraTreesClassifiers.\n",
            "  warn(\n",
            "/usr/local/lib/python3.10/dist-packages/sklearn/ensemble/_forest.py:424: FutureWarning: `max_features='auto'` has been deprecated in 1.1 and will be removed in 1.3. To keep the past behaviour, explicitly set `max_features='sqrt'` or remove this parameter as it is also the default value for RandomForestClassifiers and ExtraTreesClassifiers.\n",
            "  warn(\n",
            "/usr/local/lib/python3.10/dist-packages/sklearn/ensemble/_forest.py:424: FutureWarning: `max_features='auto'` has been deprecated in 1.1 and will be removed in 1.3. To keep the past behaviour, explicitly set `max_features='sqrt'` or remove this parameter as it is also the default value for RandomForestClassifiers and ExtraTreesClassifiers.\n",
            "  warn(\n",
            "/usr/local/lib/python3.10/dist-packages/sklearn/ensemble/_forest.py:424: FutureWarning: `max_features='auto'` has been deprecated in 1.1 and will be removed in 1.3. To keep the past behaviour, explicitly set `max_features='sqrt'` or remove this parameter as it is also the default value for RandomForestClassifiers and ExtraTreesClassifiers.\n",
            "  warn(\n",
            "/usr/local/lib/python3.10/dist-packages/sklearn/ensemble/_forest.py:424: FutureWarning: `max_features='auto'` has been deprecated in 1.1 and will be removed in 1.3. To keep the past behaviour, explicitly set `max_features='sqrt'` or remove this parameter as it is also the default value for RandomForestClassifiers and ExtraTreesClassifiers.\n",
            "  warn(\n",
            "/usr/local/lib/python3.10/dist-packages/sklearn/ensemble/_forest.py:424: FutureWarning: `max_features='auto'` has been deprecated in 1.1 and will be removed in 1.3. To keep the past behaviour, explicitly set `max_features='sqrt'` or remove this parameter as it is also the default value for RandomForestClassifiers and ExtraTreesClassifiers.\n",
            "  warn(\n",
            "/usr/local/lib/python3.10/dist-packages/sklearn/ensemble/_forest.py:424: FutureWarning: `max_features='auto'` has been deprecated in 1.1 and will be removed in 1.3. To keep the past behaviour, explicitly set `max_features='sqrt'` or remove this parameter as it is also the default value for RandomForestClassifiers and ExtraTreesClassifiers.\n",
            "  warn(\n",
            "/usr/local/lib/python3.10/dist-packages/sklearn/ensemble/_forest.py:424: FutureWarning: `max_features='auto'` has been deprecated in 1.1 and will be removed in 1.3. To keep the past behaviour, explicitly set `max_features='sqrt'` or remove this parameter as it is also the default value for RandomForestClassifiers and ExtraTreesClassifiers.\n",
            "  warn(\n",
            "/usr/local/lib/python3.10/dist-packages/sklearn/ensemble/_forest.py:424: FutureWarning: `max_features='auto'` has been deprecated in 1.1 and will be removed in 1.3. To keep the past behaviour, explicitly set `max_features='sqrt'` or remove this parameter as it is also the default value for RandomForestClassifiers and ExtraTreesClassifiers.\n",
            "  warn(\n",
            "/usr/local/lib/python3.10/dist-packages/sklearn/ensemble/_forest.py:424: FutureWarning: `max_features='auto'` has been deprecated in 1.1 and will be removed in 1.3. To keep the past behaviour, explicitly set `max_features='sqrt'` or remove this parameter as it is also the default value for RandomForestClassifiers and ExtraTreesClassifiers.\n",
            "  warn(\n",
            "/usr/local/lib/python3.10/dist-packages/sklearn/ensemble/_forest.py:424: FutureWarning: `max_features='auto'` has been deprecated in 1.1 and will be removed in 1.3. To keep the past behaviour, explicitly set `max_features='sqrt'` or remove this parameter as it is also the default value for RandomForestClassifiers and ExtraTreesClassifiers.\n",
            "  warn(\n",
            "/usr/local/lib/python3.10/dist-packages/sklearn/ensemble/_forest.py:424: FutureWarning: `max_features='auto'` has been deprecated in 1.1 and will be removed in 1.3. To keep the past behaviour, explicitly set `max_features='sqrt'` or remove this parameter as it is also the default value for RandomForestClassifiers and ExtraTreesClassifiers.\n",
            "  warn(\n",
            "/usr/local/lib/python3.10/dist-packages/sklearn/ensemble/_forest.py:424: FutureWarning: `max_features='auto'` has been deprecated in 1.1 and will be removed in 1.3. To keep the past behaviour, explicitly set `max_features='sqrt'` or remove this parameter as it is also the default value for RandomForestClassifiers and ExtraTreesClassifiers.\n",
            "  warn(\n",
            "/usr/local/lib/python3.10/dist-packages/sklearn/ensemble/_forest.py:424: FutureWarning: `max_features='auto'` has been deprecated in 1.1 and will be removed in 1.3. To keep the past behaviour, explicitly set `max_features='sqrt'` or remove this parameter as it is also the default value for RandomForestClassifiers and ExtraTreesClassifiers.\n",
            "  warn(\n",
            "/usr/local/lib/python3.10/dist-packages/sklearn/ensemble/_forest.py:424: FutureWarning: `max_features='auto'` has been deprecated in 1.1 and will be removed in 1.3. To keep the past behaviour, explicitly set `max_features='sqrt'` or remove this parameter as it is also the default value for RandomForestClassifiers and ExtraTreesClassifiers.\n",
            "  warn(\n",
            "/usr/local/lib/python3.10/dist-packages/sklearn/ensemble/_forest.py:424: FutureWarning: `max_features='auto'` has been deprecated in 1.1 and will be removed in 1.3. To keep the past behaviour, explicitly set `max_features='sqrt'` or remove this parameter as it is also the default value for RandomForestClassifiers and ExtraTreesClassifiers.\n",
            "  warn(\n",
            "/usr/local/lib/python3.10/dist-packages/sklearn/ensemble/_forest.py:424: FutureWarning: `max_features='auto'` has been deprecated in 1.1 and will be removed in 1.3. To keep the past behaviour, explicitly set `max_features='sqrt'` or remove this parameter as it is also the default value for RandomForestClassifiers and ExtraTreesClassifiers.\n",
            "  warn(\n",
            "/usr/local/lib/python3.10/dist-packages/sklearn/ensemble/_forest.py:424: FutureWarning: `max_features='auto'` has been deprecated in 1.1 and will be removed in 1.3. To keep the past behaviour, explicitly set `max_features='sqrt'` or remove this parameter as it is also the default value for RandomForestClassifiers and ExtraTreesClassifiers.\n",
            "  warn(\n",
            "/usr/local/lib/python3.10/dist-packages/sklearn/model_selection/_validation.py:378: FitFailedWarning: \n",
            "15 fits failed out of a total of 75.\n",
            "The score on these train-test partitions for these parameters will be set to nan.\n",
            "If these failures are not expected, you can try to debug them by setting error_score='raise'.\n",
            "\n",
            "Below are more details about the failures:\n",
            "--------------------------------------------------------------------------------\n",
            "15 fits failed with the following error:\n",
            "Traceback (most recent call last):\n",
            "  File \"/usr/local/lib/python3.10/dist-packages/sklearn/model_selection/_validation.py\", line 686, in _fit_and_score\n",
            "    estimator.fit(X_train, y_train, **fit_params)\n",
            "  File \"/usr/local/lib/python3.10/dist-packages/sklearn/ensemble/_forest.py\", line 340, in fit\n",
            "    self._validate_params()\n",
            "  File \"/usr/local/lib/python3.10/dist-packages/sklearn/base.py\", line 600, in _validate_params\n",
            "    validate_parameter_constraints(\n",
            "  File \"/usr/local/lib/python3.10/dist-packages/sklearn/utils/_param_validation.py\", line 97, in validate_parameter_constraints\n",
            "    raise InvalidParameterError(\n",
            "sklearn.utils._param_validation.InvalidParameterError: The 'min_samples_split' parameter of RandomForestClassifier must be an int in the range [2, inf) or a float in the range (0.0, 1.0]. Got 1 instead.\n",
            "\n",
            "  warnings.warn(some_fits_failed_message, FitFailedWarning)\n",
            "/usr/local/lib/python3.10/dist-packages/sklearn/model_selection/_search.py:952: UserWarning: One or more of the test scores are non-finite: [0.88040911 0.88113425 0.87916694 0.87970786 0.87980499 0.88030728\n",
            " 0.88138855 0.8796392  0.87771193        nan        nan        nan\n",
            " 0.87829631 0.88032959 0.87993767]\n",
            "  warnings.warn(\n",
            "/usr/local/lib/python3.10/dist-packages/sklearn/ensemble/_forest.py:424: FutureWarning: `max_features='auto'` has been deprecated in 1.1 and will be removed in 1.3. To keep the past behaviour, explicitly set `max_features='sqrt'` or remove this parameter as it is also the default value for RandomForestClassifiers and ExtraTreesClassifiers.\n",
            "  warn(\n"
          ]
        }
      ],
      "source": [
        "#Pruebo Random Search Cross Validation \n",
        "#Cantidad de combinaciones que quiero porbar\n",
        "n=15\n",
        "\n",
        "#Conjunto de parámetros que quiero usar\n",
        "params_grid = {'criterion':['gini','entropy'],\n",
        "               'min_samples_leaf':[1],\n",
        "               'min_samples_split': list(range(1,7)),\n",
        "               'n_estimators':list(range(60,100))\n",
        "               }\n",
        "                \n",
        "#Cantidad de splits para el Cross Validation\n",
        "folds=5\n",
        "\n",
        "#Kfold estratificado\n",
        "kfoldcv = StratifiedKFold(n_splits=folds)\n",
        "\n",
        "#Clasificador\n",
        "rf_cv = RandomForestClassifier(max_features='auto', oob_score=True, random_state=1, n_jobs=-1)\n",
        "\n",
        "#Metrica que quiero optimizar F1 Score\n",
        "scorer_fn = make_scorer(sk.metrics.f1_score)\n",
        "\n",
        "#Random Search Cross Validation\n",
        "randomcv = RandomizedSearchCV(estimator=rf_cv,\n",
        "                              param_distributions = params_grid,\n",
        "                              scoring=scorer_fn,\n",
        "                              cv=kfoldcv,\n",
        "                              n_iter=n) \n",
        "\n",
        "#Busco los hiperparamtros que optimizan F1 Score\n",
        "randomcv.fit(x_train,y_train);"
      ]
    },
    {
      "cell_type": "code",
      "execution_count": null,
      "metadata": {
        "colab": {
          "base_uri": "https://localhost:8080/"
        },
        "id": "Z0D0mNm2lEI2",
        "outputId": "b740bf50-ea45-4c9c-b396-f9c5e4da3b59"
      },
      "outputs": [
        {
          "data": {
            "text/plain": [
              "{'n_estimators': 87,\n",
              " 'min_samples_split': 2,\n",
              " 'min_samples_leaf': 1,\n",
              " 'criterion': 'entropy'}"
            ]
          },
          "execution_count": 237,
          "metadata": {},
          "output_type": "execute_result"
        }
      ],
      "source": [
        "randomcv.best_params_"
      ]
    },
    {
      "cell_type": "code",
      "execution_count": null,
      "metadata": {
        "colab": {
          "base_uri": "https://localhost:8080/"
        },
        "id": "1Jz7KMwykwM-",
        "outputId": "383a30d0-b6fc-4ca0-e95c-b3795e604d76"
      },
      "outputs": [
        {
          "data": {
            "text/plain": [
              "array([0.88304138, 0.88035534,        nan, 0.88243971, 0.8818463 ,\n",
              "       0.88221313, 0.88127739, 0.88262857, 0.88036913, 0.87918565,\n",
              "       0.88013876, 0.88203884, 0.88229075, 0.87914165,        nan])"
            ]
          },
          "execution_count": 238,
          "metadata": {},
          "output_type": "execute_result"
        }
      ],
      "source": [
        "randomcv.cv_results_['mean_test_score']"
      ]
    },
    {
      "cell_type": "code",
      "execution_count": null,
      "metadata": {
        "colab": {
          "base_uri": "https://localhost:8080/"
        },
        "id": "eUGGIKgyk9Gd",
        "outputId": "32cfce76-e426-4da9-b3b6-f3c1ea2ec215"
      },
      "outputs": [
        {
          "data": {
            "text/plain": [
              "0.8830413802731678"
            ]
          },
          "execution_count": 239,
          "metadata": {},
          "output_type": "execute_result"
        }
      ],
      "source": [
        "randomcv.best_score_"
      ]
    },
    {
      "cell_type": "code",
      "execution_count": null,
      "metadata": {
        "id": "061xa58e3-re"
      },
      "outputs": [],
      "source": [
        "best_fit = randomcv.best_estimator_"
      ]
    },
    {
      "cell_type": "code",
      "execution_count": null,
      "metadata": {
        "id": "UyDXuIIcZ1aT"
      },
      "outputs": [],
      "source": [
        "predict_y_test = best_fit.predict(x_test)"
      ]
    },
    {
      "cell_type": "code",
      "execution_count": null,
      "metadata": {
        "colab": {
          "base_uri": "https://localhost:8080/",
          "height": 449
        },
        "id": "TQxU14WAaCwL",
        "outputId": "92a795cc-182c-4a59-8c95-04927c72d13c"
      },
      "outputs": [
        {
          "data": {
            "image/png": "[encoded data removed]",
            "text/plain": [
              "<Figure size 640x480 with 2 Axes>"
            ]
          },
          "metadata": {},
          "output_type": "display_data"
        }
      ],
      "source": [
        "tabla = confusion_matrix(y_test, predict_y_test)\n",
        "\n",
        "sns.heatmap(tabla, cmap = 'Blues',annot = True, fmt = 'g')\n",
        "plt.xlabel(\"Predicted\")\n",
        "plt.ylabel(\"True\")\n",
        "\n",
        "plt.show()"
      ]
    },
    {
      "cell_type": "code",
      "execution_count": null,
      "metadata": {
        "colab": {
          "base_uri": "https://localhost:8080/"
        },
        "id": "OkX8syPb1a0b",
        "outputId": "cfe07510-83e8-4c45-9e88-14ad1f53c504"
      },
      "outputs": [
        {
          "name": "stdout",
          "output_type": "stream",
          "text": [
            "              precision    recall  f1-score   support\n",
            "\n",
            "           0       0.88      0.88      0.88      8169\n",
            "           1       0.88      0.88      0.88      8257\n",
            "\n",
            "    accuracy                           0.88     16426\n",
            "   macro avg       0.88      0.88      0.88     16426\n",
            "weighted avg       0.88      0.88      0.88     16426\n",
            "\n"
          ]
        }
      ],
      "source": [
        "print(classification_report(y_test, predict_y_test))"
      ]
    },
    {
      "cell_type": "markdown",
      "metadata": {
        "id": "1X8CUzFa17RA"
      },
      "source": [
        "## Prediccion"
      ]
    },
    {
      "cell_type": "code",
      "execution_count": null,
      "metadata": {
        "id": "aD2ApofbAqkZ"
      },
      "outputs": [],
      "source": [
        "ds_trabajo_predic.drop('index', axis=1, inplace=True)"
      ]
    },
    {
      "cell_type": "code",
      "execution_count": null,
      "metadata": {
        "colab": {
          "base_uri": "https://localhost:8080/"
        },
        "id": "jEwz3H9w2BGb",
        "outputId": "d382e923-0960-4ac9-ffed-514f3bbe8bee"
      },
      "outputs": [
        {
          "name": "stderr",
          "output_type": "stream",
          "text": [
            "/usr/local/lib/python3.10/dist-packages/sklearn/ensemble/_forest.py:424: FutureWarning: `max_features='auto'` has been deprecated in 1.1 and will be removed in 1.3. To keep the past behaviour, explicitly set `max_features='sqrt'` or remove this parameter as it is also the default value for RandomForestClassifiers and ExtraTreesClassifiers.\n",
            "  warn(\n"
          ]
        }
      ],
      "source": [
        "best_random_forest = RandomForestClassifier(max_features='auto', oob_score=True, random_state=3, n_jobs=-1, n_estimators=94, min_samples_split=2,min_samples_leaf=1,criterion='entropy')\n",
        "\n",
        "y = ds_trabajo_predic['is_canceled'].copy()\n",
        "x = ds_trabajo_predic.drop(['is_canceled'], axis='columns', inplace=False)\n",
        "\n",
        "x_train, x_test, y_train, y_test = train_test_split(x, y, test_size=0.20, random_state=0)\n",
        "\n",
        "best_random_forest.fit(x_train, y_train)\n",
        "y_pred = best_random_forest.predict(df_test)"
      ]
    },
    {
      "cell_type": "code",
      "execution_count": null,
      "metadata": {
        "colab": {
          "base_uri": "https://localhost:8080/",
          "height": 424
        },
        "id": "kj5Z3nz03w2_",
        "outputId": "3658e56b-c8bb-4fc9-b463-9341fa1b795e"
      },
      "outputs": [
        {
          "data": {
            "text/html": [
              "\n",
              "  <div id=\"df-5f104c09-63fe-414f-b80b-2365ff53e80c\">\n",
              "    <div class=\"colab-df-container\">\n",
              "      <div>\n",
              "<style scoped>\n",
              "    .dataframe tbody tr th:only-of-type {\n",
              "        vertical-align: middle;\n",
              "    }\n",
              "\n",
              "    .dataframe tbody tr th {\n",
              "        vertical-align: top;\n",
              "    }\n",
              "\n",
              "    .dataframe thead th {\n",
              "        text-align: right;\n",
              "    }\n",
              "</style>\n",
              "<table border=\"1\" class=\"dataframe\">\n",
              "  <thead>\n",
              "    <tr style=\"text-align: right;\">\n",
              "      <th></th>\n",
              "      <th>id</th>\n",
              "      <th>is_canceled</th>\n",
              "    </tr>\n",
              "  </thead>\n",
              "  <tbody>\n",
              "    <tr>\n",
              "      <th>0</th>\n",
              "      <td>e6d0d58a-ab96-44d3-b28f-85df1cc15f1e</td>\n",
              "      <td>1</td>\n",
              "    </tr>\n",
              "    <tr>\n",
              "      <th>1</th>\n",
              "      <td>aba9aac2-4495-4645-a60e-90328713c999</td>\n",
              "      <td>1</td>\n",
              "    </tr>\n",
              "    <tr>\n",
              "      <th>2</th>\n",
              "      <td>b345b5dc-c804-4d77-a39f-1f4e65d1f1ad</td>\n",
              "      <td>0</td>\n",
              "    </tr>\n",
              "    <tr>\n",
              "      <th>3</th>\n",
              "      <td>ce1b400e-afa1-4946-bdff-004b859eb61c</td>\n",
              "      <td>1</td>\n",
              "    </tr>\n",
              "    <tr>\n",
              "      <th>4</th>\n",
              "      <td>c4fbec0d-8e2e-4db2-9d4f-a6ccb9f51214</td>\n",
              "      <td>1</td>\n",
              "    </tr>\n",
              "    <tr>\n",
              "      <th>...</th>\n",
              "      <td>...</td>\n",
              "      <td>...</td>\n",
              "    </tr>\n",
              "    <tr>\n",
              "      <th>26530</th>\n",
              "      <td>636ccded-66ad-4538-8006-c0b9f84c6256</td>\n",
              "      <td>0</td>\n",
              "    </tr>\n",
              "    <tr>\n",
              "      <th>26531</th>\n",
              "      <td>11e19741-bd28-4459-8ea3-184f1664000f</td>\n",
              "      <td>0</td>\n",
              "    </tr>\n",
              "    <tr>\n",
              "      <th>26532</th>\n",
              "      <td>36a4c7b0-d6b1-4528-93db-311be96ec1c6</td>\n",
              "      <td>1</td>\n",
              "    </tr>\n",
              "    <tr>\n",
              "      <th>26533</th>\n",
              "      <td>89c85fa5-2b3d-4131-844c-e151a65ca240</td>\n",
              "      <td>1</td>\n",
              "    </tr>\n",
              "    <tr>\n",
              "      <th>26534</th>\n",
              "      <td>bd4e9eee-f28e-4a53-b4a1-277426efbcee</td>\n",
              "      <td>0</td>\n",
              "    </tr>\n",
              "  </tbody>\n",
              "</table>\n",
              "<p>26535 rows × 2 columns</p>\n",
              "</div>\n",
              "      <button class=\"colab-df-convert\" onclick=\"convertToInteractive('df-5f104c09-63fe-414f-b80b-2365ff53e80c')\"\n",
              "              title=\"Convert this dataframe to an interactive table.\"\n",
              "              style=\"display:none;\">\n",
              "        \n",
              "  <svg xmlns=\"http://www.w3.org/2000/svg\" height=\"24px\"viewBox=\"0 0 24 24\"\n",
              "       width=\"24px\">\n",
              "    <path d=\"M0 0h24v24H0V0z\" fill=\"none\"/>\n",
              "    <path d=\"M18.56 5.44l.94 2.06.94-2.06 2.06-.94-2.06-.94-.94-2.06-.94 2.06-2.06.94zm-11 1L8.5 8.5l.94-2.06 2.06-.94-2.06-.94L8.5 2.5l-.94 2.06-2.06.94zm10 10l.94 2.06.94-2.06 2.06-.94-2.06-.94-.94-2.06-.94 2.06-2.06.94z\"/><path d=\"M17.41 7.96l-1.37-1.37c-.4-.4-.92-.59-1.43-.59-.52 0-1.04.2-1.43.59L10.3 9.45l-7.72 7.72c-.78.78-.78 2.05 0 2.83L4 21.41c.39.39.9.59 1.41.59.51 0 1.02-.2 1.41-.59l7.78-7.78 2.81-2.81c.8-.78.8-2.07 0-2.86zM5.41 20L4 18.59l7.72-7.72 1.47 1.35L5.41 20z\"/>\n",
              "  </svg>\n",
              "      </button>\n",
              "      \n",
              "  <style>\n",
              "    .colab-df-container {\n",
              "      display:flex;\n",
              "      flex-wrap:wrap;\n",
              "      gap: 12px;\n",
              "    }\n",
              "\n",
              "    .colab-df-convert {\n",
              "      background-color: #E8F0FE;\n",
              "      border: none;\n",
              "      border-radius: 50%;\n",
              "      cursor: pointer;\n",
              "      display: none;\n",
              "      fill: #1967D2;\n",
              "      height: 32px;\n",
              "      padding: 0 0 0 0;\n",
              "      width: 32px;\n",
              "    }\n",
              "\n",
              "    .colab-df-convert:hover {\n",
              "      background-color: #E2EBFA;\n",
              "      box-shadow: 0px 1px 2px rgba(60, 64, 67, 0.3), 0px 1px 3px 1px rgba(60, 64, 67, 0.15);\n",
              "      fill: #174EA6;\n",
              "    }\n",
              "\n",
              "    [theme=dark] .colab-df-convert {\n",
              "      background-color: #3B4455;\n",
              "      fill: #D2E3FC;\n",
              "    }\n",
              "\n",
              "    [theme=dark] .colab-df-convert:hover {\n",
              "      background-color: #434B5C;\n",
              "      box-shadow: 0px 1px 3px 1px rgba(0, 0, 0, 0.15);\n",
              "      filter: drop-shadow(0px 1px 2px rgba(0, 0, 0, 0.3));\n",
              "      fill: #FFFFFF;\n",
              "    }\n",
              "  </style>\n",
              "\n",
              "      <script>\n",
              "        const buttonEl =\n",
              "          document.querySelector('#df-5f104c09-63fe-414f-b80b-2365ff53e80c button.colab-df-convert');\n",
              "        buttonEl.style.display =\n",
              "          google.colab.kernel.accessAllowed ? 'block' : 'none';\n",
              "\n",
              "        async function convertToInteractive(key) {\n",
              "          const element = document.querySelector('#df-5f104c09-63fe-414f-b80b-2365ff53e80c');\n",
              "          const dataTable =\n",
              "            await google.colab.kernel.invokeFunction('convertToInteractive',\n",
              "                                                     [key], {});\n",
              "          if (!dataTable) return;\n",
              "\n",
              "          const docLinkHtml = 'Like what you see? Visit the ' +\n",
              "            '<a target=\"_blank\" href=https://colab.research.google.com/notebooks/data_table.ipynb>data table notebook</a>'\n",
              "            + ' to learn more about interactive tables.';\n",
              "          element.innerHTML = '';\n",
              "          dataTable['output_type'] = 'display_data';\n",
              "          await google.colab.output.renderOutput(dataTable, element);\n",
              "          const docLink = document.createElement('div');\n",
              "          docLink.innerHTML = docLinkHtml;\n",
              "          element.appendChild(docLink);\n",
              "        }\n",
              "      </script>\n",
              "    </div>\n",
              "  </div>\n",
              "  "
            ],
            "text/plain": [
              "                                         id  is_canceled\n",
              "0      e6d0d58a-ab96-44d3-b28f-85df1cc15f1e            1\n",
              "1      aba9aac2-4495-4645-a60e-90328713c999            1\n",
              "2      b345b5dc-c804-4d77-a39f-1f4e65d1f1ad            0\n",
              "3      ce1b400e-afa1-4946-bdff-004b859eb61c            1\n",
              "4      c4fbec0d-8e2e-4db2-9d4f-a6ccb9f51214            1\n",
              "...                                     ...          ...\n",
              "26530  636ccded-66ad-4538-8006-c0b9f84c6256            0\n",
              "26531  11e19741-bd28-4459-8ea3-184f1664000f            0\n",
              "26532  36a4c7b0-d6b1-4528-93db-311be96ec1c6            1\n",
              "26533  89c85fa5-2b3d-4131-844c-e151a65ca240            1\n",
              "26534  bd4e9eee-f28e-4a53-b4a1-277426efbcee            0\n",
              "\n",
              "[26535 rows x 2 columns]"
            ]
          },
          "execution_count": 181,
          "metadata": {},
          "output_type": "execute_result"
        }
      ],
      "source": [
        "submit =  pd.DataFrame(zip(test_id,y_pred),columns=['id','is_canceled'])\n",
        "submit"
      ]
    },
    {
      "cell_type": "code",
      "execution_count": null,
      "metadata": {
        "id": "ImmXmo1R38CY"
      },
      "outputs": [],
      "source": [
        "submit.to_csv('./random_forest_submit.csv',index=False)  "
      ]
    },
    {
      "cell_type": "markdown",
      "metadata": {
        "id": "44etlT1tZdjD"
      },
      "source": [
        "##Preparando modelo"
      ]
    },
    {
      "cell_type": "code",
      "execution_count": null,
      "metadata": {
        "colab": {
          "base_uri": "https://localhost:8080/"
        },
        "id": "qNdiG8uuZgnS",
        "outputId": "a8a35e13-6ed6-4b70-a7ec-ce2f9ce21db0"
      },
      "outputs": [
        {
          "data": {
            "text/plain": [
              "array([1, 1, 0, ..., 1, 1, 0])"
            ]
          },
          "execution_count": 183,
          "metadata": {},
          "output_type": "execute_result"
        }
      ],
      "source": [
        "from joblib import dump\n",
        "dump(best_random_forest, 'random_forest.joblib') \n",
        "\n",
        "from joblib import load\n",
        "random_forest = load('random_forest.joblib')\n",
        "random_forest.predict(df_test) "
      ]
    },
    {
      "cell_type": "markdown",
      "metadata": {
        "id": "4RR9msZbu7tO"
      },
      "source": [
        "#**Ensamble Hibrido**\n"
      ]
    },
    {
      "cell_type": "markdown",
      "metadata": {
        "id": "oZTqgCdTF0yD"
      },
      "source": [
        "##Preprocesamiento\n"
      ]
    },
    {
      "cell_type": "code",
      "execution_count": null,
      "metadata": {
        "colab": {
          "base_uri": "https://localhost:8080/"
        },
        "id": "9uaOvl66F36a",
        "outputId": "a2f66f57-47e9-42e0-f599-77473aceb9d1"
      },
      "outputs": [
        {
          "name": "stdout",
          "output_type": "stream",
          "text": [
            "1023\n",
            "Cantidad de outliers encontrados con z-score: 2968\n",
            "Cantidad de outliers encontrados con z-score: 392\n"
          ]
        }
      ],
      "source": [
        "#Datos\n",
        "import numpy as np\n",
        "import pandas as pd\n",
        "\n",
        "#Plots\n",
        "import matplotlib.pyplot as plt\n",
        "import seaborn as sns\n",
        "\n",
        "# Outliers\n",
        "import scipy.stats as st\n",
        "\n",
        "#Modelado\n",
        "from sklearn.model_selection import train_test_split\n",
        "from sklearn.neighbors import KNeighborsClassifier\n",
        "from sklearn.metrics import accuracy_score\n",
        "\n",
        "# Cargo el data set\n",
        "direc = \"https://raw.githubusercontent.com/Akselas/7506R-1C2023-GRUPO26/main/hotels_train.csv\"\n",
        "direc_test = \"https://raw.githubusercontent.com/Akselas/7506R-1C2023-GRUPO26/main/hotels_test.csv\"\n",
        "df_test = pd.read_csv(direc_test)\n",
        "df = pd.read_csv(direc)\n",
        "df_filtrado  = df.copy()\n",
        "\n",
        "# Limpieza del dataset\n",
        "\n",
        "# Eliminamos columnas para train\n",
        "df_filtrado = df_filtrado.drop('id', axis=1)\n",
        "df_filtrado = df_filtrado.drop(\"reservation_status\", axis=1)\n",
        "df_filtrado = df_filtrado.drop(\"reservation_status_date\", axis=1)\n",
        "df_filtrado = df_filtrado.drop(\"company\", axis=1)\n",
        "\n",
        "# Eliminamos columnas para test\n",
        "test_id = df_test.id.copy()\n",
        "df_test = df_test.drop('id', axis=1)\n",
        "df_test = df_test.drop(\"reservation_status\", axis=1)\n",
        "df_test = df_test.drop(\"reservation_status_date\", axis=1)\n",
        "df_test = df_test.drop(\"company\", axis=1)\n",
        "\n",
        "# Se reemplazan los valores nulos por 0 en agents\n",
        "df_filtrado['agent'] = df_filtrado['agent'].fillna(0)\n",
        "df_filtrado['agent'] = df_filtrado['agent'].astype(str)\n",
        "\n",
        "df_test['agent'] = df_test['agent'].fillna(0)\n",
        "df_test['agent'] = df_test['agent'].astype(str)\n",
        "\n",
        "\n",
        "#Categorizo los agentes menos populares(no incluyo los agentes 0)\n",
        "agentes_populares = df_filtrado['agent'].value_counts().index.to_list()[0:14]\n",
        "def es_agente_popular(agent):\n",
        "  if agent in agentes_populares:\n",
        "    return agent\n",
        "  elif agent == 0:\n",
        "    return agent\n",
        "  else:\n",
        "    return 'otro'\n",
        "\n",
        "df_filtrado['agent'] = df_filtrado['agent'].apply(es_agente_popular )\n",
        "\n",
        "# Aca la transformacion aplicada viene del dataset de train\n",
        "df_test['agent'] = df_test['agent'].apply(es_agente_popular )\n",
        "\n",
        "\n",
        "# Reemplazamos todas las aparaiciones de paises con pocas apariciones en un pais \"otro\"\n",
        "paises = df_filtrado['country'].value_counts()\n",
        "paises_atipicos = paises[ paises <=100].index.to_list()\n",
        "def es_pais_atipico(pais):\n",
        "  if pais in paises_atipicos or pd.isna(pais) :\n",
        "    return 'otro'\n",
        "  else:\n",
        "    return pais\n",
        "\n",
        "# Aca la transformacion aplicada viene del dataset de train\n",
        "df_filtrado['country'] = df_filtrado['country'].apply( es_pais_atipico)\n",
        "\n",
        "df_test['country'] = df_test['country'].apply(es_pais_atipico)\n",
        "\n",
        "\n",
        "# Esta funcion es solo para test, a todos los paises que no estan en train los categoriza como otro\n",
        "paises_tipicos = paises[ paises > 100].index.to_list()\n",
        "def pertenece_a_pais_de_train(pais):\n",
        "  if pais in paises_atipicos or pais not in paises_tipicos or pd.isna(pais) :\n",
        "    return 'otro'\n",
        "  else:\n",
        "    return pais\n",
        "df_test['country'] = df_test['country'].apply(pertenece_a_pais_de_train)\n",
        "\n",
        "\n",
        "\n",
        "\n",
        "#caso de datos nulos en children\n",
        "#le agrego el valor que mas predomina, que es 0\n",
        "df_filtrado['children'] = df_filtrado['children'].apply(lambda child: 0 if pd.isna(child) else child)\n",
        "df_test['children'] = df_test['children'].apply(lambda child: 0 if pd.isna(child) else child)\n",
        "\n",
        "\n",
        "#caso market segment y distribution channel\n",
        "a = df_filtrado[df_filtrado['market_segment'] == 'Undefined'].index\n",
        "df_filtrado.drop(a,  inplace=True, errors='ignore')\n",
        "\n",
        "b = df_filtrado[df_filtrado['distribution_channel'] == 'Undefined'].index\n",
        "df_filtrado.drop(b,  inplace=True, errors='ignore')\n",
        "\n",
        "# No se aplica esto sobre test xq no esta el valor Undefined presente\n",
        "\n",
        "\n",
        "##categorizo las columnas menos populares con el nombre de \"otro\"\n",
        "rooms_mas_populares = df_filtrado['assigned_room_type'].value_counts().index.to_list()[0:8]\n",
        "df_filtrado['assigned_room_type'] =df_filtrado['assigned_room_type'].apply( lambda room: 'otro' if room not in rooms_mas_populares else room)\n",
        "df_filtrado['reserved_room_type'] =df_filtrado['reserved_room_type'].apply( lambda room: 'otro' if room not in rooms_mas_populares else room)\n",
        "\n",
        "# Aca la transformacion aplicada viene del dataset de train\n",
        "df_test['assigned_room_type'] =df_test['assigned_room_type'].apply( lambda room: 'otro' if room not in rooms_mas_populares else room)\n",
        "df_test['reserved_room_type'] =df_test['reserved_room_type'].apply( lambda room: 'otro' if room not in rooms_mas_populares else room)\n",
        "\n",
        "\n",
        "# Elimino las reservas sin personas\n",
        "indices_filas_cero = df_filtrado.loc[(df['children'] == 0) & (df['adults'] == 0) & (df['babies'] == 0)].index\n",
        "df_filtrado = df_filtrado.drop(indices_filas_cero ,errors ='ignore', axis=0)\n",
        "df_filtrado.reset_index()\n",
        "\n",
        "# Outliers adr\n",
        "#Observamos valores negativos que son anomalos\n",
        "outlier_adr = df_filtrado[df_filtrado[\"adr\"]<=0]\n",
        "\n",
        "\n",
        "#ELIMINACION de outlier por indice de fila\n",
        "indice_outlier=df_filtrado[df_filtrado['adr']<=0].index\n",
        "\n",
        "df_filtrado.drop(indice_outlier, inplace=True)\n",
        "\n",
        "#Hago z-score modificado\n",
        "mediana_adr=np.median(df_filtrado.adr)\n",
        "MAD=np.median(np.absolute(df_filtrado.adr-mediana_adr))\n",
        "df_filtrado['zm_adr']=(df_filtrado.adr - mediana_adr )*0.6745/MAD\n",
        "#usando la regla de oro dropeo los que tengan un z-score modificado mayor a 3.5\n",
        "indice_outlier_z = df_filtrado[df_filtrado['zm_adr']>3.5].index\n",
        "print(len(indice_outlier_z))\n",
        "df_filtrado.drop(indice_outlier_z, inplace=True,axis=0)\n",
        "\n",
        "\n",
        "# Outliers para adluts\n",
        "df_copia_adults = df_filtrado.copy()\n",
        "\n",
        "#Hago z-score modificado\n",
        "mediana_adults = np.median(df.adults)\n",
        "MAD = np.median(np.absolute(df_copia_adults.adults - mediana_adults))\n",
        "df_copia_adults['zm_adults'] = (df_copia_adults.adults - mediana_adults ) * 0.6745/MAD\n",
        "indice_outlier_z = df_copia_adults[df_copia_adults['zm_adults'] > 3.5].index\n",
        "print(f\"Cantidad de outliers encontrados con z-score: {len(indice_outlier_z)}\")\n",
        "df_filtrado.drop(indice_outlier_z, inplace=True,axis=0)\n",
        "\n",
        "\n",
        "# Outliers para babys\n",
        "df_copia_babies = df_filtrado.copy()\n",
        "#Hago z-score modificado\n",
        "mediana_babies = np.median(df.babies)\n",
        "MAD = np.median(np.absolute(df_copia_babies.babies - mediana_babies))\n",
        "df_copia_babies['zm_babies'] = (df_copia_babies.babies - mediana_babies ) * 0.6745/MAD\n",
        "indice_outlier_z = df_copia_babies[df_copia_babies['zm_babies'] > 3.5].index\n",
        "print(f\"Cantidad de outliers encontrados con z-score: {len(indice_outlier_z)}\")\n",
        "\n",
        "df_filtrado.drop(indice_outlier_z, inplace=True,axis=0)\n",
        "\n",
        "\n",
        "# Outilers para days_in_waiting_list\n",
        "#Hago z-score\n",
        "df_diwl = df_filtrado.copy()\n",
        "df_diwl['z_diwl'] = st.zscore(df_diwl['days_in_waiting_list'])\n",
        "indices = df_diwl[df_diwl['z_diwl'] > 3].index\n",
        "df_fitrado = df_filtrado.drop(indices, axis=0, inplace=True,errors=\"ignore\")\n",
        "\n",
        "\n",
        "#busco outliers para lead_time\n",
        "df_lead = df_filtrado.copy()\n",
        "\n",
        "#Hago z-score modificado\n",
        "mediana_lead = np.median(df.lead_time)\n",
        "MAD = np.median(np.absolute(df.lead_time - mediana_lead))\n",
        "df_lead['zm_lead_time']=(df.lead_time - mediana_lead )*0.6745/MAD\n",
        "#ELIMINACION: usando la regla de oro ELIMINO los que tengan un z-score modificado mayor a 3.5\n",
        "indice_outlier_z = df_lead[df_lead['zm_lead_time']>3.5].index\n",
        "#son 1079 outliers\n",
        "df_filtrado.drop(indice_outlier_z, inplace=True, errors='ignore',axis=0)\n",
        "\n",
        "#\n",
        "df_filtrado.drop('zm_adr', axis=1, inplace=True);"
      ]
    },
    {
      "cell_type": "markdown",
      "metadata": {
        "id": "pV52NsW-Hi_s"
      },
      "source": [
        "##Entrenamiento"
      ]
    },
    {
      "cell_type": "code",
      "execution_count": null,
      "metadata": {
        "id": "J79YG_HMm_pL"
      },
      "outputs": [],
      "source": [
        "from sklearn.ensemble import RandomForestClassifier \n",
        "from sklearn.neighbors import KNeighborsClassifier\n",
        "from sklearn.ensemble import VotingClassifier\n",
        "from sklearn.model_selection import train_test_split\n",
        "from sklearn.metrics import accuracy_score\n",
        "import xgboost as xgb"
      ]
    },
    {
      "cell_type": "code",
      "execution_count": null,
      "metadata": {
        "id": "PjUdDBbnpVoU"
      },
      "outputs": [],
      "source": [
        "ds_trabajo = pd.get_dummies(df_filtrado, columns=[\"hotel\",\"arrival_date_month\",\"deposit_type\",\"reserved_room_type\",\"assigned_room_type\",\"customer_type\",\"meal\",\"market_segment\",\"distribution_channel\",\"agent\",\"country\"], drop_first=True)\n",
        "\n",
        "df_test = pd.get_dummies(df_test, columns=[\"hotel\",\"arrival_date_month\",\"deposit_type\",\"reserved_room_type\",\"assigned_room_type\",\"customer_type\",\"meal\",\"market_segment\",\"distribution_channel\",\"agent\",\"country\"], drop_first=True)"
      ]
    },
    {
      "cell_type": "code",
      "execution_count": null,
      "metadata": {
        "id": "s7z5cI9movyF"
      },
      "outputs": [],
      "source": [
        "#Creo un dataset con los features que voy a usar para clasificar\n",
        "x = ds_trabajo.drop(['is_canceled'], axis='columns', inplace=False)\n",
        "\n",
        "#Creo un dataset con la variable target\n",
        "y = ds_trabajo['is_canceled'].copy()\n",
        "\n",
        "\n",
        "#Separo conjunto de Train y de Test (80/20)\n",
        "x_train, x_test, y_train, y_test = train_test_split(x, y, test_size=0.20, random_state=0)"
      ]
    },
    {
      "cell_type": "code",
      "execution_count": null,
      "metadata": {
        "colab": {
          "base_uri": "https://localhost:8080/"
        },
        "id": "wU6_H6FLnNzL",
        "outputId": "09c0f4b6-92cd-45de-f5b5-628919389c84"
      },
      "outputs": [
        {
          "data": {
            "text/plain": [
              "0.8775696665143902"
            ]
          },
          "execution_count": 148,
          "metadata": {},
          "output_type": "execute_result"
        }
      ],
      "source": [
        "### CASO VOTING\n",
        "#Creo clasificadores\n",
        "\n",
        "xgb_clf = xgb.XGBClassifier(objective='reg:logistic',max_depth=8,learning_rate=0.3, n_estimators= 93)\n",
        "rnd_clf = RandomForestClassifier(max_features='auto', oob_score=True, random_state=3, n_jobs=-1, n_estimators=34, min_samples_split=7,min_samples_leaf=1,criterion='entropy')\n",
        "knn_clf = KNeighborsClassifier(weights='distance',n_neighbors= 19, metric= 'manhattan', algorithm='brute')\n",
        "\n",
        "\n",
        "\n",
        "#Creo ensemble de Votación\n",
        "vot_clf = VotingClassifier(estimators = [('xgb', xgb_clf), ('rnd', rnd_clf), ('knn', knn_clf)], voting = 'hard')\n",
        "\n",
        "#Armo conjunto entrenamiento y test 80-20\n",
        "x_train, x_test, y_train, y_test = train_test_split(x, y, random_state = 42, train_size = 0.80)\n",
        "\n",
        "\n",
        "#Entreno el ensemble\n",
        "vot_clf.fit(x_train, y_train)\n",
        "\n",
        "#Evaluo en conjunto de test\n",
        "pred = vot_clf.predict(x_test)\n",
        "accuracy_score(y_test, pred)"
      ]
    },
    {
      "cell_type": "code",
      "execution_count": null,
      "metadata": {
        "colab": {
          "base_uri": "https://localhost:8080/",
          "height": 670
        },
        "id": "5K6UWtAnUdEt",
        "outputId": "1c5f2abc-bcda-4d8c-8544-91b8b1ff4031"
      },
      "outputs": [
        {
          "name": "stdout",
          "output_type": "stream",
          "text": [
            "              precision    recall  f1-score   support\n",
            "\n",
            "           0       0.88      0.87      0.88      5537\n",
            "           1       0.87      0.88      0.88      5408\n",
            "\n",
            "    accuracy                           0.88     10945\n",
            "   macro avg       0.88      0.88      0.88     10945\n",
            "weighted avg       0.88      0.88      0.88     10945\n",
            "\n"
          ]
        },
        {
          "data": {
            "text/plain": [
              "Text(50.722222222222214, 0.5, 'True')"
            ]
          },
          "execution_count": 72,
          "metadata": {},
          "output_type": "execute_result"
        },
        {
          "data": {
            "image/png": "[encoded data removed]",
            "text/plain": [
              "<Figure size 640x480 with 2 Axes>"
            ]
          },
          "metadata": {},
          "output_type": "display_data"
        }
      ],
      "source": [
        "from sklearn.metrics import confusion_matrix,classification_report\n",
        "\n",
        "#Reporte de Clasificación\n",
        "print(classification_report(y_test,pred))\n",
        "\n",
        "#Matriz de Confusión\n",
        "cm = confusion_matrix(y_test,pred)\n",
        "sns.heatmap(cm, cmap='Blues',annot=True,fmt='g')\n",
        "plt.xlabel('Predicted')\n",
        "plt.ylabel('True')"
      ]
    },
    {
      "cell_type": "code",
      "execution_count": null,
      "metadata": {
        "id": "LLZ4FVi29pyZ"
      },
      "outputs": [],
      "source": [
        "##CASO STACKING\n",
        "from sklearn.ensemble import StackingClassifier\n",
        "\n",
        "#Modelos Base\n",
        "base_models = [('random_forest', RandomForestClassifier(max_features='auto', oob_score=True, random_state=3, n_jobs=-1, n_estimators=34, min_samples_split=7,min_samples_leaf=1,criterion='entropy')),\n",
        "               #('svm', SVC()),\n",
        "               ('knn', KNeighborsClassifier(weights='distance',n_neighbors= 19, metric= 'manhattan', algorithm='brute'))]\n",
        "\n",
        "#Meta Modelo\n",
        "meta_model = xgb.XGBClassifier(objective='reg:logistic',max_depth=8,learning_rate=0.3, n_estimators= 93)\n",
        "\n",
        "#Ensemble Stacking\n",
        "stacking_model = StackingClassifier(estimators=base_models, \n",
        "                                    final_estimator=meta_model, \n",
        "                                    passthrough=True, \n",
        "                                    cv=5,\n",
        "                                    verbose=2)"
      ]
    },
    {
      "cell_type": "code",
      "execution_count": null,
      "metadata": {
        "colab": {
          "base_uri": "https://localhost:8080/"
        },
        "id": "SuM0kjkNAyoX",
        "outputId": "9b3b0f5a-9300-4944-87f1-a5fa285815c0"
      },
      "outputs": [
        {
          "name": "stderr",
          "output_type": "stream",
          "text": [
            "[Parallel(n_jobs=1)]: Using backend SequentialBackend with 1 concurrent workers.\n",
            "[Parallel(n_jobs=1)]: Done   1 out of   1 | elapsed:    2.7s remaining:    0.0s\n",
            "[Parallel(n_jobs=1)]: Done   5 out of   5 | elapsed:   12.1s finished\n",
            "[Parallel(n_jobs=1)]: Using backend SequentialBackend with 1 concurrent workers.\n",
            "[Parallel(n_jobs=1)]: Done   1 out of   1 | elapsed:   46.0s remaining:    0.0s\n",
            "[Parallel(n_jobs=1)]: Done   5 out of   5 | elapsed:  3.8min finished\n"
          ]
        },
        {
          "data": {
            "text/plain": [
              "0.877843764275925"
            ]
          },
          "execution_count": 150,
          "metadata": {},
          "output_type": "execute_result"
        }
      ],
      "source": [
        "stacking_model.fit(x_train,y_train)\n",
        "y_pred_st = stacking_model.predict(x_test)\n",
        "accuracy_score(y_test, y_pred_st)"
      ]
    },
    {
      "cell_type": "code",
      "execution_count": null,
      "metadata": {
        "colab": {
          "base_uri": "https://localhost:8080/",
          "height": 670
        },
        "id": "4troib88Uml0",
        "outputId": "19d3a456-9fc1-41a8-d285-a4cf0d4e8a57"
      },
      "outputs": [
        {
          "name": "stdout",
          "output_type": "stream",
          "text": [
            "              precision    recall  f1-score   support\n",
            "\n",
            "           0       0.88      0.87      0.88      5537\n",
            "           1       0.87      0.88      0.88      5408\n",
            "\n",
            "    accuracy                           0.88     10945\n",
            "   macro avg       0.88      0.88      0.88     10945\n",
            "weighted avg       0.88      0.88      0.88     10945\n",
            "\n"
          ]
        },
        {
          "data": {
            "text/plain": [
              "Text(50.722222222222214, 0.5, 'True')"
            ]
          },
          "execution_count": 75,
          "metadata": {},
          "output_type": "execute_result"
        },
        {
          "data": {
            "image/png": "[encoded data removed]",
            "text/plain": [
              "<Figure size 640x480 with 2 Axes>"
            ]
          },
          "metadata": {},
          "output_type": "display_data"
        }
      ],
      "source": [
        "from sklearn.metrics import confusion_matrix,classification_report\n",
        "\n",
        "#Reporte de Clasificación\n",
        "print(classification_report(y_test,y_pred_st))\n",
        "\n",
        "#Matriz de Confusión\n",
        "cm = confusion_matrix(y_test,y_pred_st)\n",
        "sns.heatmap(cm, cmap='Blues',annot=True,fmt='g')\n",
        "plt.xlabel('Predicted')\n",
        "plt.ylabel('True')"
      ]
    },
    {
      "cell_type": "markdown",
      "metadata": {
        "id": "CWW_TTz8JyLa"
      },
      "source": [
        "##Prediccion"
      ]
    },
    {
      "cell_type": "code",
      "execution_count": null,
      "metadata": {
        "id": "J91KFCSGJ0p6"
      },
      "outputs": [],
      "source": [
        "### CASO VOTING\n",
        "y_predic =  vot_clf.predict(df_test)"
      ]
    },
    {
      "cell_type": "code",
      "execution_count": null,
      "metadata": {
        "colab": {
          "base_uri": "https://localhost:8080/",
          "height": 534
        },
        "id": "4iqMNFSpOdwA",
        "outputId": "687ea719-bdbf-4d95-fc49-163fd547cd02"
      },
      "outputs": [
        {
          "data": {
            "text/html": [
              "\n",
              "  <div id=\"df-2870624a-5b69-478f-b19e-64636349a145\">\n",
              "    <div class=\"colab-df-container\">\n",
              "      <div>\n",
              "<style scoped>\n",
              "    .dataframe tbody tr th:only-of-type {\n",
              "        vertical-align: middle;\n",
              "    }\n",
              "\n",
              "    .dataframe tbody tr th {\n",
              "        vertical-align: top;\n",
              "    }\n",
              "\n",
              "    .dataframe thead th {\n",
              "        text-align: right;\n",
              "    }\n",
              "</style>\n",
              "<table border=\"1\" class=\"dataframe\">\n",
              "  <thead>\n",
              "    <tr style=\"text-align: right;\">\n",
              "      <th></th>\n",
              "      <th>id</th>\n",
              "      <th>is_canceled</th>\n",
              "    </tr>\n",
              "  </thead>\n",
              "  <tbody>\n",
              "    <tr>\n",
              "      <th>0</th>\n",
              "      <td>e6d0d58a-ab96-44d3-b28f-85df1cc15f1e</td>\n",
              "      <td>1</td>\n",
              "    </tr>\n",
              "    <tr>\n",
              "      <th>1</th>\n",
              "      <td>aba9aac2-4495-4645-a60e-90328713c999</td>\n",
              "      <td>1</td>\n",
              "    </tr>\n",
              "    <tr>\n",
              "      <th>2</th>\n",
              "      <td>b345b5dc-c804-4d77-a39f-1f4e65d1f1ad</td>\n",
              "      <td>0</td>\n",
              "    </tr>\n",
              "    <tr>\n",
              "      <th>3</th>\n",
              "      <td>ce1b400e-afa1-4946-bdff-004b859eb61c</td>\n",
              "      <td>1</td>\n",
              "    </tr>\n",
              "    <tr>\n",
              "      <th>4</th>\n",
              "      <td>c4fbec0d-8e2e-4db2-9d4f-a6ccb9f51214</td>\n",
              "      <td>1</td>\n",
              "    </tr>\n",
              "    <tr>\n",
              "      <th>...</th>\n",
              "      <td>...</td>\n",
              "      <td>...</td>\n",
              "    </tr>\n",
              "    <tr>\n",
              "      <th>26530</th>\n",
              "      <td>636ccded-66ad-4538-8006-c0b9f84c6256</td>\n",
              "      <td>0</td>\n",
              "    </tr>\n",
              "    <tr>\n",
              "      <th>26531</th>\n",
              "      <td>11e19741-bd28-4459-8ea3-184f1664000f</td>\n",
              "      <td>0</td>\n",
              "    </tr>\n",
              "    <tr>\n",
              "      <th>26532</th>\n",
              "      <td>36a4c7b0-d6b1-4528-93db-311be96ec1c6</td>\n",
              "      <td>1</td>\n",
              "    </tr>\n",
              "    <tr>\n",
              "      <th>26533</th>\n",
              "      <td>89c85fa5-2b3d-4131-844c-e151a65ca240</td>\n",
              "      <td>1</td>\n",
              "    </tr>\n",
              "    <tr>\n",
              "      <th>26534</th>\n",
              "      <td>bd4e9eee-f28e-4a53-b4a1-277426efbcee</td>\n",
              "      <td>0</td>\n",
              "    </tr>\n",
              "  </tbody>\n",
              "</table>\n",
              "<p>26535 rows × 2 columns</p>\n",
              "</div>\n",
              "      <button class=\"colab-df-convert\" onclick=\"convertToInteractive('df-2870624a-5b69-478f-b19e-64636349a145')\"\n",
              "              title=\"Convert this dataframe to an interactive table.\"\n",
              "              style=\"display:none;\">\n",
              "        \n",
              "  <svg xmlns=\"http://www.w3.org/2000/svg\" height=\"24px\"viewBox=\"0 0 24 24\"\n",
              "       width=\"24px\">\n",
              "    <path d=\"M0 0h24v24H0V0z\" fill=\"none\"/>\n",
              "    <path d=\"M18.56 5.44l.94 2.06.94-2.06 2.06-.94-2.06-.94-.94-2.06-.94 2.06-2.06.94zm-11 1L8.5 8.5l.94-2.06 2.06-.94-2.06-.94L8.5 2.5l-.94 2.06-2.06.94zm10 10l.94 2.06.94-2.06 2.06-.94-2.06-.94-.94-2.06-.94 2.06-2.06.94z\"/><path d=\"M17.41 7.96l-1.37-1.37c-.4-.4-.92-.59-1.43-.59-.52 0-1.04.2-1.43.59L10.3 9.45l-7.72 7.72c-.78.78-.78 2.05 0 2.83L4 21.41c.39.39.9.59 1.41.59.51 0 1.02-.2 1.41-.59l7.78-7.78 2.81-2.81c.8-.78.8-2.07 0-2.86zM5.41 20L4 18.59l7.72-7.72 1.47 1.35L5.41 20z\"/>\n",
              "  </svg>\n",
              "      </button>\n",
              "      \n",
              "  <style>\n",
              "    .colab-df-container {\n",
              "      display:flex;\n",
              "      flex-wrap:wrap;\n",
              "      gap: 12px;\n",
              "    }\n",
              "\n",
              "    .colab-df-convert {\n",
              "      background-color: #E8F0FE;\n",
              "      border: none;\n",
              "      border-radius: 50%;\n",
              "      cursor: pointer;\n",
              "      display: none;\n",
              "      fill: #1967D2;\n",
              "      height: 32px;\n",
              "      padding: 0 0 0 0;\n",
              "      width: 32px;\n",
              "    }\n",
              "\n",
              "    .colab-df-convert:hover {\n",
              "      background-color: #E2EBFA;\n",
              "      box-shadow: 0px 1px 2px rgba(60, 64, 67, 0.3), 0px 1px 3px 1px rgba(60, 64, 67, 0.15);\n",
              "      fill: #174EA6;\n",
              "    }\n",
              "\n",
              "    [theme=dark] .colab-df-convert {\n",
              "      background-color: #3B4455;\n",
              "      fill: #D2E3FC;\n",
              "    }\n",
              "\n",
              "    [theme=dark] .colab-df-convert:hover {\n",
              "      background-color: #434B5C;\n",
              "      box-shadow: 0px 1px 3px 1px rgba(0, 0, 0, 0.15);\n",
              "      filter: drop-shadow(0px 1px 2px rgba(0, 0, 0, 0.3));\n",
              "      fill: #FFFFFF;\n",
              "    }\n",
              "  </style>\n",
              "\n",
              "      <script>\n",
              "        const buttonEl =\n",
              "          document.querySelector('#df-2870624a-5b69-478f-b19e-64636349a145 button.colab-df-convert');\n",
              "        buttonEl.style.display =\n",
              "          google.colab.kernel.accessAllowed ? 'block' : 'none';\n",
              "\n",
              "        async function convertToInteractive(key) {\n",
              "          const element = document.querySelector('#df-2870624a-5b69-478f-b19e-64636349a145');\n",
              "          const dataTable =\n",
              "            await google.colab.kernel.invokeFunction('convertToInteractive',\n",
              "                                                     [key], {});\n",
              "          if (!dataTable) return;\n",
              "\n",
              "          const docLinkHtml = 'Like what you see? Visit the ' +\n",
              "            '<a target=\"_blank\" href=https://colab.research.google.com/notebooks/data_table.ipynb>data table notebook</a>'\n",
              "            + ' to learn more about interactive tables.';\n",
              "          element.innerHTML = '';\n",
              "          dataTable['output_type'] = 'display_data';\n",
              "          await google.colab.output.renderOutput(dataTable, element);\n",
              "          const docLink = document.createElement('div');\n",
              "          docLink.innerHTML = docLinkHtml;\n",
              "          element.appendChild(docLink);\n",
              "        }\n",
              "      </script>\n",
              "    </div>\n",
              "  </div>\n",
              "  "
            ],
            "text/plain": [
              "                                         id  is_canceled\n",
              "0      e6d0d58a-ab96-44d3-b28f-85df1cc15f1e            1\n",
              "1      aba9aac2-4495-4645-a60e-90328713c999            1\n",
              "2      b345b5dc-c804-4d77-a39f-1f4e65d1f1ad            0\n",
              "3      ce1b400e-afa1-4946-bdff-004b859eb61c            1\n",
              "4      c4fbec0d-8e2e-4db2-9d4f-a6ccb9f51214            1\n",
              "...                                     ...          ...\n",
              "26530  636ccded-66ad-4538-8006-c0b9f84c6256            0\n",
              "26531  11e19741-bd28-4459-8ea3-184f1664000f            0\n",
              "26532  36a4c7b0-d6b1-4528-93db-311be96ec1c6            1\n",
              "26533  89c85fa5-2b3d-4131-844c-e151a65ca240            1\n",
              "26534  bd4e9eee-f28e-4a53-b4a1-277426efbcee            0\n",
              "\n",
              "[26535 rows x 2 columns]"
            ]
          },
          "execution_count": 77,
          "metadata": {},
          "output_type": "execute_result"
        }
      ],
      "source": [
        "submit =  pd.DataFrame(zip(test_id,y_predic),columns=['id','is_canceled'])\n",
        "submit"
      ]
    },
    {
      "cell_type": "code",
      "execution_count": null,
      "metadata": {
        "id": "69lSTDuaPFiv"
      },
      "outputs": [],
      "source": [
        "submit.to_csv('./voting_submit.csv',index=False)  "
      ]
    },
    {
      "cell_type": "code",
      "execution_count": null,
      "metadata": {
        "id": "7JXFEGbcPQRn"
      },
      "outputs": [],
      "source": [
        "###CASO STACKING\n",
        "y_predic =  stacking_model.predict(df_test)"
      ]
    },
    {
      "cell_type": "code",
      "execution_count": null,
      "metadata": {
        "colab": {
          "base_uri": "https://localhost:8080/",
          "height": 534
        },
        "id": "7TK15yfpP6I_",
        "outputId": "4d78d380-9f42-4e6c-e374-e23b86b09bd4"
      },
      "outputs": [
        {
          "data": {
            "text/html": [
              "\n",
              "  <div id=\"df-8ed1f3a2-0360-4a95-9098-339f84e88400\">\n",
              "    <div class=\"colab-df-container\">\n",
              "      <div>\n",
              "<style scoped>\n",
              "    .dataframe tbody tr th:only-of-type {\n",
              "        vertical-align: middle;\n",
              "    }\n",
              "\n",
              "    .dataframe tbody tr th {\n",
              "        vertical-align: top;\n",
              "    }\n",
              "\n",
              "    .dataframe thead th {\n",
              "        text-align: right;\n",
              "    }\n",
              "</style>\n",
              "<table border=\"1\" class=\"dataframe\">\n",
              "  <thead>\n",
              "    <tr style=\"text-align: right;\">\n",
              "      <th></th>\n",
              "      <th>id</th>\n",
              "      <th>is_canceled</th>\n",
              "    </tr>\n",
              "  </thead>\n",
              "  <tbody>\n",
              "    <tr>\n",
              "      <th>0</th>\n",
              "      <td>e6d0d58a-ab96-44d3-b28f-85df1cc15f1e</td>\n",
              "      <td>1</td>\n",
              "    </tr>\n",
              "    <tr>\n",
              "      <th>1</th>\n",
              "      <td>aba9aac2-4495-4645-a60e-90328713c999</td>\n",
              "      <td>1</td>\n",
              "    </tr>\n",
              "    <tr>\n",
              "      <th>2</th>\n",
              "      <td>b345b5dc-c804-4d77-a39f-1f4e65d1f1ad</td>\n",
              "      <td>0</td>\n",
              "    </tr>\n",
              "    <tr>\n",
              "      <th>3</th>\n",
              "      <td>ce1b400e-afa1-4946-bdff-004b859eb61c</td>\n",
              "      <td>1</td>\n",
              "    </tr>\n",
              "    <tr>\n",
              "      <th>4</th>\n",
              "      <td>c4fbec0d-8e2e-4db2-9d4f-a6ccb9f51214</td>\n",
              "      <td>1</td>\n",
              "    </tr>\n",
              "    <tr>\n",
              "      <th>...</th>\n",
              "      <td>...</td>\n",
              "      <td>...</td>\n",
              "    </tr>\n",
              "    <tr>\n",
              "      <th>26530</th>\n",
              "      <td>636ccded-66ad-4538-8006-c0b9f84c6256</td>\n",
              "      <td>0</td>\n",
              "    </tr>\n",
              "    <tr>\n",
              "      <th>26531</th>\n",
              "      <td>11e19741-bd28-4459-8ea3-184f1664000f</td>\n",
              "      <td>0</td>\n",
              "    </tr>\n",
              "    <tr>\n",
              "      <th>26532</th>\n",
              "      <td>36a4c7b0-d6b1-4528-93db-311be96ec1c6</td>\n",
              "      <td>1</td>\n",
              "    </tr>\n",
              "    <tr>\n",
              "      <th>26533</th>\n",
              "      <td>89c85fa5-2b3d-4131-844c-e151a65ca240</td>\n",
              "      <td>1</td>\n",
              "    </tr>\n",
              "    <tr>\n",
              "      <th>26534</th>\n",
              "      <td>bd4e9eee-f28e-4a53-b4a1-277426efbcee</td>\n",
              "      <td>0</td>\n",
              "    </tr>\n",
              "  </tbody>\n",
              "</table>\n",
              "<p>26535 rows × 2 columns</p>\n",
              "</div>\n",
              "      <button class=\"colab-df-convert\" onclick=\"convertToInteractive('df-8ed1f3a2-0360-4a95-9098-339f84e88400')\"\n",
              "              title=\"Convert this dataframe to an interactive table.\"\n",
              "              style=\"display:none;\">\n",
              "        \n",
              "  <svg xmlns=\"http://www.w3.org/2000/svg\" height=\"24px\"viewBox=\"0 0 24 24\"\n",
              "       width=\"24px\">\n",
              "    <path d=\"M0 0h24v24H0V0z\" fill=\"none\"/>\n",
              "    <path d=\"M18.56 5.44l.94 2.06.94-2.06 2.06-.94-2.06-.94-.94-2.06-.94 2.06-2.06.94zm-11 1L8.5 8.5l.94-2.06 2.06-.94-2.06-.94L8.5 2.5l-.94 2.06-2.06.94zm10 10l.94 2.06.94-2.06 2.06-.94-2.06-.94-.94-2.06-.94 2.06-2.06.94z\"/><path d=\"M17.41 7.96l-1.37-1.37c-.4-.4-.92-.59-1.43-.59-.52 0-1.04.2-1.43.59L10.3 9.45l-7.72 7.72c-.78.78-.78 2.05 0 2.83L4 21.41c.39.39.9.59 1.41.59.51 0 1.02-.2 1.41-.59l7.78-7.78 2.81-2.81c.8-.78.8-2.07 0-2.86zM5.41 20L4 18.59l7.72-7.72 1.47 1.35L5.41 20z\"/>\n",
              "  </svg>\n",
              "      </button>\n",
              "      \n",
              "  <style>\n",
              "    .colab-df-container {\n",
              "      display:flex;\n",
              "      flex-wrap:wrap;\n",
              "      gap: 12px;\n",
              "    }\n",
              "\n",
              "    .colab-df-convert {\n",
              "      background-color: #E8F0FE;\n",
              "      border: none;\n",
              "      border-radius: 50%;\n",
              "      cursor: pointer;\n",
              "      display: none;\n",
              "      fill: #1967D2;\n",
              "      height: 32px;\n",
              "      padding: 0 0 0 0;\n",
              "      width: 32px;\n",
              "    }\n",
              "\n",
              "    .colab-df-convert:hover {\n",
              "      background-color: #E2EBFA;\n",
              "      box-shadow: 0px 1px 2px rgba(60, 64, 67, 0.3), 0px 1px 3px 1px rgba(60, 64, 67, 0.15);\n",
              "      fill: #174EA6;\n",
              "    }\n",
              "\n",
              "    [theme=dark] .colab-df-convert {\n",
              "      background-color: #3B4455;\n",
              "      fill: #D2E3FC;\n",
              "    }\n",
              "\n",
              "    [theme=dark] .colab-df-convert:hover {\n",
              "      background-color: #434B5C;\n",
              "      box-shadow: 0px 1px 3px 1px rgba(0, 0, 0, 0.15);\n",
              "      filter: drop-shadow(0px 1px 2px rgba(0, 0, 0, 0.3));\n",
              "      fill: #FFFFFF;\n",
              "    }\n",
              "  </style>\n",
              "\n",
              "      <script>\n",
              "        const buttonEl =\n",
              "          document.querySelector('#df-8ed1f3a2-0360-4a95-9098-339f84e88400 button.colab-df-convert');\n",
              "        buttonEl.style.display =\n",
              "          google.colab.kernel.accessAllowed ? 'block' : 'none';\n",
              "\n",
              "        async function convertToInteractive(key) {\n",
              "          const element = document.querySelector('#df-8ed1f3a2-0360-4a95-9098-339f84e88400');\n",
              "          const dataTable =\n",
              "            await google.colab.kernel.invokeFunction('convertToInteractive',\n",
              "                                                     [key], {});\n",
              "          if (!dataTable) return;\n",
              "\n",
              "          const docLinkHtml = 'Like what you see? Visit the ' +\n",
              "            '<a target=\"_blank\" href=https://colab.research.google.com/notebooks/data_table.ipynb>data table notebook</a>'\n",
              "            + ' to learn more about interactive tables.';\n",
              "          element.innerHTML = '';\n",
              "          dataTable['output_type'] = 'display_data';\n",
              "          await google.colab.output.renderOutput(dataTable, element);\n",
              "          const docLink = document.createElement('div');\n",
              "          docLink.innerHTML = docLinkHtml;\n",
              "          element.appendChild(docLink);\n",
              "        }\n",
              "      </script>\n",
              "    </div>\n",
              "  </div>\n",
              "  "
            ],
            "text/plain": [
              "                                         id  is_canceled\n",
              "0      e6d0d58a-ab96-44d3-b28f-85df1cc15f1e            1\n",
              "1      aba9aac2-4495-4645-a60e-90328713c999            1\n",
              "2      b345b5dc-c804-4d77-a39f-1f4e65d1f1ad            0\n",
              "3      ce1b400e-afa1-4946-bdff-004b859eb61c            1\n",
              "4      c4fbec0d-8e2e-4db2-9d4f-a6ccb9f51214            1\n",
              "...                                     ...          ...\n",
              "26530  636ccded-66ad-4538-8006-c0b9f84c6256            0\n",
              "26531  11e19741-bd28-4459-8ea3-184f1664000f            0\n",
              "26532  36a4c7b0-d6b1-4528-93db-311be96ec1c6            1\n",
              "26533  89c85fa5-2b3d-4131-844c-e151a65ca240            1\n",
              "26534  bd4e9eee-f28e-4a53-b4a1-277426efbcee            0\n",
              "\n",
              "[26535 rows x 2 columns]"
            ]
          },
          "execution_count": 80,
          "metadata": {},
          "output_type": "execute_result"
        }
      ],
      "source": [
        "submit =  pd.DataFrame(zip(test_id,y_predic),columns=['id','is_canceled'])\n",
        "submit"
      ]
    },
    {
      "cell_type": "code",
      "execution_count": null,
      "metadata": {
        "id": "CBkVAsWARKv2"
      },
      "outputs": [],
      "source": [
        "submit.to_csv('./stacking_submit.csv',index=False)  "
      ]
    },
    {
      "cell_type": "markdown",
      "metadata": {
        "id": "AVZt3WR5Z6bT"
      },
      "source": [
        "##Preparando modelo\n"
      ]
    },
    {
      "cell_type": "code",
      "execution_count": null,
      "metadata": {
        "colab": {
          "base_uri": "https://localhost:8080/"
        },
        "id": "z-SfCdihZ8v6",
        "outputId": "ca488cdd-bb95-4179-d744-822520b99cd8"
      },
      "outputs": [
        {
          "data": {
            "text/plain": [
              "array([1, 1, 0, ..., 1, 1, 0])"
            ]
          },
          "execution_count": 151,
          "metadata": {},
          "output_type": "execute_result"
        }
      ],
      "source": [
        "###CASO VOTING\n",
        "from joblib import dump\n",
        "dump(vot_clf, 'voting.joblib') \n",
        "\n",
        "from joblib import load\n",
        "voting = load('voting.joblib')\n",
        "voting.predict(df_test) "
      ]
    },
    {
      "cell_type": "code",
      "execution_count": null,
      "metadata": {
        "colab": {
          "base_uri": "https://localhost:8080/"
        },
        "id": "fVEKyIPQZ-9i",
        "outputId": "6f235ab4-3357-4f96-b92d-ecb565252e33"
      },
      "outputs": [
        {
          "data": {
            "text/plain": [
              "array([1, 1, 0, ..., 1, 1, 0])"
            ]
          },
          "execution_count": 152,
          "metadata": {},
          "output_type": "execute_result"
        }
      ],
      "source": [
        "###CASO STACKING\n",
        "from joblib import dump\n",
        "dump(stacking_model, 'stacking.joblib') \n",
        "\n",
        "from joblib import load\n",
        "stacking = load('stacking.joblib')\n",
        "stacking.predict(df_test) "
      ]
    }
  ],
  "metadata": {
    "colab": {
      "collapsed_sections": [
        "W8i9f0u6XMG5",
        "-VbpoVRyZUPV",
        "HGGOtENl87Q1",
        "iFtNq8E-Fr6n",
        "FgCCYkVitCHV",
        "asu3YXvStQSk"
      ],
      "provenance": []
    },
    "kernelspec": {
      "display_name": "Python 3",
      "name": "python3"
    },
    "language_info": {
      "name": "python"
    }
  },
  "nbformat": 4,
  "nbformat_minor": 0
}
