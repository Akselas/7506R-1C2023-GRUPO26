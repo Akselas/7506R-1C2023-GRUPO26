{
  "nbformat": 4,
  "nbformat_minor": 0,
  "metadata": {
    "colab": {
      "provenance": []
    },
    "kernelspec": {
      "name": "python3",
      "display_name": "Python 3"
    },
    "language_info": {
      "name": "python"
    }
  },
  "cells": [
    {
      "cell_type": "markdown",
      "source": [
        "#Preprocesamiento\n"
      ],
      "metadata": {
        "id": "dM03Ud2g2xVP"
      }
    },
    {
      "cell_type": "code",
      "source": [
        "#Datos\n",
        "import numpy as np\n",
        "import pandas as pd\n",
        "import math\n",
        "#Plots\n",
        "import matplotlib.pyplot as plt\n",
        "import seaborn as sns\n",
        "\n",
        "# Outliers\n",
        "import scipy.stats as st\n",
        "\n",
        "#Modelado\n",
        "from sklearn.model_selection import train_test_split\n",
        "from sklearn.neighbors import KNeighborsClassifier\n",
        "from sklearn.metrics import accuracy_score\n",
        "\n",
        "# Cargo el data set\n",
        "direc = \"https://raw.githubusercontent.com/Akselas/7506R-1C2023-GRUPO26/main/hotels_train.csv\"\n",
        "direc_test = \"https://raw.githubusercontent.com/Akselas/7506R-1C2023-GRUPO26/main/hotels_test.csv\"\n",
        "df_test = pd.read_csv(direc_test)\n",
        "df = pd.read_csv(direc)\n",
        "df_filtrado  = df.copy()"
      ],
      "metadata": {
        "id": "k8Esu93O22lm"
      },
      "execution_count": null,
      "outputs": []
    },
    {
      "cell_type": "code",
      "source": [
        "# Limpieza del dataset\n",
        "\n",
        "# Eliminamos columnas para train\n",
        "df_filtrado = df_filtrado.drop('id', axis=1)\n",
        "df_filtrado = df_filtrado.drop(\"reservation_status\", axis=1)\n",
        "df_filtrado = df_filtrado.drop(\"reservation_status_date\", axis=1)\n",
        "df_filtrado = df_filtrado.drop(\"company\", axis=1)\n",
        "\n",
        "# Eliminamos columnas para test\n",
        "test_id = df_test.id.copy()\n",
        "df_test = df_test.drop('id', axis=1)\n",
        "df_test = df_test.drop(\"reservation_status\", axis=1)\n",
        "df_test = df_test.drop(\"reservation_status_date\", axis=1)\n",
        "df_test = df_test.drop(\"company\", axis=1)\n",
        "\n",
        "# Se reemplazan los valores nulos por 0 en agents\n",
        "df_filtrado['agent'] = df_filtrado['agent'].fillna(0)\n",
        "df_filtrado['agent'] = df_filtrado['agent'].astype(str)\n",
        "\n",
        "df_test['agent'] = df_test['agent'].fillna(0)\n",
        "df_test['agent'] = df_test['agent'].astype(str)\n",
        "\n",
        "\n",
        "#Categorizo los agentes menos populares(no incluyo los agentes 0)\n",
        "agentes_populares = df_filtrado['agent'].value_counts().index.to_list()[0:14]\n",
        "def es_agente_popular(agent):\n",
        "  if agent in agentes_populares:\n",
        "    return agent\n",
        "  elif agent == 0:\n",
        "    return agent\n",
        "  else:\n",
        "    return 'otro'\n",
        "\n",
        "df_filtrado['agent'] = df_filtrado['agent'].apply(es_agente_popular )\n",
        "\n",
        "# Aca la transformacion aplicada viene del dataset de train\n",
        "df_test['agent'] = df_test['agent'].apply(es_agente_popular )\n",
        "\n",
        "\n",
        "# Reemplazamos todas las aparaiciones de paises con pocas apariciones en un pais \"otro\"\n",
        "paises = df_filtrado['country'].value_counts()\n",
        "paises_atipicos = paises[ paises <=100].index.to_list()\n",
        "def es_pais_atipico(pais):\n",
        "  if pais in paises_atipicos or pd.isna(pais) :\n",
        "    return 'otro'\n",
        "  else:\n",
        "    return pais\n",
        "\n",
        "# Aca la transformacion aplicada viene del dataset de train\n",
        "df_filtrado['country'] = df_filtrado['country'].apply( es_pais_atipico)\n",
        "\n",
        "df_test['country'] = df_test['country'].apply(es_pais_atipico)\n",
        "\n",
        "\n",
        "# Esta funcion es solo para test, a todos los paises que no estan en train los categoriza como otro\n",
        "paises_tipicos = paises[ paises > 100].index.to_list()\n",
        "def pertenece_a_pais_de_train(pais):\n",
        "  if pais in paises_atipicos or pais not in paises_tipicos or pd.isna(pais) :\n",
        "    return 'otro'\n",
        "  else:\n",
        "    return pais\n",
        "df_test['country'] = df_test['country'].apply(pertenece_a_pais_de_train)\n",
        "\n",
        "\n",
        "\n",
        "\n",
        "#caso de datos nulos en children\n",
        "#le agrego el valor que mas predomina, que es 0\n",
        "df_filtrado['children'] = df_filtrado['children'].apply(lambda child: 0 if pd.isna(child) else child)\n",
        "df_test['children'] = df_test['children'].apply(lambda child: 0 if pd.isna(child) else child)\n",
        "\n",
        "\n",
        "#caso market segment y distribution channel\n",
        "a = df_filtrado[df_filtrado['market_segment'] == 'Undefined'].index\n",
        "df_filtrado.drop(a,  inplace=True, errors='ignore')\n",
        "\n",
        "b = df_filtrado[df_filtrado['distribution_channel'] == 'Undefined'].index\n",
        "df_filtrado.drop(b,  inplace=True, errors='ignore')\n",
        "\n",
        "# No se aplica esto sobre test xq no esta el valor Undefined presente\n",
        "\n",
        "\n",
        "##categorizo las columnas menos populares con el nombre de \"otro\"\n",
        "rooms_mas_populares = df_filtrado['assigned_room_type'].value_counts().index.to_list()[0:8]\n",
        "df_filtrado['assigned_room_type'] =df_filtrado['assigned_room_type'].apply( lambda room: 'otro' if room not in rooms_mas_populares else room)\n",
        "df_filtrado['reserved_room_type'] =df_filtrado['reserved_room_type'].apply( lambda room: 'otro' if room not in rooms_mas_populares else room)\n",
        "\n",
        "# Aca la transformacion aplicada viene del dataset de train\n",
        "df_test['assigned_room_type'] =df_test['assigned_room_type'].apply( lambda room: 'otro' if room not in rooms_mas_populares else room)\n",
        "df_test['reserved_room_type'] =df_test['reserved_room_type'].apply( lambda room: 'otro' if room not in rooms_mas_populares else room)\n",
        "\n",
        "\n",
        "# Elimino las reservas sin personas\n",
        "indices_filas_cero = df_filtrado.loc[(df['children'] == 0) & (df['adults'] == 0) & (df['babies'] == 0)].index\n",
        "df_filtrado = df_filtrado.drop(indices_filas_cero ,errors ='ignore', axis=0)\n",
        "df_filtrado.reset_index()"
      ],
      "metadata": {
        "id": "_fDHVvxr28UO",
        "colab": {
          "base_uri": "https://localhost:8080/"
        },
        "outputId": "2854b009-88de-4763-a326-d81147f3e8b2"
      },
      "execution_count": null,
      "outputs": [
        {
          "output_type": "execute_result",
          "data": {
            "text/plain": [
              "       index         hotel  lead_time  arrival_date_year arrival_date_month  \\\n",
              "0          0    City Hotel         49               2016          September   \n",
              "1          1  Resort Hotel          4               2015            October   \n",
              "2          2    City Hotel         25               2016            October   \n",
              "3          3    City Hotel         26               2016           December   \n",
              "4          4    City Hotel        104               2017              March   \n",
              "...      ...           ...        ...                ...                ...   \n",
              "61828  61908  Resort Hotel         24               2017            January   \n",
              "61829  61909    City Hotel          0               2016          September   \n",
              "61830  61910    City Hotel         10               2017                May   \n",
              "61831  61911  Resort Hotel        143               2015            October   \n",
              "61832  61912    City Hotel         57               2016              April   \n",
              "\n",
              "       arrival_date_week_number  arrival_date_day_of_month  \\\n",
              "0                            37                          5   \n",
              "1                            44                         31   \n",
              "2                            42                         13   \n",
              "3                            51                         12   \n",
              "4                            12                         19   \n",
              "...                         ...                        ...   \n",
              "61828                         4                         27   \n",
              "61829                        36                          2   \n",
              "61830                        19                          8   \n",
              "61831                        41                         10   \n",
              "61832                        17                         17   \n",
              "\n",
              "       stays_in_weekend_nights  stays_in_week_nights  adults  ...  \\\n",
              "0                            1                     2       1  ...   \n",
              "1                            0                     1       2  ...   \n",
              "2                            0                     1       2  ...   \n",
              "3                            2                     5       2  ...   \n",
              "4                            2                     5       2  ...   \n",
              "...                        ...                   ...     ...  ...   \n",
              "61828                        0                     2       2  ...   \n",
              "61829                        0                     1       1  ...   \n",
              "61830                        1                     2       1  ...   \n",
              "61831                        2                     5       2  ...   \n",
              "61832                        2                     5       2  ...   \n",
              "\n",
              "       assigned_room_type  booking_changes deposit_type  agent  \\\n",
              "0                       D                0   No Deposit    9.0   \n",
              "1                       A                0   No Deposit    0.0   \n",
              "2                       F                0   No Deposit    9.0   \n",
              "3                       A                0   Non Refund   otro   \n",
              "4                       A                0   No Deposit   otro   \n",
              "...                   ...              ...          ...    ...   \n",
              "61828                   D                0   No Deposit  240.0   \n",
              "61829                   A                0   No Deposit    0.0   \n",
              "61830                   A                0   No Deposit    0.0   \n",
              "61831                   A                0   Non Refund   otro   \n",
              "61832                   D                1   No Deposit    9.0   \n",
              "\n",
              "      days_in_waiting_list    customer_type     adr  \\\n",
              "0                        0        Transient  115.50   \n",
              "1                        0        Transient   42.00   \n",
              "2                        0        Transient  229.00   \n",
              "3                        0        Transient   75.00   \n",
              "4                        0  Transient-Party   75.00   \n",
              "...                    ...              ...     ...   \n",
              "61828                    0        Transient   48.00   \n",
              "61829                    0        Transient  149.00   \n",
              "61830                    0        Transient   95.00   \n",
              "61831                    0        Transient   36.05   \n",
              "61832                    0        Transient  143.29   \n",
              "\n",
              "       required_car_parking_spaces  total_of_special_requests is_canceled  \n",
              "0                                0                          1           1  \n",
              "1                                1                          0           0  \n",
              "2                                0                          2           0  \n",
              "3                                0                          0           1  \n",
              "4                                0                          1           0  \n",
              "...                            ...                        ...         ...  \n",
              "61828                            0                          1           1  \n",
              "61829                            0                          0           0  \n",
              "61830                            0                          0           0  \n",
              "61831                            0                          0           1  \n",
              "61832                            0                          0           1  \n",
              "\n",
              "[61833 rows x 30 columns]"
            ],
            "text/html": [
              "\n",
              "  <div id=\"df-e5aeb897-a15d-4aab-b343-6d7949ac2bcb\">\n",
              "    <div class=\"colab-df-container\">\n",
              "      <div>\n",
              "<style scoped>\n",
              "    .dataframe tbody tr th:only-of-type {\n",
              "        vertical-align: middle;\n",
              "    }\n",
              "\n",
              "    .dataframe tbody tr th {\n",
              "        vertical-align: top;\n",
              "    }\n",
              "\n",
              "    .dataframe thead th {\n",
              "        text-align: right;\n",
              "    }\n",
              "</style>\n",
              "<table border=\"1\" class=\"dataframe\">\n",
              "  <thead>\n",
              "    <tr style=\"text-align: right;\">\n",
              "      <th></th>\n",
              "      <th>index</th>\n",
              "      <th>hotel</th>\n",
              "      <th>lead_time</th>\n",
              "      <th>arrival_date_year</th>\n",
              "      <th>arrival_date_month</th>\n",
              "      <th>arrival_date_week_number</th>\n",
              "      <th>arrival_date_day_of_month</th>\n",
              "      <th>stays_in_weekend_nights</th>\n",
              "      <th>stays_in_week_nights</th>\n",
              "      <th>adults</th>\n",
              "      <th>...</th>\n",
              "      <th>assigned_room_type</th>\n",
              "      <th>booking_changes</th>\n",
              "      <th>deposit_type</th>\n",
              "      <th>agent</th>\n",
              "      <th>days_in_waiting_list</th>\n",
              "      <th>customer_type</th>\n",
              "      <th>adr</th>\n",
              "      <th>required_car_parking_spaces</th>\n",
              "      <th>total_of_special_requests</th>\n",
              "      <th>is_canceled</th>\n",
              "    </tr>\n",
              "  </thead>\n",
              "  <tbody>\n",
              "    <tr>\n",
              "      <th>0</th>\n",
              "      <td>0</td>\n",
              "      <td>City Hotel</td>\n",
              "      <td>49</td>\n",
              "      <td>2016</td>\n",
              "      <td>September</td>\n",
              "      <td>37</td>\n",
              "      <td>5</td>\n",
              "      <td>1</td>\n",
              "      <td>2</td>\n",
              "      <td>1</td>\n",
              "      <td>...</td>\n",
              "      <td>D</td>\n",
              "      <td>0</td>\n",
              "      <td>No Deposit</td>\n",
              "      <td>9.0</td>\n",
              "      <td>0</td>\n",
              "      <td>Transient</td>\n",
              "      <td>115.50</td>\n",
              "      <td>0</td>\n",
              "      <td>1</td>\n",
              "      <td>1</td>\n",
              "    </tr>\n",
              "    <tr>\n",
              "      <th>1</th>\n",
              "      <td>1</td>\n",
              "      <td>Resort Hotel</td>\n",
              "      <td>4</td>\n",
              "      <td>2015</td>\n",
              "      <td>October</td>\n",
              "      <td>44</td>\n",
              "      <td>31</td>\n",
              "      <td>0</td>\n",
              "      <td>1</td>\n",
              "      <td>2</td>\n",
              "      <td>...</td>\n",
              "      <td>A</td>\n",
              "      <td>0</td>\n",
              "      <td>No Deposit</td>\n",
              "      <td>0.0</td>\n",
              "      <td>0</td>\n",
              "      <td>Transient</td>\n",
              "      <td>42.00</td>\n",
              "      <td>1</td>\n",
              "      <td>0</td>\n",
              "      <td>0</td>\n",
              "    </tr>\n",
              "    <tr>\n",
              "      <th>2</th>\n",
              "      <td>2</td>\n",
              "      <td>City Hotel</td>\n",
              "      <td>25</td>\n",
              "      <td>2016</td>\n",
              "      <td>October</td>\n",
              "      <td>42</td>\n",
              "      <td>13</td>\n",
              "      <td>0</td>\n",
              "      <td>1</td>\n",
              "      <td>2</td>\n",
              "      <td>...</td>\n",
              "      <td>F</td>\n",
              "      <td>0</td>\n",
              "      <td>No Deposit</td>\n",
              "      <td>9.0</td>\n",
              "      <td>0</td>\n",
              "      <td>Transient</td>\n",
              "      <td>229.00</td>\n",
              "      <td>0</td>\n",
              "      <td>2</td>\n",
              "      <td>0</td>\n",
              "    </tr>\n",
              "    <tr>\n",
              "      <th>3</th>\n",
              "      <td>3</td>\n",
              "      <td>City Hotel</td>\n",
              "      <td>26</td>\n",
              "      <td>2016</td>\n",
              "      <td>December</td>\n",
              "      <td>51</td>\n",
              "      <td>12</td>\n",
              "      <td>2</td>\n",
              "      <td>5</td>\n",
              "      <td>2</td>\n",
              "      <td>...</td>\n",
              "      <td>A</td>\n",
              "      <td>0</td>\n",
              "      <td>Non Refund</td>\n",
              "      <td>otro</td>\n",
              "      <td>0</td>\n",
              "      <td>Transient</td>\n",
              "      <td>75.00</td>\n",
              "      <td>0</td>\n",
              "      <td>0</td>\n",
              "      <td>1</td>\n",
              "    </tr>\n",
              "    <tr>\n",
              "      <th>4</th>\n",
              "      <td>4</td>\n",
              "      <td>City Hotel</td>\n",
              "      <td>104</td>\n",
              "      <td>2017</td>\n",
              "      <td>March</td>\n",
              "      <td>12</td>\n",
              "      <td>19</td>\n",
              "      <td>2</td>\n",
              "      <td>5</td>\n",
              "      <td>2</td>\n",
              "      <td>...</td>\n",
              "      <td>A</td>\n",
              "      <td>0</td>\n",
              "      <td>No Deposit</td>\n",
              "      <td>otro</td>\n",
              "      <td>0</td>\n",
              "      <td>Transient-Party</td>\n",
              "      <td>75.00</td>\n",
              "      <td>0</td>\n",
              "      <td>1</td>\n",
              "      <td>0</td>\n",
              "    </tr>\n",
              "    <tr>\n",
              "      <th>...</th>\n",
              "      <td>...</td>\n",
              "      <td>...</td>\n",
              "      <td>...</td>\n",
              "      <td>...</td>\n",
              "      <td>...</td>\n",
              "      <td>...</td>\n",
              "      <td>...</td>\n",
              "      <td>...</td>\n",
              "      <td>...</td>\n",
              "      <td>...</td>\n",
              "      <td>...</td>\n",
              "      <td>...</td>\n",
              "      <td>...</td>\n",
              "      <td>...</td>\n",
              "      <td>...</td>\n",
              "      <td>...</td>\n",
              "      <td>...</td>\n",
              "      <td>...</td>\n",
              "      <td>...</td>\n",
              "      <td>...</td>\n",
              "      <td>...</td>\n",
              "    </tr>\n",
              "    <tr>\n",
              "      <th>61828</th>\n",
              "      <td>61908</td>\n",
              "      <td>Resort Hotel</td>\n",
              "      <td>24</td>\n",
              "      <td>2017</td>\n",
              "      <td>January</td>\n",
              "      <td>4</td>\n",
              "      <td>27</td>\n",
              "      <td>0</td>\n",
              "      <td>2</td>\n",
              "      <td>2</td>\n",
              "      <td>...</td>\n",
              "      <td>D</td>\n",
              "      <td>0</td>\n",
              "      <td>No Deposit</td>\n",
              "      <td>240.0</td>\n",
              "      <td>0</td>\n",
              "      <td>Transient</td>\n",
              "      <td>48.00</td>\n",
              "      <td>0</td>\n",
              "      <td>1</td>\n",
              "      <td>1</td>\n",
              "    </tr>\n",
              "    <tr>\n",
              "      <th>61829</th>\n",
              "      <td>61909</td>\n",
              "      <td>City Hotel</td>\n",
              "      <td>0</td>\n",
              "      <td>2016</td>\n",
              "      <td>September</td>\n",
              "      <td>36</td>\n",
              "      <td>2</td>\n",
              "      <td>0</td>\n",
              "      <td>1</td>\n",
              "      <td>1</td>\n",
              "      <td>...</td>\n",
              "      <td>A</td>\n",
              "      <td>0</td>\n",
              "      <td>No Deposit</td>\n",
              "      <td>0.0</td>\n",
              "      <td>0</td>\n",
              "      <td>Transient</td>\n",
              "      <td>149.00</td>\n",
              "      <td>0</td>\n",
              "      <td>0</td>\n",
              "      <td>0</td>\n",
              "    </tr>\n",
              "    <tr>\n",
              "      <th>61830</th>\n",
              "      <td>61910</td>\n",
              "      <td>City Hotel</td>\n",
              "      <td>10</td>\n",
              "      <td>2017</td>\n",
              "      <td>May</td>\n",
              "      <td>19</td>\n",
              "      <td>8</td>\n",
              "      <td>1</td>\n",
              "      <td>2</td>\n",
              "      <td>1</td>\n",
              "      <td>...</td>\n",
              "      <td>A</td>\n",
              "      <td>0</td>\n",
              "      <td>No Deposit</td>\n",
              "      <td>0.0</td>\n",
              "      <td>0</td>\n",
              "      <td>Transient</td>\n",
              "      <td>95.00</td>\n",
              "      <td>0</td>\n",
              "      <td>0</td>\n",
              "      <td>0</td>\n",
              "    </tr>\n",
              "    <tr>\n",
              "      <th>61831</th>\n",
              "      <td>61911</td>\n",
              "      <td>Resort Hotel</td>\n",
              "      <td>143</td>\n",
              "      <td>2015</td>\n",
              "      <td>October</td>\n",
              "      <td>41</td>\n",
              "      <td>10</td>\n",
              "      <td>2</td>\n",
              "      <td>5</td>\n",
              "      <td>2</td>\n",
              "      <td>...</td>\n",
              "      <td>A</td>\n",
              "      <td>0</td>\n",
              "      <td>Non Refund</td>\n",
              "      <td>otro</td>\n",
              "      <td>0</td>\n",
              "      <td>Transient</td>\n",
              "      <td>36.05</td>\n",
              "      <td>0</td>\n",
              "      <td>0</td>\n",
              "      <td>1</td>\n",
              "    </tr>\n",
              "    <tr>\n",
              "      <th>61832</th>\n",
              "      <td>61912</td>\n",
              "      <td>City Hotel</td>\n",
              "      <td>57</td>\n",
              "      <td>2016</td>\n",
              "      <td>April</td>\n",
              "      <td>17</td>\n",
              "      <td>17</td>\n",
              "      <td>2</td>\n",
              "      <td>5</td>\n",
              "      <td>2</td>\n",
              "      <td>...</td>\n",
              "      <td>D</td>\n",
              "      <td>1</td>\n",
              "      <td>No Deposit</td>\n",
              "      <td>9.0</td>\n",
              "      <td>0</td>\n",
              "      <td>Transient</td>\n",
              "      <td>143.29</td>\n",
              "      <td>0</td>\n",
              "      <td>0</td>\n",
              "      <td>1</td>\n",
              "    </tr>\n",
              "  </tbody>\n",
              "</table>\n",
              "<p>61833 rows × 30 columns</p>\n",
              "</div>\n",
              "      <button class=\"colab-df-convert\" onclick=\"convertToInteractive('df-e5aeb897-a15d-4aab-b343-6d7949ac2bcb')\"\n",
              "              title=\"Convert this dataframe to an interactive table.\"\n",
              "              style=\"display:none;\">\n",
              "        \n",
              "  <svg xmlns=\"http://www.w3.org/2000/svg\" height=\"24px\"viewBox=\"0 0 24 24\"\n",
              "       width=\"24px\">\n",
              "    <path d=\"M0 0h24v24H0V0z\" fill=\"none\"/>\n",
              "    <path d=\"M18.56 5.44l.94 2.06.94-2.06 2.06-.94-2.06-.94-.94-2.06-.94 2.06-2.06.94zm-11 1L8.5 8.5l.94-2.06 2.06-.94-2.06-.94L8.5 2.5l-.94 2.06-2.06.94zm10 10l.94 2.06.94-2.06 2.06-.94-2.06-.94-.94-2.06-.94 2.06-2.06.94z\"/><path d=\"M17.41 7.96l-1.37-1.37c-.4-.4-.92-.59-1.43-.59-.52 0-1.04.2-1.43.59L10.3 9.45l-7.72 7.72c-.78.78-.78 2.05 0 2.83L4 21.41c.39.39.9.59 1.41.59.51 0 1.02-.2 1.41-.59l7.78-7.78 2.81-2.81c.8-.78.8-2.07 0-2.86zM5.41 20L4 18.59l7.72-7.72 1.47 1.35L5.41 20z\"/>\n",
              "  </svg>\n",
              "      </button>\n",
              "      \n",
              "  <style>\n",
              "    .colab-df-container {\n",
              "      display:flex;\n",
              "      flex-wrap:wrap;\n",
              "      gap: 12px;\n",
              "    }\n",
              "\n",
              "    .colab-df-convert {\n",
              "      background-color: #E8F0FE;\n",
              "      border: none;\n",
              "      border-radius: 50%;\n",
              "      cursor: pointer;\n",
              "      display: none;\n",
              "      fill: #1967D2;\n",
              "      height: 32px;\n",
              "      padding: 0 0 0 0;\n",
              "      width: 32px;\n",
              "    }\n",
              "\n",
              "    .colab-df-convert:hover {\n",
              "      background-color: #E2EBFA;\n",
              "      box-shadow: 0px 1px 2px rgba(60, 64, 67, 0.3), 0px 1px 3px 1px rgba(60, 64, 67, 0.15);\n",
              "      fill: #174EA6;\n",
              "    }\n",
              "\n",
              "    [theme=dark] .colab-df-convert {\n",
              "      background-color: #3B4455;\n",
              "      fill: #D2E3FC;\n",
              "    }\n",
              "\n",
              "    [theme=dark] .colab-df-convert:hover {\n",
              "      background-color: #434B5C;\n",
              "      box-shadow: 0px 1px 3px 1px rgba(0, 0, 0, 0.15);\n",
              "      filter: drop-shadow(0px 1px 2px rgba(0, 0, 0, 0.3));\n",
              "      fill: #FFFFFF;\n",
              "    }\n",
              "  </style>\n",
              "\n",
              "      <script>\n",
              "        const buttonEl =\n",
              "          document.querySelector('#df-e5aeb897-a15d-4aab-b343-6d7949ac2bcb button.colab-df-convert');\n",
              "        buttonEl.style.display =\n",
              "          google.colab.kernel.accessAllowed ? 'block' : 'none';\n",
              "\n",
              "        async function convertToInteractive(key) {\n",
              "          const element = document.querySelector('#df-e5aeb897-a15d-4aab-b343-6d7949ac2bcb');\n",
              "          const dataTable =\n",
              "            await google.colab.kernel.invokeFunction('convertToInteractive',\n",
              "                                                     [key], {});\n",
              "          if (!dataTable) return;\n",
              "\n",
              "          const docLinkHtml = 'Like what you see? Visit the ' +\n",
              "            '<a target=\"_blank\" href=https://colab.research.google.com/notebooks/data_table.ipynb>data table notebook</a>'\n",
              "            + ' to learn more about interactive tables.';\n",
              "          element.innerHTML = '';\n",
              "          dataTable['output_type'] = 'display_data';\n",
              "          await google.colab.output.renderOutput(dataTable, element);\n",
              "          const docLink = document.createElement('div');\n",
              "          docLink.innerHTML = docLinkHtml;\n",
              "          element.appendChild(docLink);\n",
              "        }\n",
              "      </script>\n",
              "    </div>\n",
              "  </div>\n",
              "  "
            ]
          },
          "metadata": {},
          "execution_count": 13
        }
      ]
    },
    {
      "cell_type": "code",
      "source": [
        "\n",
        "# Outliers adr\n",
        "#Observamos valores negativos que son anomalos\n",
        "outlier_adr = df_filtrado[df_filtrado[\"adr\"]<=0]\n",
        "\n",
        "\n",
        "#ELIMINACION de outlier por indice de fila\n",
        "indice_outlier=df_filtrado[df_filtrado['adr']<=0].index\n",
        "\n",
        "df_filtrado.drop(indice_outlier, inplace=True)\n",
        "\n",
        "#Hago z-score modificado\n",
        "mediana_adr=np.median(df_filtrado.adr)\n",
        "MAD=np.median(np.absolute(df_filtrado.adr-mediana_adr))\n",
        "df_filtrado['zm_adr']=(df_filtrado.adr - mediana_adr )*0.6745/MAD\n",
        "#usando la regla de oro dropeo los que tengan un z-score modificado mayor a 3.5\n",
        "indice_outlier_z = df_filtrado[df_filtrado['zm_adr']>3.5].index\n",
        "print(len(indice_outlier_z))\n",
        "df_filtrado.drop(indice_outlier_z, inplace=True,axis=0)\n",
        "\n",
        "\n",
        "# Outliers para adluts\n",
        "df_copia_adults = df_filtrado.copy()\n",
        "\n",
        "#Hago z-score modificado\n",
        "mediana_adults = np.median(df.adults)\n",
        "MAD = np.median(np.absolute(df_copia_adults.adults - mediana_adults))\n",
        "df_copia_adults['zm_adults'] = (df_copia_adults.adults - mediana_adults ) * 0.6745/MAD\n",
        "indice_outlier_z = df_copia_adults[df_copia_adults['zm_adults'] > 3.5].index\n",
        "print(f\"Cantidad de outliers encontrados con z-score: {len(indice_outlier_z)}\")\n",
        "df_filtrado.drop(indice_outlier_z, inplace=True,axis=0)\n",
        "\n",
        "\n",
        "# Outliers para babys\n",
        "df_copia_babies = df_filtrado.copy()\n",
        "#Hago z-score modificado\n",
        "mediana_babies = np.median(df.babies)\n",
        "MAD = np.median(np.absolute(df_copia_babies.babies - mediana_babies))\n",
        "df_copia_babies['zm_babies'] = (df_copia_babies.babies - mediana_babies ) * 0.6745/MAD\n",
        "indice_outlier_z = df_copia_babies[df_copia_babies['zm_babies'] > 3.5].index\n",
        "print(f\"Cantidad de outliers encontrados con z-score: {len(indice_outlier_z)}\")\n",
        "\n",
        "df_filtrado.drop(indice_outlier_z, inplace=True,axis=0)\n",
        "\n",
        "\n",
        "# Outilers para days_in_waiting_list\n",
        "#Hago z-score\n",
        "df_diwl = df_filtrado.copy()\n",
        "df_diwl['z_diwl'] = st.zscore(df_diwl['days_in_waiting_list'])\n",
        "indices = df_diwl[df_diwl['z_diwl'] > 3].index\n",
        "df_fitrado = df_filtrado.drop(indices, axis=0, inplace=True,errors=\"ignore\")\n",
        "\n",
        "\n",
        "#busco outliers para lead_time\n",
        "df_lead = df_filtrado.copy()\n",
        "\n",
        "#Hago z-score modificado\n",
        "mediana_lead = np.median(df.lead_time)\n",
        "MAD = np.median(np.absolute(df.lead_time - mediana_lead))\n",
        "df_lead['zm_lead_time']=(df.lead_time - mediana_lead )*0.6745/MAD\n",
        "#ELIMINACION: usando la regla de oro ELIMINO los que tengan un z-score modificado mayor a 3.5\n",
        "indice_outlier_z = df_lead[df_lead['zm_lead_time']>3.5].index\n",
        "#son 1079 outliers\n",
        "df_filtrado.drop(indice_outlier_z, inplace=True, errors='ignore',axis=0)\n",
        "\n",
        "#\n",
        "df_filtrado.drop('zm_adr', axis=1, inplace=True);"
      ],
      "metadata": {
        "colab": {
          "base_uri": "https://localhost:8080/"
        },
        "id": "g1c6TXbL3DbW",
        "outputId": "a536e16f-9d21-429c-c024-6a1cad9687b5"
      },
      "execution_count": null,
      "outputs": [
        {
          "output_type": "stream",
          "name": "stdout",
          "text": [
            "1023\n",
            "Cantidad de outliers encontrados con z-score: 2968\n",
            "Cantidad de outliers encontrados con z-score: 392\n"
          ]
        }
      ]
    },
    {
      "cell_type": "code",
      "source": [
        "ds_trabajo = pd.get_dummies(df_filtrado, columns=[\"hotel\",\"arrival_date_month\",\"deposit_type\",\"reserved_room_type\",\"assigned_room_type\",\"customer_type\",\"meal\",\"market_segment\",\"distribution_channel\",\"agent\",\"country\"], drop_first=True)\n",
        "\n",
        "df_test = pd.get_dummies(df_test, columns=[\"hotel\",\"arrival_date_month\",\"deposit_type\",\"reserved_room_type\",\"assigned_room_type\",\"customer_type\",\"meal\",\"market_segment\",\"distribution_channel\",\"agent\",\"country\"], drop_first=True)\n"
      ],
      "metadata": {
        "id": "rUWZ06GpTZCg"
      },
      "execution_count": null,
      "outputs": []
    },
    {
      "cell_type": "code",
      "source": [
        "x = ds_trabajo.drop(['is_canceled'],axis='columns',inplace=False)\n",
        "y = ds_trabajo['is_canceled'].copy()\n",
        "#Creo conjuntos de train y test\n",
        "x_train, x_test, y_train, y_test = train_test_split(x, y, test_size=0.3, random_state=0)"
      ],
      "metadata": {
        "id": "E3P0QizwioX1"
      },
      "execution_count": null,
      "outputs": []
    },
    {
      "cell_type": "code",
      "source": [
        "columnas_a_normalizar =[ 'lead_time',                                             \n",
        "'arrival_date_week_number',            \n",
        "'arrival_date_day_of_month',           \n",
        "'stays_in_weekend_nights',             \n",
        "'stays_in_week_nights',                \n",
        "'adults',                              \n",
        "'children',                         \n",
        "'babies',                              \n",
        "'previous_cancellations',              \n",
        "'previous_bookings_not_canceled',      \n",
        "'booking_changes',                     \n",
        "'days_in_waiting_list',                \n",
        "'adr',                               \n",
        "'required_car_parking_spaces',         \n",
        "'total_of_special_requests']\n",
        "\n",
        "\n",
        "df_prediccion_a_normalizar = df_test[columnas_a_normalizar]\n",
        "df_a_normalizar_train= x_train[columnas_a_normalizar]\n",
        "df_a_normalizar_test = x_test[columnas_a_normalizar]\n",
        "len(df_a_normalizar_train)"
      ],
      "metadata": {
        "colab": {
          "base_uri": "https://localhost:8080/"
        },
        "id": "WQrduP0XEuYH",
        "outputId": "afe4f72f-0b50-4ecb-f95d-058f2f4eff07"
      },
      "execution_count": null,
      "outputs": [
        {
          "output_type": "execute_result",
          "data": {
            "text/plain": [
              "38306"
            ]
          },
          "metadata": {},
          "execution_count": 17
        }
      ]
    },
    {
      "cell_type": "code",
      "source": [
        "from sklearn.preprocessing import StandardScaler\n",
        "sc = StandardScaler()\n",
        "sc.fit(df_a_normalizar_train)"
      ],
      "metadata": {
        "colab": {
          "base_uri": "https://localhost:8080/"
        },
        "id": "ziDmY1jaUge_",
        "outputId": "173b6bec-7098-4de4-f1ac-9c4e3f8ffccb"
      },
      "execution_count": null,
      "outputs": [
        {
          "output_type": "execute_result",
          "data": {
            "text/plain": [
              "StandardScaler()"
            ],
            "text/html": [
              "<style>#sk-container-id-2 {color: black;background-color: white;}#sk-container-id-2 pre{padding: 0;}#sk-container-id-2 div.sk-toggleable {background-color: white;}#sk-container-id-2 label.sk-toggleable__label {cursor: pointer;display: block;width: 100%;margin-bottom: 0;padding: 0.3em;box-sizing: border-box;text-align: center;}#sk-container-id-2 label.sk-toggleable__label-arrow:before {content: \"▸\";float: left;margin-right: 0.25em;color: #696969;}#sk-container-id-2 label.sk-toggleable__label-arrow:hover:before {color: black;}#sk-container-id-2 div.sk-estimator:hover label.sk-toggleable__label-arrow:before {color: black;}#sk-container-id-2 div.sk-toggleable__content {max-height: 0;max-width: 0;overflow: hidden;text-align: left;background-color: #f0f8ff;}#sk-container-id-2 div.sk-toggleable__content pre {margin: 0.2em;color: black;border-radius: 0.25em;background-color: #f0f8ff;}#sk-container-id-2 input.sk-toggleable__control:checked~div.sk-toggleable__content {max-height: 200px;max-width: 100%;overflow: auto;}#sk-container-id-2 input.sk-toggleable__control:checked~label.sk-toggleable__label-arrow:before {content: \"▾\";}#sk-container-id-2 div.sk-estimator input.sk-toggleable__control:checked~label.sk-toggleable__label {background-color: #d4ebff;}#sk-container-id-2 div.sk-label input.sk-toggleable__control:checked~label.sk-toggleable__label {background-color: #d4ebff;}#sk-container-id-2 input.sk-hidden--visually {border: 0;clip: rect(1px 1px 1px 1px);clip: rect(1px, 1px, 1px, 1px);height: 1px;margin: -1px;overflow: hidden;padding: 0;position: absolute;width: 1px;}#sk-container-id-2 div.sk-estimator {font-family: monospace;background-color: #f0f8ff;border: 1px dotted black;border-radius: 0.25em;box-sizing: border-box;margin-bottom: 0.5em;}#sk-container-id-2 div.sk-estimator:hover {background-color: #d4ebff;}#sk-container-id-2 div.sk-parallel-item::after {content: \"\";width: 100%;border-bottom: 1px solid gray;flex-grow: 1;}#sk-container-id-2 div.sk-label:hover label.sk-toggleable__label {background-color: #d4ebff;}#sk-container-id-2 div.sk-serial::before {content: \"\";position: absolute;border-left: 1px solid gray;box-sizing: border-box;top: 0;bottom: 0;left: 50%;z-index: 0;}#sk-container-id-2 div.sk-serial {display: flex;flex-direction: column;align-items: center;background-color: white;padding-right: 0.2em;padding-left: 0.2em;position: relative;}#sk-container-id-2 div.sk-item {position: relative;z-index: 1;}#sk-container-id-2 div.sk-parallel {display: flex;align-items: stretch;justify-content: center;background-color: white;position: relative;}#sk-container-id-2 div.sk-item::before, #sk-container-id-2 div.sk-parallel-item::before {content: \"\";position: absolute;border-left: 1px solid gray;box-sizing: border-box;top: 0;bottom: 0;left: 50%;z-index: -1;}#sk-container-id-2 div.sk-parallel-item {display: flex;flex-direction: column;z-index: 1;position: relative;background-color: white;}#sk-container-id-2 div.sk-parallel-item:first-child::after {align-self: flex-end;width: 50%;}#sk-container-id-2 div.sk-parallel-item:last-child::after {align-self: flex-start;width: 50%;}#sk-container-id-2 div.sk-parallel-item:only-child::after {width: 0;}#sk-container-id-2 div.sk-dashed-wrapped {border: 1px dashed gray;margin: 0 0.4em 0.5em 0.4em;box-sizing: border-box;padding-bottom: 0.4em;background-color: white;}#sk-container-id-2 div.sk-label label {font-family: monospace;font-weight: bold;display: inline-block;line-height: 1.2em;}#sk-container-id-2 div.sk-label-container {text-align: center;}#sk-container-id-2 div.sk-container {/* jupyter's `normalize.less` sets `[hidden] { display: none; }` but bootstrap.min.css set `[hidden] { display: none !important; }` so we also need the `!important` here to be able to override the default hidden behavior on the sphinx rendered scikit-learn.org. See: https://github.com/scikit-learn/scikit-learn/issues/21755 */display: inline-block !important;position: relative;}#sk-container-id-2 div.sk-text-repr-fallback {display: none;}</style><div id=\"sk-container-id-2\" class=\"sk-top-container\"><div class=\"sk-text-repr-fallback\"><pre>StandardScaler()</pre><b>In a Jupyter environment, please rerun this cell to show the HTML representation or trust the notebook. <br />On GitHub, the HTML representation is unable to render, please try loading this page with nbviewer.org.</b></div><div class=\"sk-container\" hidden><div class=\"sk-item\"><div class=\"sk-estimator sk-toggleable\"><input class=\"sk-toggleable__control sk-hidden--visually\" id=\"sk-estimator-id-2\" type=\"checkbox\" checked><label for=\"sk-estimator-id-2\" class=\"sk-toggleable__label sk-toggleable__label-arrow\">StandardScaler</label><div class=\"sk-toggleable__content\"><pre>StandardScaler()</pre></div></div></div></div></div>"
            ]
          },
          "metadata": {},
          "execution_count": 18
        }
      ]
    },
    {
      "cell_type": "code",
      "source": [
        "df_normalizado_train = sc.transform(df_a_normalizar_train)\n",
        "df_normalizado_predict = sc.transform(df_prediccion_a_normalizar)\n",
        "i=0\n",
        "for col in columnas_a_normalizar:\n",
        "  #obtengo una columna\n",
        "  df_test[col]= df_normalizado_predict[:,i]\n",
        "  x_train[col]= df_normalizado_train[:,i]\n",
        "  i=i+1\n",
        "\n",
        "#x_train\n",
        "#df_test"
      ],
      "metadata": {
        "id": "Ir6WRyCesNlG"
      },
      "execution_count": null,
      "outputs": []
    },
    {
      "cell_type": "code",
      "source": [
        "df_normalizado_test = sc.transform(df_a_normalizar_test)\n",
        "i=0\n",
        "for col in columnas_a_normalizar:\n",
        "  #obtengo una columna\n",
        "  x_test[col]= df_normalizado_test[:,i]\n",
        "  i=i+1\n",
        "\n",
        "#x_test"
      ],
      "metadata": {
        "id": "GQqhxIumu4xs"
      },
      "execution_count": null,
      "outputs": []
    },
    {
      "cell_type": "markdown",
      "source": [
        "#Red Neuronal\n"
      ],
      "metadata": {
        "id": "_K8B5SXj3MBX"
      }
    },
    {
      "cell_type": "code",
      "execution_count": null,
      "metadata": {
        "id": "IdAWW1oaENJT"
      },
      "outputs": [],
      "source": [
        "import matplotlib.pyplot as plt\n",
        "import seaborn as sns\n",
        "import sklearn as sk\n",
        "import pandas as pd\n",
        "import numpy as np\n",
        "import random\n",
        "\n",
        "from sklearn.metrics import f1_score,  recall_score, precision_score, accuracy_score, classification_report, confusion_matrix, make_scorer\n",
        "from sklearn.preprocessing import StandardScaler\n",
        "from sklearn.model_selection import train_test_split\n",
        "from sklearn.model_selection import RandomizedSearchCV, StratifiedKFold\n",
        "\n",
        "import tensorflow as tf\n",
        "from tensorflow import keras\n",
        "from keras.utils.vis_utils import plot_model\n",
        "from keras.wrappers.scikit_learn import KerasClassifier\n",
        "\n",
        "# import visualkeras\n",
        "\n",
        "random.seed(1)\n",
        "np.random.seed(1)\n",
        "tf.random.set_seed(1) \n",
        "\n",
        "import warnings\n",
        "warnings.filterwarnings(\"ignore\", category=DeprecationWarning) "
      ]
    },
    {
      "cell_type": "code",
      "source": [
        "x_train.shape"
      ],
      "metadata": {
        "id": "bi3W9AbvQbRf",
        "colab": {
          "base_uri": "https://localhost:8080/"
        },
        "outputId": "73185d43-f5c9-4f15-9694-6033659301ac"
      },
      "execution_count": null,
      "outputs": [
        {
          "output_type": "execute_result",
          "data": {
            "text/plain": [
              "(38306, 107)"
            ]
          },
          "metadata": {},
          "execution_count": 22
        }
      ]
    },
    {
      "cell_type": "markdown",
      "source": [
        "# Busqueda de hiperparametros"
      ],
      "metadata": {
        "id": "4KRjkjUPp5L6"
      }
    },
    {
      "cell_type": "code",
      "source": [
        "# calcula la cantidad de clases\n",
        "cant_clases=len(np.unique(x_train))\n",
        "d_in=len(x_train.columns)\n",
        "\n",
        "#Funcion para modelar y compilar la red neuronal:\n",
        "def modelar(neuronas, learning_rate, beta_1, beta_2, epsilon):\n",
        "    modelo_hotel = keras.Sequential([\n",
        "      keras.layers.Dense(d_in, input_shape=(d_in,)),\n",
        "      keras.layers.Dense(neuronas, activation='relu'),\n",
        "      keras.layers.Dense(1, activation='sigmoid')])\n",
        "    \n",
        "    modelo_hotel.compile(\n",
        "      optimizer=keras.optimizers.Nadam(learning_rate=learning_rate, beta_1=beta_1, beta_2=beta_2, epsilon=epsilon), \n",
        "      #optimizer=keras.optimizers.SGD(learning_rate=0.0009), \n",
        "      loss='binary_crossentropy', \n",
        "      metrics=['AUC'], \n",
        "      )\n",
        "    return modelo_hotel\n",
        "# Crear el clasificador de Keras\n",
        "clasificador = KerasClassifier(build_fn=modelar, verbose=0)\n",
        "\n",
        "# Definir los hiperparámetros a ajustar y sus valores posibles\n",
        "hiperparametros = {'neuronas': list(range(50,107)),\n",
        "                   'learning_rate': [0.1, 0.01, 0.001],\n",
        "                   'beta_1': [0.9, 0.95, 0.99],\n",
        "                   'beta_2': [0.99, 0.999, 0.9999],\n",
        "                   'epsilon': [1e-7, 1e-8, 1e-9]\n",
        "                  }\n",
        "\n",
        "#Cantidad de splits para el Cross Validation\n",
        "folds=5\n",
        "\n",
        "#Kfold estratificado\n",
        "kfoldcv = StratifiedKFold(n_splits=folds)\n",
        "\n",
        "#Metrica que quiero optimizar F1 Score\n",
        "scorer_fn = make_scorer(sk.metrics.f1_score)\n",
        "\n",
        "#Hacer el randomizedsearch para buscar hiperparametros\n",
        "random_search = RandomizedSearchCV(estimator=clasificador,                       \n",
        "                              param_distributions = hiperparametros,\n",
        "                              scoring=scorer_fn,\n",
        "                              cv=kfoldcv, error_score='raise', random_state = 4)\n",
        "random_resultado = random_search.fit(x_train, y_train)"
      ],
      "metadata": {
        "id": "zq5j_4woPAVR",
        "colab": {
          "base_uri": "https://localhost:8080/"
        },
        "outputId": "ae809556-f808-449c-f634-348d894e7853"
      },
      "execution_count": null,
      "outputs": [
        {
          "output_type": "stream",
          "name": "stdout",
          "text": [
            "240/240 [==============================] - 1s 2ms/step\n",
            "240/240 [==============================] - 1s 2ms/step\n",
            "240/240 [==============================] - 1s 3ms/step\n",
            "240/240 [==============================] - 0s 2ms/step\n",
            "240/240 [==============================] - 0s 1ms/step\n",
            "240/240 [==============================] - 0s 2ms/step\n",
            "240/240 [==============================] - 1s 3ms/step\n",
            "240/240 [==============================] - 0s 2ms/step\n",
            "240/240 [==============================] - 0s 1ms/step\n",
            "240/240 [==============================] - 0s 2ms/step\n",
            "240/240 [==============================] - 0s 2ms/step\n",
            "240/240 [==============================] - 1s 2ms/step\n",
            "240/240 [==============================] - 1s 2ms/step\n",
            "240/240 [==============================] - 0s 2ms/step\n",
            "240/240 [==============================] - 1s 2ms/step\n",
            "240/240 [==============================] - 1s 2ms/step\n",
            "240/240 [==============================] - 1s 2ms/step\n",
            "240/240 [==============================] - 0s 1ms/step\n",
            "240/240 [==============================] - 1s 3ms/step\n",
            "240/240 [==============================] - 0s 2ms/step\n",
            "240/240 [==============================] - 1s 4ms/step\n",
            "240/240 [==============================] - 0s 2ms/step\n",
            "240/240 [==============================] - 0s 2ms/step\n",
            "240/240 [==============================] - 0s 2ms/step\n",
            "240/240 [==============================] - 1s 4ms/step\n",
            "240/240 [==============================] - 0s 1ms/step\n",
            "240/240 [==============================] - 0s 2ms/step\n",
            "240/240 [==============================] - 0s 1ms/step\n",
            "240/240 [==============================] - 0s 1ms/step\n",
            "240/240 [==============================] - 0s 1ms/step\n",
            "240/240 [==============================] - 0s 2ms/step\n",
            "240/240 [==============================] - 0s 2ms/step\n",
            "240/240 [==============================] - 1s 2ms/step\n",
            "240/240 [==============================] - 0s 2ms/step\n",
            "240/240 [==============================] - 1s 2ms/step\n",
            "240/240 [==============================] - 0s 2ms/step\n",
            "240/240 [==============================] - 1s 3ms/step\n",
            "240/240 [==============================] - 0s 2ms/step\n",
            "240/240 [==============================] - 0s 2ms/step\n",
            "240/240 [==============================] - 0s 2ms/step\n",
            "240/240 [==============================] - 1s 3ms/step\n",
            "240/240 [==============================] - 0s 2ms/step\n",
            "240/240 [==============================] - 0s 2ms/step\n",
            "240/240 [==============================] - 0s 2ms/step\n",
            "240/240 [==============================] - 0s 2ms/step\n",
            "240/240 [==============================] - 0s 2ms/step\n",
            "240/240 [==============================] - 1s 2ms/step\n",
            "240/240 [==============================] - 0s 2ms/step\n",
            "240/240 [==============================] - 0s 2ms/step\n",
            "240/240 [==============================] - 1s 2ms/step\n"
          ]
        }
      ]
    },
    {
      "cell_type": "code",
      "source": [
        "# Imprimir los resultados\n",
        "print(\"Mejores hiperparámetros: \", random_resultado.best_params_)\n",
        "print(\"Mejor precisión: \", random_resultado.best_score_)\n"
      ],
      "metadata": {
        "id": "O0zW43QRP2bB",
        "colab": {
          "base_uri": "https://localhost:8080/"
        },
        "outputId": "9d14e319-5627-4100-a524-a0638aabe4d0"
      },
      "execution_count": null,
      "outputs": [
        {
          "output_type": "stream",
          "name": "stdout",
          "text": [
            "Mejores hiperparámetros:  {'neuronas': 80, 'learning_rate': 0.01, 'epsilon': 1e-07, 'beta_2': 0.999, 'beta_1': 0.99}\n",
            "Mejor precisión:  0.8052374863665952\n"
          ]
        }
      ]
    },
    {
      "cell_type": "code",
      "source": [
        "random_resultado.cv_results_['mean_test_score']"
      ],
      "metadata": {
        "id": "KzjBSlP1QagH",
        "colab": {
          "base_uri": "https://localhost:8080/"
        },
        "outputId": "1d60a33f-5ed8-437b-e499-4a01051ab662"
      },
      "execution_count": null,
      "outputs": [
        {
          "output_type": "execute_result",
          "data": {
            "text/plain": [
              "array([0.64772008, 0.53250893, 0.78738375, 0.66562162, 0.80324649,\n",
              "       0.72531597, 0.        , 0.66562162, 0.80523749, 0.6922336 ])"
            ]
          },
          "metadata": {},
          "execution_count": 135
        }
      ]
    },
    {
      "cell_type": "code",
      "source": [
        "best_fit = random_resultado.best_estimator_"
      ],
      "metadata": {
        "id": "aYaK7hKrQodp"
      },
      "execution_count": null,
      "outputs": []
    },
    {
      "cell_type": "code",
      "source": [
        "predict_y_test = best_fit.predict(x_test)"
      ],
      "metadata": {
        "id": "EZS-gYNyQ4_C",
        "colab": {
          "base_uri": "https://localhost:8080/"
        },
        "outputId": "c6a46ae3-5c59-4251-a65c-4925de4e45af"
      },
      "execution_count": null,
      "outputs": [
        {
          "output_type": "stream",
          "name": "stdout",
          "text": [
            "514/514 [==============================] - 1s 2ms/step\n"
          ]
        }
      ]
    },
    {
      "cell_type": "markdown",
      "source": [
        "Estas son las metricas del best fit para esos hiperparametros"
      ],
      "metadata": {
        "id": "FUqOxbMlc_ge"
      }
    },
    {
      "cell_type": "markdown",
      "source": [
        "#Entrenamiento"
      ],
      "metadata": {
        "id": "437-pRiKRACh"
      }
    },
    {
      "cell_type": "code",
      "source": [
        "# calcula la cantidad de clases\n",
        "cant_clases=len(np.unique(x_train))\n",
        "d_in=len(x_train.columns)\n",
        "\n",
        "modelo_hotel = keras.Sequential([\n",
        "    keras.layers.Dense(107,input_shape=(d_in,)),\n",
        "    keras.layers.Dense(80, activation='relu'),\n",
        "    keras.layers.Dense(1, activation='sigmoid')])\n",
        "    \n",
        "    #keras.layers.Dense(1, activation='relu')])\n",
        "\n",
        "modelo_hotel.summary()"
      ],
      "metadata": {
        "id": "_iONLFc0PyvB",
        "colab": {
          "base_uri": "https://localhost:8080/"
        },
        "outputId": "4071f208-fe00-4806-d397-51d41b36e41d"
      },
      "execution_count": null,
      "outputs": [
        {
          "output_type": "stream",
          "name": "stdout",
          "text": [
            "Model: \"sequential_216\"\n",
            "_________________________________________________________________\n",
            " Layer (type)                Output Shape              Param #   \n",
            "=================================================================\n",
            " dense_648 (Dense)           (None, 107)               11556     \n",
            "                                                                 \n",
            " dense_649 (Dense)           (None, 80)                8640      \n",
            "                                                                 \n",
            " dense_650 (Dense)           (None, 1)                 81        \n",
            "                                                                 \n",
            "=================================================================\n",
            "Total params: 20,277\n",
            "Trainable params: 20,277\n",
            "Non-trainable params: 0\n",
            "_________________________________________________________________\n"
          ]
        }
      ]
    },
    {
      "cell_type": "code",
      "source": [
        "modelo_hotel.compile(\n",
        "  optimizer=keras.optimizers.Nadam(learning_rate=0.001, beta_1=0.99, beta_2=0.999, epsilon=1e-07),\n",
        "  loss='binary_crossentropy', \n",
        "  # metricas para ir calculando en cada iteracion o batch \n",
        "  #metrics=['MeanSquaredError'], \n",
        "  metrics=['AUC'],\n",
        ")\n",
        "callback = keras.callbacks.EarlyStopping(monitor='loss', min_delta=0.001, patience=5)\n",
        "cant_epochs_hotel=100\n",
        "modelo_hotel_hitoria = modelo_hotel.fit(x_train,y_train,epochs=cant_epochs_hotel,batch_size=20,verbose=False,callbacks=[callback])"
      ],
      "metadata": {
        "id": "IVzP9FWrGM0o"
      },
      "execution_count": null,
      "outputs": []
    },
    {
      "cell_type": "code",
      "source": [
        "modelo_hotel_hitoria.history"
      ],
      "metadata": {
        "id": "Z3EgT3KE_IkC",
        "colab": {
          "base_uri": "https://localhost:8080/"
        },
        "outputId": "02f0e05e-a39d-4519-e9c4-8672bc666465"
      },
      "execution_count": null,
      "outputs": [
        {
          "output_type": "execute_result",
          "data": {
            "text/plain": [
              "{'loss': [0.7025270462036133,\n",
              "  0.4454444646835327,\n",
              "  0.4418705999851227,\n",
              "  0.4346088171005249,\n",
              "  0.4302651882171631,\n",
              "  0.4302544891834259,\n",
              "  0.4236621856689453,\n",
              "  0.4217821955680847,\n",
              "  0.41845449805259705,\n",
              "  0.4169948101043701,\n",
              "  0.4121379554271698,\n",
              "  0.40987107157707214,\n",
              "  0.40809667110443115,\n",
              "  0.40801265835762024,\n",
              "  0.40774473547935486,\n",
              "  0.4052852690219879,\n",
              "  0.404207706451416,\n",
              "  0.404619961977005,\n",
              "  0.4021541178226471,\n",
              "  0.4005813002586365,\n",
              "  0.39989957213401794,\n",
              "  0.39905473589897156,\n",
              "  0.3985564410686493,\n",
              "  0.39964285492897034,\n",
              "  0.3970237076282501,\n",
              "  0.395169198513031,\n",
              "  0.39666876196861267,\n",
              "  0.3941638469696045,\n",
              "  0.39460670948028564,\n",
              "  0.3954073190689087,\n",
              "  0.3976093828678131,\n",
              "  0.3932968080043793,\n",
              "  0.3906303346157074,\n",
              "  0.39628708362579346,\n",
              "  0.3928721249103546,\n",
              "  0.39422619342803955,\n",
              "  0.3922843635082245,\n",
              "  0.38877370953559875,\n",
              "  0.38421133160591125,\n",
              "  0.37761759757995605,\n",
              "  0.3710019588470459,\n",
              "  0.37095698714256287,\n",
              "  0.3649863600730896,\n",
              "  0.36451542377471924,\n",
              "  0.3770495653152466,\n",
              "  0.3762769401073456,\n",
              "  0.36676689982414246,\n",
              "  0.363557368516922,\n",
              "  0.36009952425956726,\n",
              "  0.36088064312934875,\n",
              "  0.36144936084747314,\n",
              "  0.3603646159172058,\n",
              "  0.35904040932655334,\n",
              "  0.35877785086631775,\n",
              "  0.36457496881484985,\n",
              "  0.3601508140563965,\n",
              "  0.3558090031147003,\n",
              "  0.35750919580459595,\n",
              "  0.3562421202659607,\n",
              "  0.35554882884025574,\n",
              "  0.3609828054904938,\n",
              "  0.35941261053085327],\n",
              " 'auc': [0.8369385004043579,\n",
              "  0.8779298663139343,\n",
              "  0.8797641396522522,\n",
              "  0.8825594186782837,\n",
              "  0.8845577239990234,\n",
              "  0.8851037621498108,\n",
              "  0.8860143423080444,\n",
              "  0.8875674605369568,\n",
              "  0.8889681100845337,\n",
              "  0.88959139585495,\n",
              "  0.8913140892982483,\n",
              "  0.892350971698761,\n",
              "  0.893126904964447,\n",
              "  0.893110990524292,\n",
              "  0.892960786819458,\n",
              "  0.8942731022834778,\n",
              "  0.8947914242744446,\n",
              "  0.8944780230522156,\n",
              "  0.8958210349082947,\n",
              "  0.8961114883422852,\n",
              "  0.8965768218040466,\n",
              "  0.8968908786773682,\n",
              "  0.897444486618042,\n",
              "  0.8968955874443054,\n",
              "  0.8980236053466797,\n",
              "  0.8990470767021179,\n",
              "  0.8981329798698425,\n",
              "  0.8989948034286499,\n",
              "  0.8986685276031494,\n",
              "  0.898219645023346,\n",
              "  0.8965874314308167,\n",
              "  0.8993517756462097,\n",
              "  0.900846004486084,\n",
              "  0.8979858160018921,\n",
              "  0.899215817451477,\n",
              "  0.8983937501907349,\n",
              "  0.8998787999153137,\n",
              "  0.9011235237121582,\n",
              "  0.9021458029747009,\n",
              "  0.906116783618927,\n",
              "  0.9087843298912048,\n",
              "  0.908412754535675,\n",
              "  0.9116037487983704,\n",
              "  0.9119063019752502,\n",
              "  0.9059151411056519,\n",
              "  0.9063159823417664,\n",
              "  0.9109213948249817,\n",
              "  0.9121800065040588,\n",
              "  0.9140299558639526,\n",
              "  0.9137832522392273,\n",
              "  0.9131072163581848,\n",
              "  0.9140635132789612,\n",
              "  0.9147320985794067,\n",
              "  0.9143849015235901,\n",
              "  0.9124305844306946,\n",
              "  0.913707971572876,\n",
              "  0.9161421656608582,\n",
              "  0.9153856039047241,\n",
              "  0.916210412979126,\n",
              "  0.9164360165596008,\n",
              "  0.9131733179092407,\n",
              "  0.9145157337188721]}"
            ]
          },
          "metadata": {},
          "execution_count": 148
        }
      ]
    },
    {
      "cell_type": "markdown",
      "source": [
        "# Prediccion"
      ],
      "metadata": {
        "id": "I6LNn25RqFg_"
      }
    },
    {
      "cell_type": "code",
      "source": [
        "y_predic_ej1 = modelo_hotel.predict(x_test)\n",
        "y_predic_ej1\n",
        "y_predic_cat_ej1 = np.where(y_predic_ej1>0.6,1,0)\n",
        "\n",
        "ds_validacion=pd.DataFrame(y_predic_cat_ej1,y_test).reset_index()\n",
        "ds_validacion.columns=['y_pred','y_real']\n",
        "\n",
        "tabla=pd.crosstab(ds_validacion.y_pred, ds_validacion.y_real)\n",
        "grf=sns.heatmap(tabla,annot=True, cmap = 'Blues')\n",
        "plt.show()\n",
        "print(classification_report(y_test,y_predic_cat_ej1))"
      ],
      "metadata": {
        "colab": {
          "base_uri": "https://localhost:8080/",
          "height": 624
        },
        "id": "OFH4tVFMIlqQ",
        "outputId": "b72d4584-d65e-4421-e8a4-da3c2cd7ccd9"
      },
      "execution_count": null,
      "outputs": [
        {
          "output_type": "stream",
          "name": "stdout",
          "text": [
            "514/514 [==============================] - 2s 4ms/step\n"
          ]
        },
        {
          "output_type": "display_data",
          "data": {
            "text/plain": [
              "<Figure size 640x480 with 2 Axes>"
            ],
            "image/png": "[encoded data removed]"
          },
          "metadata": {}
        },
        {
          "output_type": "stream",
          "name": "stdout",
          "text": [
            "              precision    recall  f1-score   support\n",
            "\n",
            "           0       0.78      0.89      0.83      8233\n",
            "           1       0.87      0.74      0.80      8185\n",
            "\n",
            "    accuracy                           0.82     16418\n",
            "   macro avg       0.83      0.82      0.82     16418\n",
            "weighted avg       0.83      0.82      0.82     16418\n",
            "\n"
          ]
        }
      ]
    },
    {
      "cell_type": "code",
      "source": [
        "modelo_hotel.save(\"model.h5\")"
      ],
      "metadata": {
        "id": "H0XC9VGWejvE"
      },
      "execution_count": null,
      "outputs": []
    },
    {
      "cell_type": "code",
      "source": [
        "nuevo_modelo = keras.models.load_model(\"model.h5\")\n",
        "nuevo_modelo.predict(x_test)"
      ],
      "metadata": {
        "colab": {
          "base_uri": "https://localhost:8080/"
        },
        "id": "xs5N-l8upI2c",
        "outputId": "4bdb5438-cff2-401e-af02-376aedf6755d"
      },
      "execution_count": null,
      "outputs": [
        {
          "output_type": "stream",
          "name": "stdout",
          "text": [
            "514/514 [==============================] - 1s 2ms/step\n"
          ]
        },
        {
          "output_type": "execute_result",
          "data": {
            "text/plain": [
              "array([[3.5533860e-01],\n",
              "       [2.2716051e-01],\n",
              "       [1.2512550e-07],\n",
              "       ...,\n",
              "       [8.6756414e-03],\n",
              "       [9.9793959e-01],\n",
              "       [1.5920493e-01]], dtype=float32)"
            ]
          },
          "metadata": {},
          "execution_count": 161
        }
      ]
    },
    {
      "cell_type": "code",
      "source": [
        "df_test.info()"
      ],
      "metadata": {
        "colab": {
          "base_uri": "https://localhost:8080/"
        },
        "id": "IeF8WGAu_Gzh",
        "outputId": "6715e146-63e9-47f0-e8bc-7c005f9e481f"
      },
      "execution_count": null,
      "outputs": [
        {
          "output_type": "stream",
          "name": "stdout",
          "text": [
            "<class 'pandas.core.frame.DataFrame'>\n",
            "RangeIndex: 26535 entries, 0 to 26534\n",
            "Columns: 107 entries, lead_time to country_otro\n",
            "dtypes: float64(15), int64(2), uint8(90)\n",
            "memory usage: 5.7 MB\n"
          ]
        }
      ]
    },
    {
      "cell_type": "code",
      "source": [
        "y_predict = modelo_hotel.predict(df_test)\n",
        "y_predict_cat_ej1 = np.where(y_predict>0.6,1,0)\n",
        "\n",
        "submit =  pd.DataFrame(zip(test_id,y_predict_cat_ej1),columns=['id','is_canceled'])\n",
        "#submit[is_canceled]\n",
        "\n",
        "#submit.to_csv('./random_forest_submit.csv',index=False)  "
      ],
      "metadata": {
        "colab": {
          "base_uri": "https://localhost:8080/"
        },
        "id": "8dmAwuGZ4OyI",
        "outputId": "dff43cbb-c361-4511-cb9f-77c7e46b37d3"
      },
      "execution_count": null,
      "outputs": [
        {
          "output_type": "stream",
          "name": "stdout",
          "text": [
            "830/830 [==============================] - 2s 2ms/step\n"
          ]
        }
      ]
    },
    {
      "cell_type": "code",
      "source": [
        "len(y_predict)"
      ],
      "metadata": {
        "colab": {
          "base_uri": "https://localhost:8080/"
        },
        "id": "4LCJfXqOND7o",
        "outputId": "9473abfe-14f9-4273-ea63-e0693236e606"
      },
      "execution_count": null,
      "outputs": [
        {
          "output_type": "execute_result",
          "data": {
            "text/plain": [
              "26535"
            ]
          },
          "metadata": {},
          "execution_count": 154
        }
      ]
    },
    {
      "cell_type": "code",
      "source": [
        "submit['is_canceled'] = submit['is_canceled'].astype(int)\n",
        "submit"
      ],
      "metadata": {
        "colab": {
          "base_uri": "https://localhost:8080/",
          "height": 424
        },
        "id": "tiQ7Haqk9PM4",
        "outputId": "9408ecd6-e66a-4495-f20a-8ec75cff4c3b"
      },
      "execution_count": null,
      "outputs": [
        {
          "output_type": "execute_result",
          "data": {
            "text/plain": [
              "                                         id  is_canceled\n",
              "0      e6d0d58a-ab96-44d3-b28f-85df1cc15f1e            1\n",
              "1      aba9aac2-4495-4645-a60e-90328713c999            0\n",
              "2      b345b5dc-c804-4d77-a39f-1f4e65d1f1ad            0\n",
              "3      ce1b400e-afa1-4946-bdff-004b859eb61c            1\n",
              "4      c4fbec0d-8e2e-4db2-9d4f-a6ccb9f51214            1\n",
              "...                                     ...          ...\n",
              "26530  636ccded-66ad-4538-8006-c0b9f84c6256            0\n",
              "26531  11e19741-bd28-4459-8ea3-184f1664000f            0\n",
              "26532  36a4c7b0-d6b1-4528-93db-311be96ec1c6            1\n",
              "26533  89c85fa5-2b3d-4131-844c-e151a65ca240            1\n",
              "26534  bd4e9eee-f28e-4a53-b4a1-277426efbcee            0\n",
              "\n",
              "[26535 rows x 2 columns]"
            ],
            "text/html": [
              "\n",
              "  <div id=\"df-9c7662ed-0f18-4d67-a9f8-f74349458e55\">\n",
              "    <div class=\"colab-df-container\">\n",
              "      <div>\n",
              "<style scoped>\n",
              "    .dataframe tbody tr th:only-of-type {\n",
              "        vertical-align: middle;\n",
              "    }\n",
              "\n",
              "    .dataframe tbody tr th {\n",
              "        vertical-align: top;\n",
              "    }\n",
              "\n",
              "    .dataframe thead th {\n",
              "        text-align: right;\n",
              "    }\n",
              "</style>\n",
              "<table border=\"1\" class=\"dataframe\">\n",
              "  <thead>\n",
              "    <tr style=\"text-align: right;\">\n",
              "      <th></th>\n",
              "      <th>id</th>\n",
              "      <th>is_canceled</th>\n",
              "    </tr>\n",
              "  </thead>\n",
              "  <tbody>\n",
              "    <tr>\n",
              "      <th>0</th>\n",
              "      <td>e6d0d58a-ab96-44d3-b28f-85df1cc15f1e</td>\n",
              "      <td>1</td>\n",
              "    </tr>\n",
              "    <tr>\n",
              "      <th>1</th>\n",
              "      <td>aba9aac2-4495-4645-a60e-90328713c999</td>\n",
              "      <td>0</td>\n",
              "    </tr>\n",
              "    <tr>\n",
              "      <th>2</th>\n",
              "      <td>b345b5dc-c804-4d77-a39f-1f4e65d1f1ad</td>\n",
              "      <td>0</td>\n",
              "    </tr>\n",
              "    <tr>\n",
              "      <th>3</th>\n",
              "      <td>ce1b400e-afa1-4946-bdff-004b859eb61c</td>\n",
              "      <td>1</td>\n",
              "    </tr>\n",
              "    <tr>\n",
              "      <th>4</th>\n",
              "      <td>c4fbec0d-8e2e-4db2-9d4f-a6ccb9f51214</td>\n",
              "      <td>1</td>\n",
              "    </tr>\n",
              "    <tr>\n",
              "      <th>...</th>\n",
              "      <td>...</td>\n",
              "      <td>...</td>\n",
              "    </tr>\n",
              "    <tr>\n",
              "      <th>26530</th>\n",
              "      <td>636ccded-66ad-4538-8006-c0b9f84c6256</td>\n",
              "      <td>0</td>\n",
              "    </tr>\n",
              "    <tr>\n",
              "      <th>26531</th>\n",
              "      <td>11e19741-bd28-4459-8ea3-184f1664000f</td>\n",
              "      <td>0</td>\n",
              "    </tr>\n",
              "    <tr>\n",
              "      <th>26532</th>\n",
              "      <td>36a4c7b0-d6b1-4528-93db-311be96ec1c6</td>\n",
              "      <td>1</td>\n",
              "    </tr>\n",
              "    <tr>\n",
              "      <th>26533</th>\n",
              "      <td>89c85fa5-2b3d-4131-844c-e151a65ca240</td>\n",
              "      <td>1</td>\n",
              "    </tr>\n",
              "    <tr>\n",
              "      <th>26534</th>\n",
              "      <td>bd4e9eee-f28e-4a53-b4a1-277426efbcee</td>\n",
              "      <td>0</td>\n",
              "    </tr>\n",
              "  </tbody>\n",
              "</table>\n",
              "<p>26535 rows × 2 columns</p>\n",
              "</div>\n",
              "      <button class=\"colab-df-convert\" onclick=\"convertToInteractive('df-9c7662ed-0f18-4d67-a9f8-f74349458e55')\"\n",
              "              title=\"Convert this dataframe to an interactive table.\"\n",
              "              style=\"display:none;\">\n",
              "        \n",
              "  <svg xmlns=\"http://www.w3.org/2000/svg\" height=\"24px\"viewBox=\"0 0 24 24\"\n",
              "       width=\"24px\">\n",
              "    <path d=\"M0 0h24v24H0V0z\" fill=\"none\"/>\n",
              "    <path d=\"M18.56 5.44l.94 2.06.94-2.06 2.06-.94-2.06-.94-.94-2.06-.94 2.06-2.06.94zm-11 1L8.5 8.5l.94-2.06 2.06-.94-2.06-.94L8.5 2.5l-.94 2.06-2.06.94zm10 10l.94 2.06.94-2.06 2.06-.94-2.06-.94-.94-2.06-.94 2.06-2.06.94z\"/><path d=\"M17.41 7.96l-1.37-1.37c-.4-.4-.92-.59-1.43-.59-.52 0-1.04.2-1.43.59L10.3 9.45l-7.72 7.72c-.78.78-.78 2.05 0 2.83L4 21.41c.39.39.9.59 1.41.59.51 0 1.02-.2 1.41-.59l7.78-7.78 2.81-2.81c.8-.78.8-2.07 0-2.86zM5.41 20L4 18.59l7.72-7.72 1.47 1.35L5.41 20z\"/>\n",
              "  </svg>\n",
              "      </button>\n",
              "      \n",
              "  <style>\n",
              "    .colab-df-container {\n",
              "      display:flex;\n",
              "      flex-wrap:wrap;\n",
              "      gap: 12px;\n",
              "    }\n",
              "\n",
              "    .colab-df-convert {\n",
              "      background-color: #E8F0FE;\n",
              "      border: none;\n",
              "      border-radius: 50%;\n",
              "      cursor: pointer;\n",
              "      display: none;\n",
              "      fill: #1967D2;\n",
              "      height: 32px;\n",
              "      padding: 0 0 0 0;\n",
              "      width: 32px;\n",
              "    }\n",
              "\n",
              "    .colab-df-convert:hover {\n",
              "      background-color: #E2EBFA;\n",
              "      box-shadow: 0px 1px 2px rgba(60, 64, 67, 0.3), 0px 1px 3px 1px rgba(60, 64, 67, 0.15);\n",
              "      fill: #174EA6;\n",
              "    }\n",
              "\n",
              "    [theme=dark] .colab-df-convert {\n",
              "      background-color: #3B4455;\n",
              "      fill: #D2E3FC;\n",
              "    }\n",
              "\n",
              "    [theme=dark] .colab-df-convert:hover {\n",
              "      background-color: #434B5C;\n",
              "      box-shadow: 0px 1px 3px 1px rgba(0, 0, 0, 0.15);\n",
              "      filter: drop-shadow(0px 1px 2px rgba(0, 0, 0, 0.3));\n",
              "      fill: #FFFFFF;\n",
              "    }\n",
              "  </style>\n",
              "\n",
              "      <script>\n",
              "        const buttonEl =\n",
              "          document.querySelector('#df-9c7662ed-0f18-4d67-a9f8-f74349458e55 button.colab-df-convert');\n",
              "        buttonEl.style.display =\n",
              "          google.colab.kernel.accessAllowed ? 'block' : 'none';\n",
              "\n",
              "        async function convertToInteractive(key) {\n",
              "          const element = document.querySelector('#df-9c7662ed-0f18-4d67-a9f8-f74349458e55');\n",
              "          const dataTable =\n",
              "            await google.colab.kernel.invokeFunction('convertToInteractive',\n",
              "                                                     [key], {});\n",
              "          if (!dataTable) return;\n",
              "\n",
              "          const docLinkHtml = 'Like what you see? Visit the ' +\n",
              "            '<a target=\"_blank\" href=https://colab.research.google.com/notebooks/data_table.ipynb>data table notebook</a>'\n",
              "            + ' to learn more about interactive tables.';\n",
              "          element.innerHTML = '';\n",
              "          dataTable['output_type'] = 'display_data';\n",
              "          await google.colab.output.renderOutput(dataTable, element);\n",
              "          const docLink = document.createElement('div');\n",
              "          docLink.innerHTML = docLinkHtml;\n",
              "          element.appendChild(docLink);\n",
              "        }\n",
              "      </script>\n",
              "    </div>\n",
              "  </div>\n",
              "  "
            ]
          },
          "metadata": {},
          "execution_count": 155
        }
      ]
    },
    {
      "cell_type": "code",
      "source": [
        "submit.to_csv('./red_neuronal_submit.csv',index=False)  "
      ],
      "metadata": {
        "id": "P4NqAT2F9_7n"
      },
      "execution_count": null,
      "outputs": []
    },
    {
      "cell_type": "markdown",
      "source": [
        "#\"Visualizacion\""
      ],
      "metadata": {
        "id": "0hHgoM8NG_aw"
      }
    },
    {
      "cell_type": "code",
      "source": [
        "epochs = range(len(modelo_hotel_hitoria.history['auc']))\n",
        "\n",
        "plt.plot(epochs, modelo_hotel_hitoria.history['auc'], color='orange', label='AUC')\n",
        "plt.xlabel(\"epochs\")\n",
        "plt.ylabel(\"AUC\")\n",
        "plt.legend()"
      ],
      "metadata": {
        "colab": {
          "base_uri": "https://localhost:8080/",
          "height": 470
        },
        "id": "DOePUZyLG_Bo",
        "outputId": "723d8dd4-002c-4aa0-e90c-8afe85e92194"
      },
      "execution_count": null,
      "outputs": [
        {
          "output_type": "execute_result",
          "data": {
            "text/plain": [
              "<matplotlib.legend.Legend at 0x7f63a9986c50>"
            ]
          },
          "metadata": {},
          "execution_count": 156
        },
        {
          "output_type": "display_data",
          "data": {
            "text/plain": [
              "<Figure size 640x480 with 1 Axes>"
            ],
            "image/png": "[encoded data removed]"
          },
          "metadata": {}
        }
      ]
    },
    {
      "cell_type": "code",
      "source": [
        "plt.plot(epochs, modelo_hotel_hitoria.history['loss'], color='blue', label='Loss')\n",
        "plt.xlabel(\"epochs\")\n",
        "plt.ylabel(\"Loss\")\n",
        "plt.legend()"
      ],
      "metadata": {
        "colab": {
          "base_uri": "https://localhost:8080/",
          "height": 466
        },
        "id": "5DFYP9BhIoyw",
        "outputId": "1c0a74db-3ea4-4f3c-ed1b-97c0cbd3c11f"
      },
      "execution_count": null,
      "outputs": [
        {
          "output_type": "execute_result",
          "data": {
            "text/plain": [
              "<matplotlib.legend.Legend at 0x7f63a9986710>"
            ]
          },
          "metadata": {},
          "execution_count": 157
        },
        {
          "output_type": "display_data",
          "data": {
            "text/plain": [
              "<Figure size 640x480 with 1 Axes>"
            ],
            "image/png": "[encoded data removed]"
          },
          "metadata": {}
        }
      ]
    }
  ]
}